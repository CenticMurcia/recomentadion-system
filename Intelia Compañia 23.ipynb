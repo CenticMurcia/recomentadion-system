{
 "cells": [
  {
   "cell_type": "markdown",
   "id": "ba4f7e4d",
   "metadata": {},
   "source": [
    "- https://albertauyeung.github.io/2017/04/23/python-matrix-factorization.html"
   ]
  },
  {
   "cell_type": "markdown",
   "id": "cfca7959",
   "metadata": {},
   "source": [
    "# Imports"
   ]
  },
  {
   "cell_type": "code",
   "execution_count": 1,
   "id": "8e96b797",
   "metadata": {},
   "outputs": [],
   "source": [
    "import numpy as np\n",
    "import pandas as pd\n",
    "import matplotlib.pyplot as plt"
   ]
  },
  {
   "cell_type": "markdown",
   "id": "a1afe13f",
   "metadata": {},
   "source": [
    "# Datios Intelia"
   ]
  },
  {
   "cell_type": "code",
   "execution_count": 2,
   "id": "02e3b1c1",
   "metadata": {},
   "outputs": [
    {
     "name": "stdout",
     "output_type": "stream",
     "text": [
      "customers.csv  products.csv  relation.csv\r\n"
     ]
    }
   ],
   "source": [
    "!ls data"
   ]
  },
  {
   "cell_type": "code",
   "execution_count": 3,
   "id": "32cf6862",
   "metadata": {},
   "outputs": [
    {
     "name": "stderr",
     "output_type": "stream",
     "text": [
      "/tmp/ipykernel_667/3077265193.py:3: DtypeWarning: Columns (7,9,10,11,12,13,17,18,21,26,27,28,30,36) have mixed types. Specify dtype option on import or set low_memory=False.\n",
      "  users = pd.read_csv(dataPath + \"customers.csv\")\n",
      "/tmp/ipykernel_667/3077265193.py:4: DtypeWarning: Columns (20,32,34,39) have mixed types. Specify dtype option on import or set low_memory=False.\n",
      "  items = pd.read_csv(dataPath + \"products.csv\")\n"
     ]
    }
   ],
   "source": [
    "dataPath = \"data/\"\n",
    "\n",
    "users = pd.read_csv(dataPath + \"customers.csv\")\n",
    "items = pd.read_csv(dataPath + \"products.csv\")\n",
    "pairs = pd.read_csv(dataPath + \"relation.csv\")"
   ]
  },
  {
   "cell_type": "markdown",
   "id": "c573a22c",
   "metadata": {},
   "source": [
    "# Compañía 23"
   ]
  },
  {
   "cell_type": "code",
   "execution_count": 4,
   "id": "3c2aeeb4",
   "metadata": {},
   "outputs": [],
   "source": [
    "pairs = pairs[ pairs.company_id == 23].copy()\n",
    "users = users[ users.company_id == 23].copy()\n",
    "items = items[ items.company_id == 23].copy()"
   ]
  },
  {
   "cell_type": "markdown",
   "id": "fd334ea4",
   "metadata": {},
   "source": [
    "# <center> Train with fast.ai"
   ]
  },
  {
   "cell_type": "code",
   "execution_count": 5,
   "id": "f89bfda5",
   "metadata": {},
   "outputs": [],
   "source": [
    "from recommenderSystemFastai import RecSysFastai"
   ]
  },
  {
   "cell_type": "code",
   "execution_count": 6,
   "id": "d8feb1e7",
   "metadata": {},
   "outputs": [],
   "source": [
    "rs = RecSysFastai(pairs)"
   ]
  },
  {
   "cell_type": "code",
   "execution_count": 7,
   "id": "41e18ea2",
   "metadata": {},
   "outputs": [
    {
     "data": {
      "text/plain": [
       "<AxesSubplot:ylabel='Frequency'>"
      ]
     },
     "execution_count": 7,
     "metadata": {},
     "output_type": "execute_result"
    },
    {
     "data": {
      "image/png": "[encoded data removed]",
      "text/plain": [
       "<Figure size 640x480 with 1 Axes>"
      ]
     },
     "metadata": {},
     "output_type": "display_data"
    }
   ],
   "source": [
    "rs.df.peso.plot.hist(bins=50)"
   ]
  },
  {
   "cell_type": "code",
   "execution_count": 8,
   "id": "88ae31b7",
   "metadata": {},
   "outputs": [
    {
     "data": {
      "text/html": [
       "\n",
       "<style>\n",
       "    /* Turns off some styling */\n",
       "    progress {\n",
       "        /* gets rid of default border in Firefox and Opera. */\n",
       "        border: none;\n",
       "        /* Needs to be in here for Safari polyfill so background images work as expected. */\n",
       "        background-size: auto;\n",
       "    }\n",
       "    progress:not([value]), progress:not([value])::-webkit-progress-bar {\n",
       "        background: repeating-linear-gradient(45deg, #7e7e7e, #7e7e7e 10px, #5c5c5c 10px, #5c5c5c 20px);\n",
       "    }\n",
       "    .progress-bar-interrupted, .progress-bar-interrupted::-webkit-progress-bar {\n",
       "        background: #F44336;\n",
       "    }\n",
       "</style>\n"
      ],
      "text/plain": [
       "<IPython.core.display.HTML object>"
      ]
     },
     "metadata": {},
     "output_type": "display_data"
    },
    {
     "data": {
      "text/html": [
       "<table border=\"1\" class=\"dataframe\">\n",
       "  <thead>\n",
       "    <tr style=\"text-align: left;\">\n",
       "      <th>epoch</th>\n",
       "      <th>train_loss</th>\n",
       "      <th>valid_loss</th>\n",
       "      <th>mae</th>\n",
       "      <th>time</th>\n",
       "    </tr>\n",
       "  </thead>\n",
       "  <tbody>\n",
       "    <tr>\n",
       "      <td>0</td>\n",
       "      <td>0.321107</td>\n",
       "      <td>0.303288</td>\n",
       "      <td>0.347003</td>\n",
       "      <td>00:04</td>\n",
       "    </tr>\n",
       "    <tr>\n",
       "      <td>1</td>\n",
       "      <td>0.248994</td>\n",
       "      <td>0.276115</td>\n",
       "      <td>0.334609</td>\n",
       "      <td>00:04</td>\n",
       "    </tr>\n",
       "    <tr>\n",
       "      <td>2</td>\n",
       "      <td>0.149933</td>\n",
       "      <td>0.280831</td>\n",
       "      <td>0.345401</td>\n",
       "      <td>00:04</td>\n",
       "    </tr>\n",
       "    <tr>\n",
       "      <td>3</td>\n",
       "      <td>0.079485</td>\n",
       "      <td>0.280596</td>\n",
       "      <td>0.343650</td>\n",
       "      <td>00:04</td>\n",
       "    </tr>\n",
       "    <tr>\n",
       "      <td>4</td>\n",
       "      <td>0.043152</td>\n",
       "      <td>0.281384</td>\n",
       "      <td>0.344921</td>\n",
       "      <td>00:04</td>\n",
       "    </tr>\n",
       "  </tbody>\n",
       "</table>"
      ],
      "text/plain": [
       "<IPython.core.display.HTML object>"
      ]
     },
     "metadata": {},
     "output_type": "display_data"
    }
   ],
   "source": [
    "rs.entrenar_modelo(valid_pct=0.2)"
   ]
  },
  {
   "cell_type": "code",
   "execution_count": 9,
   "id": "9ffae41a",
   "metadata": {},
   "outputs": [
    {
     "data": {
      "text/html": [
       "\n",
       "<style>\n",
       "    /* Turns off some styling */\n",
       "    progress {\n",
       "        /* gets rid of default border in Firefox and Opera. */\n",
       "        border: none;\n",
       "        /* Needs to be in here for Safari polyfill so background images work as expected. */\n",
       "        background-size: auto;\n",
       "    }\n",
       "    progress:not([value]), progress:not([value])::-webkit-progress-bar {\n",
       "        background: repeating-linear-gradient(45deg, #7e7e7e, #7e7e7e 10px, #5c5c5c 10px, #5c5c5c 20px);\n",
       "    }\n",
       "    .progress-bar-interrupted, .progress-bar-interrupted::-webkit-progress-bar {\n",
       "        background: #F44336;\n",
       "    }\n",
       "</style>\n"
      ],
      "text/plain": [
       "<IPython.core.display.HTML object>"
      ]
     },
     "metadata": {},
     "output_type": "display_data"
    },
    {
     "data": {
      "text/html": [
       "<table border=\"1\" class=\"dataframe\">\n",
       "  <thead>\n",
       "    <tr style=\"text-align: left;\">\n",
       "      <th>epoch</th>\n",
       "      <th>train_loss</th>\n",
       "      <th>valid_loss</th>\n",
       "      <th>mae</th>\n",
       "      <th>time</th>\n",
       "    </tr>\n",
       "  </thead>\n",
       "  <tbody>\n",
       "    <tr>\n",
       "      <td>0</td>\n",
       "      <td>0.300356</td>\n",
       "      <td>None</td>\n",
       "      <td>None</td>\n",
       "      <td>00:04</td>\n",
       "    </tr>\n",
       "    <tr>\n",
       "      <td>1</td>\n",
       "      <td>0.266344</td>\n",
       "      <td>None</td>\n",
       "      <td>None</td>\n",
       "      <td>00:04</td>\n",
       "    </tr>\n",
       "    <tr>\n",
       "      <td>2</td>\n",
       "      <td>0.168183</td>\n",
       "      <td>None</td>\n",
       "      <td>None</td>\n",
       "      <td>00:04</td>\n",
       "    </tr>\n",
       "    <tr>\n",
       "      <td>3</td>\n",
       "      <td>0.092178</td>\n",
       "      <td>None</td>\n",
       "      <td>None</td>\n",
       "      <td>00:04</td>\n",
       "    </tr>\n",
       "    <tr>\n",
       "      <td>4</td>\n",
       "      <td>0.054893</td>\n",
       "      <td>None</td>\n",
       "      <td>None</td>\n",
       "      <td>00:04</td>\n",
       "    </tr>\n",
       "  </tbody>\n",
       "</table>"
      ],
      "text/plain": [
       "<IPython.core.display.HTML object>"
      ]
     },
     "metadata": {},
     "output_type": "display_data"
    },
    {
     "name": "stderr",
     "output_type": "stream",
     "text": [
      "/home/javi/.local/lib/python3.10/site-packages/fastprogress/fastprogress.py:73: UserWarning: Your generator is empty.\n",
      "  warn(\"Your generator is empty.\")\n",
      "/home/javi/.local/lib/python3.10/site-packages/fastprogress/fastprogress.py:73: UserWarning: Your generator is empty.\n",
      "  warn(\"Your generator is empty.\")\n",
      "/home/javi/.local/lib/python3.10/site-packages/fastprogress/fastprogress.py:73: UserWarning: Your generator is empty.\n",
      "  warn(\"Your generator is empty.\")\n",
      "/home/javi/.local/lib/python3.10/site-packages/fastprogress/fastprogress.py:73: UserWarning: Your generator is empty.\n",
      "  warn(\"Your generator is empty.\")\n",
      "/home/javi/.local/lib/python3.10/site-packages/fastprogress/fastprogress.py:73: UserWarning: Your generator is empty.\n",
      "  warn(\"Your generator is empty.\")\n"
     ]
    }
   ],
   "source": [
    "rs.entrenar_modelo(valid_pct=0)"
   ]
  },
  {
   "cell_type": "markdown",
   "id": "e8b47056",
   "metadata": {},
   "source": [
    "### Ver id usuarios"
   ]
  },
  {
   "cell_type": "code",
   "execution_count": 10,
   "id": "af252573",
   "metadata": {},
   "outputs": [
    {
     "data": {
      "text/plain": [
       "(#10) ['#na#',101038,101039,101040,101041,101042,101043,101045,101046,101047]"
      ]
     },
     "execution_count": 10,
     "metadata": {},
     "output_type": "execute_result"
    }
   ],
   "source": [
    "rs.users[:10]"
   ]
  },
  {
   "cell_type": "markdown",
   "id": "2d9085e4",
   "metadata": {},
   "source": [
    "### Ver id porductos"
   ]
  },
  {
   "cell_type": "code",
   "execution_count": 11,
   "id": "bb9e5443",
   "metadata": {},
   "outputs": [
    {
     "data": {
      "text/plain": [
       "(#10) ['#na#',28883,28888,28890,28891,28892,28893,28894,28895,28897]"
      ]
     },
     "execution_count": 11,
     "metadata": {},
     "output_type": "execute_result"
    }
   ],
   "source": [
    "rs.items[:10]"
   ]
  },
  {
   "cell_type": "markdown",
   "id": "2557eb60",
   "metadata": {},
   "source": [
    "### Sugerencias (ids de producto) para un usario concreto."
   ]
  },
  {
   "cell_type": "code",
   "execution_count": 12,
   "id": "312b5b1a",
   "metadata": {},
   "outputs": [
    {
     "data": {
      "text/plain": [
       "(#2) [57610,52155]"
      ]
     },
     "execution_count": 12,
     "metadata": {},
     "output_type": "execute_result"
    }
   ],
   "source": [
    "rs.sugerirProdutos(user_ids=[101038], limit=0.5)"
   ]
  },
  {
   "cell_type": "markdown",
   "id": "e5de4f28",
   "metadata": {},
   "source": [
    "### Sugerencias (ids de producto) para ciertos usarios filtrados."
   ]
  },
  {
   "cell_type": "code",
   "execution_count": 13,
   "id": "9bc717be",
   "metadata": {},
   "outputs": [
    {
     "data": {
      "text/plain": [
       "(#0) []"
      ]
     },
     "execution_count": 13,
     "metadata": {},
     "output_type": "execute_result"
    }
   ],
   "source": [
    "rs.sugerirProdutos(user_ids=[101038,101039,101040], limit=0.5)"
   ]
  },
  {
   "cell_type": "markdown",
   "id": "311c1091",
   "metadata": {},
   "source": [
    "### Audiencia (ids de usuarios) para un producto concreto."
   ]
  },
  {
   "cell_type": "code",
   "execution_count": 14,
   "id": "bfcdd284",
   "metadata": {},
   "outputs": [
    {
     "data": {
      "text/plain": [
       "(#0) []"
      ]
     },
     "execution_count": 14,
     "metadata": {},
     "output_type": "execute_result"
    }
   ],
   "source": [
    "rs.adienciaUsuaros(item_ids=[28883], limit=0.88)"
   ]
  },
  {
   "cell_type": "markdown",
   "id": "16db58f6",
   "metadata": {},
   "source": [
    "### Audiencia (ids de usuarios) para ciertos productos filtrados."
   ]
  },
  {
   "cell_type": "code",
   "execution_count": 15,
   "id": "3da6214c",
   "metadata": {},
   "outputs": [
    {
     "data": {
      "text/plain": [
       "(#2417) [102964,113848,107716,120575,118897,102474,519025,114131,118627,114889...]"
      ]
     },
     "execution_count": 15,
     "metadata": {},
     "output_type": "execute_result"
    }
   ],
   "source": [
    "rs.adienciaUsuaros(item_ids=[28883,28888,28890], limit=0.2)"
   ]
  },
  {
   "cell_type": "markdown",
   "id": "54e0895c",
   "metadata": {},
   "source": [
    "### Ids de producto que normalmente se compran junto a este producto."
   ]
  },
  {
   "cell_type": "code",
   "execution_count": 16,
   "id": "afaadcfc",
   "metadata": {},
   "outputs": [
    {
     "data": {
      "text/plain": [
       "(#443) [28883,28959,57755,55086,53325,56734,51889,55809,50550,54931...]"
      ]
     },
     "execution_count": 16,
     "metadata": {},
     "output_type": "execute_result"
    }
   ],
   "source": [
    "rs.productos_parecidos(item_ids=[28883], limit=0.3)"
   ]
  },
  {
   "cell_type": "markdown",
   "id": "2aa70154",
   "metadata": {},
   "source": [
    "---\n",
    "# <center> Train with SGD from scratch"
   ]
  },
  {
   "cell_type": "code",
   "execution_count": 17,
   "id": "34d3840f",
   "metadata": {},
   "outputs": [],
   "source": [
    "from recommenderSystem import RecSys"
   ]
  },
  {
   "cell_type": "code",
   "execution_count": 18,
   "id": "5701e1f5",
   "metadata": {},
   "outputs": [],
   "source": [
    "rs2 = RecSys(pairs, users, items, userName=\"customer_id\", itemName=\"product_id\", scoreName=\"peso\")"
   ]
  },
  {
   "cell_type": "code",
   "execution_count": 19,
   "id": "131d9f96",
   "metadata": {},
   "outputs": [],
   "source": [
    "#rs2.draw_matrix()"
   ]
  },
  {
   "cell_type": "code",
   "execution_count": 20,
   "id": "c3e4d67b",
   "metadata": {},
   "outputs": [
    {
     "name": "stdout",
     "output_type": "stream",
     "text": [
      "Epoch: 1 ; trMAE = 0.2745 trMSE = 0.2480 valMAE = 0.5085 valMSE = 0.5376\n",
      "Epoch: 2 ; trMAE = 0.2750 trMSE = 0.2326 valMAE = 0.5001 valMSE = 0.5205\n",
      "Epoch: 3 ; trMAE = 0.2754 trMSE = 0.2235 valMAE = 0.4952 valMSE = 0.5109\n",
      "Epoch: 4 ; trMAE = 0.2746 trMSE = 0.2172 valMAE = 0.4908 valMSE = 0.5035\n",
      "Epoch: 5 ; trMAE = 0.2738 trMSE = 0.2123 valMAE = 0.4884 valMSE = 0.4986\n",
      "Epoch: 6 ; trMAE = 0.2726 trMSE = 0.2085 valMAE = 0.4854 valMSE = 0.4928\n",
      "Epoch: 7 ; trMAE = 0.2706 trMSE = 0.2052 valMAE = 0.4841 valMSE = 0.4908\n",
      "Epoch: 8 ; trMAE = 0.2706 trMSE = 0.2028 valMAE = 0.4831 valMSE = 0.4874\n",
      "Epoch: 9 ; trMAE = 0.2721 trMSE = 0.2004 valMAE = 0.4840 valMSE = 0.4886\n",
      "Epoch: 10 ; trMAE = 0.2720 trMSE = 0.1984 valMAE = 0.4837 valMSE = 0.4874\n",
      "Epoch: 11 ; trMAE = 0.2701 trMSE = 0.1965 valMAE = 0.4835 valMSE = 0.4870\n",
      "Epoch: 12 ; trMAE = 0.2694 trMSE = 0.1950 valMAE = 0.4828 valMSE = 0.4851\n",
      "Epoch: 13 ; trMAE = 0.2681 trMSE = 0.1936 valMAE = 0.4826 valMSE = 0.4845\n",
      "Epoch: 14 ; trMAE = 0.2682 trMSE = 0.1923 valMAE = 0.4813 valMSE = 0.4821\n",
      "Epoch: 15 ; trMAE = 0.2680 trMSE = 0.1909 valMAE = 0.4807 valMSE = 0.4813\n",
      "Epoch: 16 ; trMAE = 0.2661 trMSE = 0.1899 valMAE = 0.4807 valMSE = 0.4810\n",
      "Epoch: 17 ; trMAE = 0.2672 trMSE = 0.1889 valMAE = 0.4803 valMSE = 0.4802\n",
      "Epoch: 18 ; trMAE = 0.2659 trMSE = 0.1878 valMAE = 0.4814 valMSE = 0.4818\n",
      "Epoch: 19 ; trMAE = 0.2673 trMSE = 0.1869 valMAE = 0.4815 valMSE = 0.4818\n",
      "Epoch: 20 ; trMAE = 0.2659 trMSE = 0.1862 valMAE = 0.4810 valMSE = 0.4810\n",
      "Epoch: 21 ; trMAE = 0.2657 trMSE = 0.1852 valMAE = 0.4804 valMSE = 0.4810\n",
      "Epoch: 22 ; trMAE = 0.2652 trMSE = 0.1845 valMAE = 0.4799 valMSE = 0.4797\n",
      "Epoch: 23 ; trMAE = 0.2650 trMSE = 0.1840 valMAE = 0.4824 valMSE = 0.4831\n",
      "Epoch: 24 ; trMAE = 0.2655 trMSE = 0.1833 valMAE = 0.4811 valMSE = 0.4805\n",
      "Epoch: 25 ; trMAE = 0.2644 trMSE = 0.1826 valMAE = 0.4801 valMSE = 0.4792\n",
      "Epoch: 26 ; trMAE = 0.2638 trMSE = 0.1821 valMAE = 0.4813 valMSE = 0.4807\n",
      "Epoch: 27 ; trMAE = 0.2651 trMSE = 0.1815 valMAE = 0.4806 valMSE = 0.4799\n",
      "Epoch: 28 ; trMAE = 0.2646 trMSE = 0.1808 valMAE = 0.4815 valMSE = 0.4813\n",
      "Epoch: 29 ; trMAE = 0.2642 trMSE = 0.1804 valMAE = 0.4803 valMSE = 0.4791\n",
      "Epoch: 30 ; trMAE = 0.2643 trMSE = 0.1799 valMAE = 0.4821 valMSE = 0.4814\n",
      "Epoch: 31 ; trMAE = 0.2632 trMSE = 0.1793 valMAE = 0.4817 valMSE = 0.4814\n",
      "Epoch: 32 ; trMAE = 0.2642 trMSE = 0.1789 valMAE = 0.4822 valMSE = 0.4810\n",
      "Epoch: 33 ; trMAE = 0.2624 trMSE = 0.1785 valMAE = 0.4802 valMSE = 0.4788\n",
      "Epoch: 34 ; trMAE = 0.2631 trMSE = 0.1778 valMAE = 0.4811 valMSE = 0.4798\n",
      "Epoch: 35 ; trMAE = 0.2626 trMSE = 0.1773 valMAE = 0.4796 valMSE = 0.4776\n",
      "Epoch: 36 ; trMAE = 0.2630 trMSE = 0.1767 valMAE = 0.4805 valMSE = 0.4796\n",
      "Epoch: 37 ; trMAE = 0.2631 trMSE = 0.1767 valMAE = 0.4802 valMSE = 0.4775\n",
      "Epoch: 38 ; trMAE = 0.2616 trMSE = 0.1758 valMAE = 0.4803 valMSE = 0.4791\n",
      "Epoch: 39 ; trMAE = 0.2617 trMSE = 0.1752 valMAE = 0.4808 valMSE = 0.4796\n",
      "Epoch: 40 ; trMAE = 0.2624 trMSE = 0.1749 valMAE = 0.4799 valMSE = 0.4774\n",
      "Epoch: 41 ; trMAE = 0.2611 trMSE = 0.1744 valMAE = 0.4815 valMSE = 0.4806\n",
      "Epoch: 42 ; trMAE = 0.2611 trMSE = 0.1739 valMAE = 0.4813 valMSE = 0.4799\n",
      "Epoch: 43 ; trMAE = 0.2610 trMSE = 0.1733 valMAE = 0.4799 valMSE = 0.4782\n",
      "Epoch: 44 ; trMAE = 0.2599 trMSE = 0.1729 valMAE = 0.4808 valMSE = 0.4791\n",
      "Epoch: 45 ; trMAE = 0.2606 trMSE = 0.1722 valMAE = 0.4807 valMSE = 0.4788\n",
      "Epoch: 46 ; trMAE = 0.2591 trMSE = 0.1718 valMAE = 0.4817 valMSE = 0.4796\n",
      "Epoch: 47 ; trMAE = 0.2591 trMSE = 0.1711 valMAE = 0.4821 valMSE = 0.4809\n",
      "Epoch: 48 ; trMAE = 0.2590 trMSE = 0.1706 valMAE = 0.4821 valMSE = 0.4803\n",
      "Epoch: 49 ; trMAE = 0.2584 trMSE = 0.1698 valMAE = 0.4804 valMSE = 0.4784\n",
      "Epoch: 50 ; trMAE = 0.2593 trMSE = 0.1693 valMAE = 0.4822 valMSE = 0.4806\n"
     ]
    }
   ],
   "source": [
    "split_idx = int(len(rs2.samples) * 0.8)\n",
    "#np.random.shuffle(self.samples)\n",
    "train_samples = rs2.samples[:split_idx]\n",
    "valid_samples = rs2.samples[split_idx:]\n",
    "\n",
    "train_log = rs2.entrenar_modelo_manualmente(\n",
    "    train_samples = train_samples,\n",
    "    valid_samples = valid_samples,\n",
    "    embSize = 50,\n",
    "    lr = 0.01,\n",
    "    wd = 0.1,\n",
    "    epochs=50)"
   ]
  },
  {
   "cell_type": "code",
   "execution_count": 21,
   "id": "de92467c",
   "metadata": {},
   "outputs": [
    {
     "data": {
      "image/png": "[encoded data removed]",
      "text/plain": [
       "<Figure size 1600x400 with 1 Axes>"
      ]
     },
     "metadata": {},
     "output_type": "display_data"
    },
    {
     "data": {
      "image/png": "[encoded data removed]",
      "text/plain": [
       "<Figure size 1600x400 with 1 Axes>"
      ]
     },
     "metadata": {},
     "output_type": "display_data"
    }
   ],
   "source": [
    "rs2.plot_training(train_log)"
   ]
  },
  {
   "cell_type": "code",
   "execution_count": 22,
   "id": "7d834c06",
   "metadata": {},
   "outputs": [
    {
     "name": "stdout",
     "output_type": "stream",
     "text": [
      "Epoch: 1 ; trMAE = 0.3146 trMSE = 0.2837\n",
      "Epoch: 2 ; trMAE = 0.3090 trMSE = 0.2633\n",
      "Epoch: 3 ; trMAE = 0.3067 trMSE = 0.2521\n",
      "Epoch: 4 ; trMAE = 0.3050 trMSE = 0.2445\n",
      "Epoch: 5 ; trMAE = 0.3047 trMSE = 0.2385\n",
      "Epoch: 6 ; trMAE = 0.3030 trMSE = 0.2339\n",
      "Epoch: 7 ; trMAE = 0.3013 trMSE = 0.2301\n",
      "Epoch: 8 ; trMAE = 0.3005 trMSE = 0.2270\n",
      "Epoch: 9 ; trMAE = 0.3002 trMSE = 0.2246\n",
      "Epoch: 10 ; trMAE = 0.2981 trMSE = 0.2223\n",
      "Epoch: 11 ; trMAE = 0.2978 trMSE = 0.2202\n",
      "Epoch: 12 ; trMAE = 0.2976 trMSE = 0.2183\n",
      "Epoch: 13 ; trMAE = 0.2963 trMSE = 0.2165\n",
      "Epoch: 14 ; trMAE = 0.2960 trMSE = 0.2153\n",
      "Epoch: 15 ; trMAE = 0.2953 trMSE = 0.2137\n",
      "Epoch: 16 ; trMAE = 0.2953 trMSE = 0.2127\n",
      "Epoch: 17 ; trMAE = 0.2946 trMSE = 0.2114\n",
      "Epoch: 18 ; trMAE = 0.2950 trMSE = 0.2104\n",
      "Epoch: 19 ; trMAE = 0.2945 trMSE = 0.2094\n",
      "Epoch: 20 ; trMAE = 0.2932 trMSE = 0.2084\n",
      "Epoch: 21 ; trMAE = 0.2938 trMSE = 0.2077\n",
      "Epoch: 22 ; trMAE = 0.2938 trMSE = 0.2070\n",
      "Epoch: 23 ; trMAE = 0.2925 trMSE = 0.2060\n",
      "Epoch: 24 ; trMAE = 0.2913 trMSE = 0.2052\n",
      "Epoch: 25 ; trMAE = 0.2911 trMSE = 0.2045\n",
      "Epoch: 26 ; trMAE = 0.2930 trMSE = 0.2043\n",
      "Epoch: 27 ; trMAE = 0.2929 trMSE = 0.2033\n",
      "Epoch: 28 ; trMAE = 0.2911 trMSE = 0.2026\n",
      "Epoch: 29 ; trMAE = 0.2909 trMSE = 0.2019\n",
      "Epoch: 30 ; trMAE = 0.2906 trMSE = 0.2013\n",
      "Epoch: 31 ; trMAE = 0.2900 trMSE = 0.2006\n",
      "Epoch: 32 ; trMAE = 0.2903 trMSE = 0.2001\n",
      "Epoch: 33 ; trMAE = 0.2892 trMSE = 0.1995\n",
      "Epoch: 34 ; trMAE = 0.2888 trMSE = 0.1989\n",
      "Epoch: 35 ; trMAE = 0.2890 trMSE = 0.1984\n",
      "Epoch: 36 ; trMAE = 0.2886 trMSE = 0.1977\n",
      "Epoch: 37 ; trMAE = 0.2883 trMSE = 0.1971\n",
      "Epoch: 38 ; trMAE = 0.2879 trMSE = 0.1965\n",
      "Epoch: 39 ; trMAE = 0.2871 trMSE = 0.1959\n",
      "Epoch: 40 ; trMAE = 0.2873 trMSE = 0.1954\n",
      "Epoch: 41 ; trMAE = 0.2866 trMSE = 0.1946\n",
      "Epoch: 42 ; trMAE = 0.2872 trMSE = 0.1940\n",
      "Epoch: 43 ; trMAE = 0.2866 trMSE = 0.1934\n",
      "Epoch: 44 ; trMAE = 0.2859 trMSE = 0.1926\n",
      "Epoch: 45 ; trMAE = 0.2849 trMSE = 0.1919\n",
      "Epoch: 46 ; trMAE = 0.2845 trMSE = 0.1913\n",
      "Epoch: 47 ; trMAE = 0.2861 trMSE = 0.1906\n",
      "Epoch: 48 ; trMAE = 0.2840 trMSE = 0.1900\n",
      "Epoch: 49 ; trMAE = 0.2831 trMSE = 0.1889\n",
      "Epoch: 50 ; trMAE = 0.2829 trMSE = 0.1879\n"
     ]
    }
   ],
   "source": [
    "train_log = rs2.entrenar_modelo_manualmente(\n",
    "    train_samples = rs2.samples,\n",
    "    valid_samples = None,\n",
    "    embSize = 50,\n",
    "    lr = 0.01,\n",
    "    wd = 0.1,\n",
    "    epochs=50)"
   ]
  },
  {
   "cell_type": "markdown",
   "id": "508cd2be",
   "metadata": {},
   "source": [
    "### Sugerencias (ids de producto) para un usario concreto."
   ]
  },
  {
   "cell_type": "code",
   "execution_count": 23,
   "id": "c5ad0cab",
   "metadata": {},
   "outputs": [
    {
     "data": {
      "text/plain": [
       "array([ 53117,  57238,  58052,  56062,  53388,  52979,  51741,  53907,\n",
       "        55794,  57084,  53496,  52756,  58066,  56613,  56329,  53465,\n",
       "        53705,  55274,  54622,  52637,  29028,  51519,  55320,  53766,\n",
       "        51603,  50737,  54815,  54304,  54413,  55250,  55277,  58391,\n",
       "        58229,  52363,  50402,  56899,  52950,  51834,  58429,  58492,\n",
       "        50940,  56323,  52769,  54023,  52162,  52841,  51540,  51938,\n",
       "        52473,  57718,  53116,  51527,  55396,  56139,  58286,  58904,\n",
       "        54295,  50483,  58149,  53666,  58414,  54392,  29098,  53239,\n",
       "        52333,  51332,  56612,  52741,  51913,  55868,  53118,  53015,\n",
       "       117245,  57681,  54873,  57016,  54213,  52468,  53041,  29150,\n",
       "        56255,  51329,  54827, 112476,  53473,  53126,  51405,  56246,\n",
       "        56465,  56928,  54176,  52102,  50405,  50429,  52241,  54883,\n",
       "        54310,  51386,  52962,  54084,  55963,  57371,  52974,  51302,\n",
       "        55511,  54047,  58289,  52922,  54195,  56837,  57147,  53625,\n",
       "        53992, 125287])"
      ]
     },
     "execution_count": 23,
     "metadata": {},
     "output_type": "execute_result"
    }
   ],
   "source": [
    "rs2.sugerirProds_a_usuarioConcreto(user_id=101038, limit=0.3)"
   ]
  },
  {
   "cell_type": "markdown",
   "id": "f30fdc34",
   "metadata": {},
   "source": [
    "### Sugerencias (ids de producto) para ciertos usarios filtrados."
   ]
  },
  {
   "cell_type": "code",
   "execution_count": 24,
   "id": "060a33f8",
   "metadata": {},
   "outputs": [
    {
     "data": {
      "text/plain": [
       "array([ 52979,  51332,  52333, 126823,  57319,  54326,  50506,  56465,\n",
       "        58052,  58405,  55794,  53431,  55868,  55401,  56917,  55732,\n",
       "        57433,  56468,  52841,  53806,  75602,  57599,  50646,  51304,\n",
       "        53015, 111022,  58904,  52120,  52189,  53766,  56632,  54913,\n",
       "        55806,  52950,  56809,  51415,  51550,  52019,  51548,  51385,\n",
       "        52058,  52157,  50690,  55320,  58611,  50599,  52705,  54413,\n",
       "        52983,  50444,  56613,  29173,  50804,  53496,  52880,  54957,\n",
       "        50635,  58680,  57719,  56433,  53633,  29165,  57992,  52086,\n",
       "        53130,  52316,  52637,  51913,  50423,  56124,  52151,  54939,\n",
       "        50391,  55027,  54310, 125324,  52160,  56342,  53388,  50791,\n",
       "        51296,  52822,  55545,  54304,  53478,  54431,  54671,  51799,\n",
       "        55490,  58876,  54047,  28894,  56777,  52662,  58286])"
      ]
     },
     "execution_count": 24,
     "metadata": {},
     "output_type": "execute_result"
    }
   ],
   "source": [
    "rs2.sugerirProds_a_usuariosFiltrados(user_ids=[101038,101039,101040], limit=0.3)"
   ]
  },
  {
   "cell_type": "markdown",
   "id": "0dd7913d",
   "metadata": {},
   "source": [
    "### Audiencia (ids de usuarios) para un producto concreto."
   ]
  },
  {
   "cell_type": "code",
   "execution_count": 25,
   "id": "9902a46f",
   "metadata": {},
   "outputs": [
    {
     "data": {
      "text/plain": [
       "array([101389, 109343, 113148, 530589, 106449, 101559, 104043, 121160,\n",
       "       113817, 115938, 116507, 101381, 110696, 111781, 104523, 111335,\n",
       "       105219, 106995, 108580, 119475, 109754, 104923, 101139, 102443,\n",
       "       102425, 103755, 107113, 106680, 101168, 102146, 111864, 117918,\n",
       "       120648, 119715, 106350, 109941, 105205, 104894, 105540, 119825,\n",
       "       140979, 109959, 109463])"
      ]
     },
     "execution_count": 25,
     "metadata": {},
     "output_type": "execute_result"
    }
   ],
   "source": [
    "rs2.adienciaUsuaros_de_productoConcreto(item_id=28883, limit=0.4)"
   ]
  },
  {
   "cell_type": "markdown",
   "id": "37c3f05a",
   "metadata": {},
   "source": [
    "### Audiencia (ids de usuarios) para ciertos productos filtrados."
   ]
  },
  {
   "cell_type": "code",
   "execution_count": 26,
   "id": "fa394150",
   "metadata": {},
   "outputs": [
    {
     "data": {
      "text/plain": [
       "array([105129, 115560, 102425, 165260, 102130, 102437, 101093, 536242,\n",
       "       113817, 107534, 102541, 115343, 113066, 113861, 115261, 105540,\n",
       "       116465, 110838, 112944, 117760, 103036, 101771, 121077, 107798,\n",
       "       109289])"
      ]
     },
     "execution_count": 26,
     "metadata": {},
     "output_type": "execute_result"
    }
   ],
   "source": [
    "rs2.adienciaUsuaros_de_productosFiltrados(item_ids=[28883,28888,28890], limit=0.4)"
   ]
  },
  {
   "cell_type": "markdown",
   "id": "e4bcc45e",
   "metadata": {},
   "source": [
    "### Ids de producto que normalmente se compran junto a este producto."
   ]
  },
  {
   "cell_type": "code",
   "execution_count": 27,
   "id": "597e9692",
   "metadata": {},
   "outputs": [
    {
     "data": {
      "text/plain": [
       "array([ 28883,  50452,  56723,  52909,  54674,  52196,  51481,  54129,\n",
       "        54725, 107216,  52199,  51886,  55036,  53289,  52963,  58307,\n",
       "        53456,  52388,  54205,  55947,  50619,  57154,  54930,  50516,\n",
       "        52288,  57182,  50674,  54379,  80089,  50553, 126752,  52728,\n",
       "        57929,  52357,  57391,  52107,  56626,  53699,  51953,  55927,\n",
       "        52197,  57338,  52232,  50570,  53199,  54237,  58825,  54246,\n",
       "        54200,  53835,  53643,  28924,  57571,  51918,  53039,  56197,\n",
       "        54429,  56316,  57519,  51622,  55707,  52116,  56277,  55315,\n",
       "        56018,  53294,  57416,  57083,  57111,  51763,  58499,  58143,\n",
       "        56617,  50441,  50432,  55533,  58530,  54698,  55810,  52101,\n",
       "        53800,  57732,  52252,  58085,  56504,  54762,  51448,  52788,\n",
       "        51802,  56699,  53069,  56727,  52924,  56336,  54610,  28964,\n",
       "        54223,  29003,  51832,  52679,  50931,  56978,  51578,  50740,\n",
       "        54792,  53006,  58142, 116538,  55582, 116411,  54022,  51737,\n",
       "        58697,  52646,  54811,  54973,  56471,  52115,  57050,  52794,\n",
       "        53364,  52131,  52215,  51596,  53656,  53530,  54637,  56716,\n",
       "        51480,  53238, 107217,  54352,  52143,  57994,  57607,  58240,\n",
       "        57515,  55592,  56844,  57079,  50492,  50373,  58535,  53802,\n",
       "        58081,  52929,  51499])"
      ]
     },
     "execution_count": 27,
     "metadata": {},
     "output_type": "execute_result"
    }
   ],
   "source": [
    "rs2.productos_parecidos(item_id=28883, limit=0.3)"
   ]
  }
 ],
 "metadata": {
  "kernelspec": {
   "display_name": "Python 3 (ipykernel)",
   "language": "python",
   "name": "python3"
  },
  "language_info": {
   "codemirror_mode": {
    "name": "ipython",
    "version": 3
   },
   "file_extension": ".py",
   "mimetype": "text/x-python",
   "name": "python",
   "nbconvert_exporter": "python",
   "pygments_lexer": "ipython3",
   "version": "3.10.8"
  }
 },
 "nbformat": 4,
 "nbformat_minor": 5
}
