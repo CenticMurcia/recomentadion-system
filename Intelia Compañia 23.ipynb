{
 "cells": [
  {
   "cell_type": "markdown",
   "id": "ba4f7e4d",
   "metadata": {},
   "source": [
    "- https://albertauyeung.github.io/2017/04/23/python-matrix-factorization.html"
   ]
  },
  {
   "cell_type": "markdown",
   "id": "cfca7959",
   "metadata": {},
   "source": [
    "# Imports"
   ]
  },
  {
   "cell_type": "code",
   "execution_count": 1,
   "id": "8e96b797",
   "metadata": {},
   "outputs": [],
   "source": [
    "import numpy as np\n",
    "import pandas as pd\n",
    "import matplotlib.pyplot as plt\n",
    "from scipy.special import boxcox, inv_boxcox\n",
    "from scipy import stats\n",
    "\n",
    "from recommenderSystem import RecSys"
   ]
  },
  {
   "cell_type": "markdown",
   "id": "a1afe13f",
   "metadata": {},
   "source": [
    "# Datios Intelia"
   ]
  },
  {
   "cell_type": "code",
   "execution_count": 2,
   "id": "02e3b1c1",
   "metadata": {},
   "outputs": [
    {
     "name": "stdout",
     "output_type": "stream",
     "text": [
      "customers.csv  products.csv  relation.csv\r\n"
     ]
    }
   ],
   "source": [
    "!ls data"
   ]
  },
  {
   "cell_type": "code",
   "execution_count": 3,
   "id": "32cf6862",
   "metadata": {},
   "outputs": [
    {
     "name": "stderr",
     "output_type": "stream",
     "text": [
      "/tmp/ipykernel_680/3077265193.py:3: DtypeWarning: Columns (7,9,10,11,12,13,17,18,21,26,27,28,30,36) have mixed types. Specify dtype option on import or set low_memory=False.\n",
      "  users = pd.read_csv(dataPath + \"customers.csv\")\n",
      "/tmp/ipykernel_680/3077265193.py:4: DtypeWarning: Columns (20,32,34,39) have mixed types. Specify dtype option on import or set low_memory=False.\n",
      "  items = pd.read_csv(dataPath + \"products.csv\")\n"
     ]
    }
   ],
   "source": [
    "dataPath = \"data/\"\n",
    "\n",
    "users = pd.read_csv(dataPath + \"customers.csv\")\n",
    "items = pd.read_csv(dataPath + \"products.csv\")\n",
    "pairs = pd.read_csv(dataPath + \"relation.csv\")"
   ]
  },
  {
   "cell_type": "markdown",
   "id": "c573a22c",
   "metadata": {},
   "source": [
    "# Compañía 23"
   ]
  },
  {
   "cell_type": "code",
   "execution_count": 4,
   "id": "3c2aeeb4",
   "metadata": {},
   "outputs": [],
   "source": [
    "pairs = pairs[ pairs.company_id == 23].copy()\n",
    "users = users[ users.company_id == 23].copy()\n",
    "items = items[ items.company_id == 23].copy()"
   ]
  },
  {
   "cell_type": "code",
   "execution_count": 5,
   "id": "88ae31b7",
   "metadata": {},
   "outputs": [
    {
     "data": {
      "text/html": [
       "<div>\n",
       "<style scoped>\n",
       "    .dataframe tbody tr th:only-of-type {\n",
       "        vertical-align: middle;\n",
       "    }\n",
       "\n",
       "    .dataframe tbody tr th {\n",
       "        vertical-align: top;\n",
       "    }\n",
       "\n",
       "    .dataframe thead th {\n",
       "        text-align: right;\n",
       "    }\n",
       "</style>\n",
       "<table border=\"1\" class=\"dataframe\">\n",
       "  <thead>\n",
       "    <tr style=\"text-align: right;\">\n",
       "      <th></th>\n",
       "      <th>company_id</th>\n",
       "      <th>product_id</th>\n",
       "      <th>customer_id</th>\n",
       "      <th>compras</th>\n",
       "      <th>visto</th>\n",
       "      <th>peso</th>\n",
       "      <th>ultimo</th>\n",
       "    </tr>\n",
       "  </thead>\n",
       "  <tbody>\n",
       "    <tr>\n",
       "      <th>174894</th>\n",
       "      <td>23</td>\n",
       "      <td>52101</td>\n",
       "      <td>102648</td>\n",
       "      <td>1</td>\n",
       "      <td>0</td>\n",
       "      <td>3.0</td>\n",
       "      <td>2014-11-09 08:47:31</td>\n",
       "    </tr>\n",
       "    <tr>\n",
       "      <th>191010</th>\n",
       "      <td>23</td>\n",
       "      <td>53053</td>\n",
       "      <td>118036</td>\n",
       "      <td>1</td>\n",
       "      <td>0</td>\n",
       "      <td>3.0</td>\n",
       "      <td>2021-04-26 11:55:34</td>\n",
       "    </tr>\n",
       "    <tr>\n",
       "      <th>153221</th>\n",
       "      <td>23</td>\n",
       "      <td>50552</td>\n",
       "      <td>104782</td>\n",
       "      <td>2</td>\n",
       "      <td>0</td>\n",
       "      <td>6.0</td>\n",
       "      <td>2016-02-29 11:18:00</td>\n",
       "    </tr>\n",
       "    <tr>\n",
       "      <th>190953</th>\n",
       "      <td>23</td>\n",
       "      <td>53052</td>\n",
       "      <td>101527</td>\n",
       "      <td>1</td>\n",
       "      <td>0</td>\n",
       "      <td>3.0</td>\n",
       "      <td>2018-11-15 09:46:07</td>\n",
       "    </tr>\n",
       "  </tbody>\n",
       "</table>\n",
       "</div>"
      ],
      "text/plain": [
       "        company_id  product_id  customer_id  compras  visto  peso  \\\n",
       "174894          23       52101       102648        1      0   3.0   \n",
       "191010          23       53053       118036        1      0   3.0   \n",
       "153221          23       50552       104782        2      0   6.0   \n",
       "190953          23       53052       101527        1      0   3.0   \n",
       "\n",
       "                     ultimo  \n",
       "174894  2014-11-09 08:47:31  \n",
       "191010  2021-04-26 11:55:34  \n",
       "153221  2016-02-29 11:18:00  \n",
       "190953  2018-11-15 09:46:07  "
      ]
     },
     "execution_count": 5,
     "metadata": {},
     "output_type": "execute_result"
    }
   ],
   "source": [
    "pairs.sample(4)"
   ]
  },
  {
   "cell_type": "markdown",
   "id": "df630c7e",
   "metadata": {},
   "source": [
    "# Definir peso usuario-producto"
   ]
  },
  {
   "cell_type": "code",
   "execution_count": 6,
   "id": "01caed0e",
   "metadata": {},
   "outputs": [
    {
     "name": "stdout",
     "output_type": "stream",
     "text": [
      "Mean: 2.5001996598365697\n",
      "Median: 2.5\n",
      "Std: 0.6329223817728511\n"
     ]
    },
    {
     "data": {
      "text/plain": [
       "<AxesSubplot:ylabel='Frequency'>"
      ]
     },
     "execution_count": 6,
     "metadata": {},
     "output_type": "execute_result"
    },
    {
     "data": {
      "image/png": "[encoded data removed]",
      "text/plain": [
       "<Figure size 640x480 with 1 Axes>"
      ]
     },
     "metadata": {},
     "output_type": "display_data"
    }
   ],
   "source": [
    "def funcRacional_visitas(x):\n",
    "    return (1 * x) / (x + 5)\n",
    "\n",
    "def funcRacional_compras(x):\n",
    "    return (5 * x) / (x + 1)\n",
    "\n",
    "def getPeso(col_compras, col_visitias):\n",
    "    return funcRacional_compras(col_compras + funcRacional_visitas(col_visitias) ).copy()\n",
    "\n",
    "pairs[\"peso\"] = getPeso(pairs[\"compras\"], pairs[\"visto\"])\n",
    "\n",
    "print(\"Mean:\",   pairs[\"peso\"].mean())\n",
    "print(\"Median:\", pairs[\"peso\"].median())\n",
    "print(\"Std:\",    pairs[\"peso\"].std())\n",
    "\n",
    "pairs[\"peso\"].plot.hist(bins=60)"
   ]
  },
  {
   "cell_type": "code",
   "execution_count": 7,
   "id": "79565e45",
   "metadata": {},
   "outputs": [],
   "source": [
    "rs = RecSys(pairs, users, items, userName=\"customer_id\", itemName=\"product_id\", scoreName=\"peso\")\n",
    "#rs.draw_matrix()"
   ]
  },
  {
   "cell_type": "markdown",
   "id": "fd334ea4",
   "metadata": {},
   "source": [
    "## Train with fast.ai"
   ]
  },
  {
   "cell_type": "code",
   "execution_count": 8,
   "id": "6dacbd8a",
   "metadata": {},
   "outputs": [
    {
     "data": {
      "text/html": [
       "\n",
       "<style>\n",
       "    /* Turns off some styling */\n",
       "    progress {\n",
       "        /* gets rid of default border in Firefox and Opera. */\n",
       "        border: none;\n",
       "        /* Needs to be in here for Safari polyfill so background images work as expected. */\n",
       "        background-size: auto;\n",
       "    }\n",
       "    progress:not([value]), progress:not([value])::-webkit-progress-bar {\n",
       "        background: repeating-linear-gradient(45deg, #7e7e7e, #7e7e7e 10px, #5c5c5c 10px, #5c5c5c 20px);\n",
       "    }\n",
       "    .progress-bar-interrupted, .progress-bar-interrupted::-webkit-progress-bar {\n",
       "        background: #F44336;\n",
       "    }\n",
       "</style>\n"
      ],
      "text/plain": [
       "<IPython.core.display.HTML object>"
      ]
     },
     "metadata": {},
     "output_type": "display_data"
    },
    {
     "data": {
      "text/html": [
       "<table border=\"1\" class=\"dataframe\">\n",
       "  <thead>\n",
       "    <tr style=\"text-align: left;\">\n",
       "      <th>epoch</th>\n",
       "      <th>train_loss</th>\n",
       "      <th>valid_loss</th>\n",
       "      <th>mae</th>\n",
       "      <th>time</th>\n",
       "    </tr>\n",
       "  </thead>\n",
       "  <tbody>\n",
       "    <tr>\n",
       "      <td>0</td>\n",
       "      <td>0.332662</td>\n",
       "      <td>0.309923</td>\n",
       "      <td>0.350862</td>\n",
       "      <td>00:04</td>\n",
       "    </tr>\n",
       "    <tr>\n",
       "      <td>1</td>\n",
       "      <td>0.238265</td>\n",
       "      <td>0.282384</td>\n",
       "      <td>0.338320</td>\n",
       "      <td>00:04</td>\n",
       "    </tr>\n",
       "    <tr>\n",
       "      <td>2</td>\n",
       "      <td>0.144019</td>\n",
       "      <td>0.284643</td>\n",
       "      <td>0.348505</td>\n",
       "      <td>00:04</td>\n",
       "    </tr>\n",
       "    <tr>\n",
       "      <td>3</td>\n",
       "      <td>0.075157</td>\n",
       "      <td>0.285122</td>\n",
       "      <td>0.346983</td>\n",
       "      <td>00:04</td>\n",
       "    </tr>\n",
       "    <tr>\n",
       "      <td>4</td>\n",
       "      <td>0.039509</td>\n",
       "      <td>0.285715</td>\n",
       "      <td>0.347749</td>\n",
       "      <td>00:04</td>\n",
       "    </tr>\n",
       "  </tbody>\n",
       "</table>"
      ],
      "text/plain": [
       "<IPython.core.display.HTML object>"
      ]
     },
     "metadata": {},
     "output_type": "display_data"
    }
   ],
   "source": [
    "from fastai.tabular.all import *\n",
    "from fastai.collab import *\n",
    "\n",
    "dls = CollabDataLoaders.from_df(ratings=pairs,\n",
    "                                valid_pct=0.2,\n",
    "                                user_name=\"customer_id\",\n",
    "                                item_name=\"product_id\",\n",
    "                                rating_name=\"peso\",\n",
    "                                seed=None,\n",
    "                                bs=64)\n",
    "\n",
    "learn = collab_learner(dls, n_factors=50, y_range=(0, 5.5), metrics=[mae])\n",
    "learn.fit_one_cycle(5, 0.005, wd=0.1)"
   ]
  },
  {
   "cell_type": "markdown",
   "id": "2aa70154",
   "metadata": {},
   "source": [
    "## Train with my module"
   ]
  },
  {
   "cell_type": "code",
   "execution_count": 9,
   "id": "5701e1f5",
   "metadata": {},
   "outputs": [
    {
     "name": "stdout",
     "output_type": "stream",
     "text": [
      "Epoch: 1 ; trMAE = 0.2764 trMSE = 0.2481 valMAE = 0.5080 valMSE = 0.5370\n",
      "Epoch: 2 ; trMAE = 0.2767 trMSE = 0.2325 valMAE = 0.5001 valMSE = 0.5209\n",
      "Epoch: 3 ; trMAE = 0.2751 trMSE = 0.2237 valMAE = 0.4942 valMSE = 0.5103\n",
      "Epoch: 4 ; trMAE = 0.2727 trMSE = 0.2172 valMAE = 0.4900 valMSE = 0.5022\n",
      "Epoch: 5 ; trMAE = 0.2717 trMSE = 0.2125 valMAE = 0.4883 valMSE = 0.4994\n",
      "Epoch: 6 ; trMAE = 0.2709 trMSE = 0.2085 valMAE = 0.4872 valMSE = 0.4957\n",
      "Epoch: 7 ; trMAE = 0.2710 trMSE = 0.2053 valMAE = 0.4842 valMSE = 0.4903\n",
      "Epoch: 8 ; trMAE = 0.2711 trMSE = 0.2028 valMAE = 0.4839 valMSE = 0.4887\n",
      "Epoch: 9 ; trMAE = 0.2705 trMSE = 0.2004 valMAE = 0.4855 valMSE = 0.4904\n",
      "Epoch: 10 ; trMAE = 0.2732 trMSE = 0.1988 valMAE = 0.4837 valMSE = 0.4862\n",
      "Epoch: 11 ; trMAE = 0.2684 trMSE = 0.1965 valMAE = 0.4841 valMSE = 0.4877\n",
      "Epoch: 12 ; trMAE = 0.2695 trMSE = 0.1950 valMAE = 0.4824 valMSE = 0.4846\n",
      "Epoch: 13 ; trMAE = 0.2702 trMSE = 0.1935 valMAE = 0.4833 valMSE = 0.4855\n",
      "Epoch: 14 ; trMAE = 0.2678 trMSE = 0.1923 valMAE = 0.4819 valMSE = 0.4835\n",
      "Epoch: 15 ; trMAE = 0.2698 trMSE = 0.1911 valMAE = 0.4823 valMSE = 0.4830\n",
      "Epoch: 16 ; trMAE = 0.2670 trMSE = 0.1901 valMAE = 0.4816 valMSE = 0.4828\n"
     ]
    },
    {
     "ename": "KeyboardInterrupt",
     "evalue": "",
     "output_type": "error",
     "traceback": [
      "\u001b[0;31m---------------------------------------------------------------------------\u001b[0m",
      "\u001b[0;31mKeyboardInterrupt\u001b[0m                         Traceback (most recent call last)",
      "Cell \u001b[0;32mIn [9], line 6\u001b[0m\n\u001b[1;32m      3\u001b[0m train_samples \u001b[38;5;241m=\u001b[39m rs\u001b[38;5;241m.\u001b[39msamples[:split_idx]\n\u001b[1;32m      4\u001b[0m valid_samples \u001b[38;5;241m=\u001b[39m rs\u001b[38;5;241m.\u001b[39msamples[split_idx:]\n\u001b[0;32m----> 6\u001b[0m train_log \u001b[38;5;241m=\u001b[39m \u001b[43mrs\u001b[49m\u001b[38;5;241;43m.\u001b[39;49m\u001b[43mentrenar_modelo_manualmente\u001b[49m\u001b[43m(\u001b[49m\n\u001b[1;32m      7\u001b[0m \u001b[43m    \u001b[49m\u001b[43mtrain_samples\u001b[49m\u001b[43m \u001b[49m\u001b[38;5;241;43m=\u001b[39;49m\u001b[43m \u001b[49m\u001b[43mtrain_samples\u001b[49m\u001b[43m,\u001b[49m\n\u001b[1;32m      8\u001b[0m \u001b[43m    \u001b[49m\u001b[43mvalid_samples\u001b[49m\u001b[43m \u001b[49m\u001b[38;5;241;43m=\u001b[39;49m\u001b[43m \u001b[49m\u001b[43mvalid_samples\u001b[49m\u001b[43m,\u001b[49m\n\u001b[1;32m      9\u001b[0m \u001b[43m    \u001b[49m\u001b[43membSize\u001b[49m\u001b[43m \u001b[49m\u001b[38;5;241;43m=\u001b[39;49m\u001b[43m \u001b[49m\u001b[38;5;241;43m50\u001b[39;49m\u001b[43m,\u001b[49m\n\u001b[1;32m     10\u001b[0m \u001b[43m    \u001b[49m\u001b[43mlr\u001b[49m\u001b[43m \u001b[49m\u001b[38;5;241;43m=\u001b[39;49m\u001b[43m \u001b[49m\u001b[38;5;241;43m0.01\u001b[39;49m\u001b[43m,\u001b[49m\n\u001b[1;32m     11\u001b[0m \u001b[43m    \u001b[49m\u001b[43mwd\u001b[49m\u001b[43m \u001b[49m\u001b[38;5;241;43m=\u001b[39;49m\u001b[43m \u001b[49m\u001b[38;5;241;43m0.1\u001b[39;49m\u001b[43m,\u001b[49m\n\u001b[1;32m     12\u001b[0m \u001b[43m    \u001b[49m\u001b[43mepochs\u001b[49m\u001b[38;5;241;43m=\u001b[39;49m\u001b[38;5;241;43m50\u001b[39;49m\u001b[43m)\u001b[49m\n",
      "File \u001b[0;32m~/centic/recomentadion-system/recommenderSystem.py:296\u001b[0m, in \u001b[0;36mRecSys.entrenar_modelo_manualmente\u001b[0;34m(self, train_samples, valid_samples, embSize, lr, wd, epochs)\u001b[0m\n\u001b[1;32m    290\u001b[0m     train_log \u001b[38;5;241m=\u001b[39m np\u001b[38;5;241m.\u001b[39marray([], dtype\u001b[38;5;241m=\u001b[39m[(\u001b[38;5;124m'\u001b[39m\u001b[38;5;124mepoch\u001b[39m\u001b[38;5;124m'\u001b[39m, \u001b[38;5;124m\"\u001b[39m\u001b[38;5;124mu1\u001b[39m\u001b[38;5;124m\"\u001b[39m), (\u001b[38;5;124m'\u001b[39m\u001b[38;5;124mtrain_mae\u001b[39m\u001b[38;5;124m'\u001b[39m, \u001b[38;5;124m\"\u001b[39m\u001b[38;5;124mf\u001b[39m\u001b[38;5;124m\"\u001b[39m), (\u001b[38;5;124m'\u001b[39m\u001b[38;5;124mtrain_mse\u001b[39m\u001b[38;5;124m'\u001b[39m, \u001b[38;5;124m\"\u001b[39m\u001b[38;5;124mf\u001b[39m\u001b[38;5;124m\"\u001b[39m), (\u001b[38;5;124m'\u001b[39m\u001b[38;5;124mvalid_mae\u001b[39m\u001b[38;5;124m'\u001b[39m, \u001b[38;5;124m\"\u001b[39m\u001b[38;5;124mf\u001b[39m\u001b[38;5;124m\"\u001b[39m), (\u001b[38;5;124m'\u001b[39m\u001b[38;5;124mvalid_mse\u001b[39m\u001b[38;5;124m'\u001b[39m, \u001b[38;5;124m\"\u001b[39m\u001b[38;5;124mf\u001b[39m\u001b[38;5;124m\"\u001b[39m)])\n\u001b[1;32m    293\u001b[0m \u001b[38;5;28;01mfor\u001b[39;00m i \u001b[38;5;129;01min\u001b[39;00m \u001b[38;5;28mrange\u001b[39m(epochs):\n\u001b[1;32m    294\u001b[0m \n\u001b[1;32m    295\u001b[0m     \u001b[38;5;66;03m# TRAIN\u001b[39;00m\n\u001b[0;32m--> 296\u001b[0m     \u001b[38;5;28;43mself\u001b[39;49m\u001b[38;5;241;43m.\u001b[39;49m\u001b[43msgd_epoch\u001b[49m\u001b[43m(\u001b[49m\u001b[43mtrain_samples\u001b[49m\u001b[43m,\u001b[49m\u001b[43m \u001b[49m\u001b[43mlr\u001b[49m\u001b[43m,\u001b[49m\u001b[43m \u001b[49m\u001b[43mwd\u001b[49m\u001b[43m)\u001b[49m\n\u001b[1;32m    298\u001b[0m     \u001b[38;5;28;01mif\u001b[39;00m valid_samples \u001b[38;5;129;01mis\u001b[39;00m \u001b[38;5;28;01mNone\u001b[39;00m:\n\u001b[1;32m    299\u001b[0m         \u001b[38;5;66;03m# NOT VALIDATE\u001b[39;00m\n\u001b[1;32m    300\u001b[0m         train_mae, train_mse \u001b[38;5;241m=\u001b[39m \u001b[38;5;28mself\u001b[39m\u001b[38;5;241m.\u001b[39merror(train_samples)\n",
      "File \u001b[0;32m~/centic/recomentadion-system/recommenderSystem.py:333\u001b[0m, in \u001b[0;36mRecSys.sgd_epoch\u001b[0;34m(self, train_samples, lr, wd)\u001b[0m\n\u001b[1;32m    330\u001b[0m \u001b[38;5;66;03m# Update user and item embeddings\u001b[39;00m\n\u001b[1;32m    331\u001b[0m \u001b[38;5;66;03m#                                ___________grad______________   _______weight_decay______\u001b[39;00m\n\u001b[1;32m    332\u001b[0m \u001b[38;5;28mself\u001b[39m\u001b[38;5;241m.\u001b[39muser_embs[user, :] \u001b[38;5;241m-\u001b[39m\u001b[38;5;241m=\u001b[39m lr \u001b[38;5;241m*\u001b[39m (err \u001b[38;5;241m*\u001b[39m \u001b[38;5;28mself\u001b[39m\u001b[38;5;241m.\u001b[39mitem_embs[item, :] \u001b[38;5;241m+\u001b[39m wd\u001b[38;5;241m*\u001b[39m\u001b[38;5;28mself\u001b[39m\u001b[38;5;241m.\u001b[39muser_embs[user,:])\n\u001b[0;32m--> 333\u001b[0m \u001b[38;5;28mself\u001b[39m\u001b[38;5;241m.\u001b[39mitem_embs[item, :] \u001b[38;5;241m-\u001b[39m\u001b[38;5;241m=\u001b[39m lr \u001b[38;5;241m*\u001b[39m (err \u001b[38;5;241m*\u001b[39m \u001b[38;5;28mself\u001b[39m\u001b[38;5;241m.\u001b[39muser_embs[user, :] \u001b[38;5;241m+\u001b[39m wd\u001b[38;5;241m*\u001b[39m\u001b[38;5;28mself\u001b[39m\u001b[38;5;241m.\u001b[39mitem_embs[item,:])\n",
      "\u001b[0;31mKeyboardInterrupt\u001b[0m: "
     ]
    }
   ],
   "source": [
    "split_idx = int(len(rs.samples) * 0.8)\n",
    "#np.random.shuffle(self.samples)\n",
    "train_samples = rs.samples[:split_idx]\n",
    "valid_samples = rs.samples[split_idx:]\n",
    "\n",
    "train_log = rs.entrenar_modelo_manualmente(\n",
    "    train_samples = train_samples,\n",
    "    valid_samples = valid_samples,\n",
    "    embSize = 50,\n",
    "    lr = 0.01,\n",
    "    wd = 0.1,\n",
    "    epochs=50)"
   ]
  },
  {
   "cell_type": "code",
   "execution_count": 10,
   "id": "e4ded6f7",
   "metadata": {},
   "outputs": [],
   "source": [
    "#rs.plot_training(train_log)"
   ]
  },
  {
   "cell_type": "code",
   "execution_count": null,
   "id": "c3e4d67b",
   "metadata": {},
   "outputs": [],
   "source": []
  }
 ],
 "metadata": {
  "kernelspec": {
   "display_name": "Python 3 (ipykernel)",
   "language": "python",
   "name": "python3"
  },
  "language_info": {
   "codemirror_mode": {
    "name": "ipython",
    "version": 3
   },
   "file_extension": ".py",
   "mimetype": "text/x-python",
   "name": "python",
   "nbconvert_exporter": "python",
   "pygments_lexer": "ipython3",
   "version": "3.10.8"
  }
 },
 "nbformat": 4,
 "nbformat_minor": 5
}
