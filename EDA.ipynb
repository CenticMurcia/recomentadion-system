{
 "cells": [
  {
   "cell_type": "markdown",
   "id": "ba4f7e4d",
   "metadata": {},
   "source": [
    "- https://albertauyeung.github.io/2017/04/23/python-matrix-factorization.html"
   ]
  },
  {
   "cell_type": "markdown",
   "id": "cfca7959",
   "metadata": {},
   "source": [
    "# Imports"
   ]
  },
  {
   "cell_type": "code",
   "execution_count": 1,
   "id": "8e96b797",
   "metadata": {},
   "outputs": [],
   "source": [
    "import numpy as np\n",
    "import pandas as pd\n",
    "import matplotlib.pyplot as plt\n",
    "from scipy.special import boxcox, inv_boxcox\n",
    "from scipy import stats\n",
    "from PIL import Image\n",
    "\n",
    "from fastai.tabular.all import *\n",
    "from fastai.collab import *"
   ]
  },
  {
   "cell_type": "markdown",
   "id": "ed50ef70",
   "metadata": {},
   "source": [
    "# Aux funcs"
   ]
  },
  {
   "cell_type": "code",
   "execution_count": 2,
   "id": "2d4bde7e",
   "metadata": {},
   "outputs": [],
   "source": [
    "def create_matrix(df, varUser, varItem, varRating, constantValue=False):\n",
    "    \n",
    "    real_userIds = df[varUser].unique().tolist()\n",
    "    real_itemIds = df[varItem].unique().tolist()\n",
    "    \n",
    "    range_userIds = list(range(len(real_userIds)))\n",
    "    range_itemIds = list(range(len(real_itemIds)))\n",
    "    \n",
    "    get_userId = dict(zip(real_userIds,range_userIds))\n",
    "    get_itemId = dict(zip(real_itemIds,range_itemIds))\n",
    "        \n",
    "    matrix = np.zeros((len(real_userIds),len(real_itemIds)), dtype=np.uint8)\n",
    "    \n",
    "    for index, row in df.iterrows():\n",
    "        \n",
    "        userId = get_userId[row[varUser]]\n",
    "        itemId = get_itemId[row[varItem]]\n",
    "        if constantValue:\n",
    "            matrix[userId, itemId] = 255\n",
    "        else:\n",
    "            matrix[userId, itemId] = row[varRating]\n",
    "        \n",
    "    return matrix\n",
    "\n",
    "def explore_matrix(df, varUser, varItem, varRating):\n",
    "    num_of_users = df[varUser].nunique()\n",
    "    num_of_items = df[varItem].nunique()\n",
    "    num_of_pairs = len(df)\n",
    "    matrix_size = num_of_users * num_of_items\n",
    "    \n",
    "    print(\"Number of users:\", num_of_users)\n",
    "    print(\"Number of items:\", num_of_items)\n",
    "    print(\"Number of interactions:\", num_of_pairs, \"(\", round((num_of_pairs/matrix_size)*100,2), \"%)\" )\n",
    "    \n",
    "    matrix = create_matrix(df, varUser, varItem, varRating, constantValue=True)\n",
    "    \"\"\"\n",
    "    plt.title('Compañia '+ str(comp_id))\n",
    "    plt.xlabel('Productos')\n",
    "    plt.ylabel('Usuarios')\n",
    "    plt.imshow( matrix, interpolation='nearest')\n",
    "    plt.show()\n",
    "    \"\"\";\n",
    "    \n",
    "    display(Image.fromarray(matrix))"
   ]
  },
  {
   "cell_type": "markdown",
   "id": "e16be9f6",
   "metadata": {},
   "source": [
    "# Datos Fastai"
   ]
  },
  {
   "cell_type": "code",
   "execution_count": 3,
   "id": "8cac5eb9",
   "metadata": {},
   "outputs": [
    {
     "data": {
      "text/html": [
       "<div>\n",
       "<style scoped>\n",
       "    .dataframe tbody tr th:only-of-type {\n",
       "        vertical-align: middle;\n",
       "    }\n",
       "\n",
       "    .dataframe tbody tr th {\n",
       "        vertical-align: top;\n",
       "    }\n",
       "\n",
       "    .dataframe thead th {\n",
       "        text-align: right;\n",
       "    }\n",
       "</style>\n",
       "<table border=\"1\" class=\"dataframe\">\n",
       "  <thead>\n",
       "    <tr style=\"text-align: right;\">\n",
       "      <th></th>\n",
       "      <th>user</th>\n",
       "      <th>movie</th>\n",
       "      <th>rating</th>\n",
       "    </tr>\n",
       "  </thead>\n",
       "  <tbody>\n",
       "    <tr>\n",
       "      <th>0</th>\n",
       "      <td>196</td>\n",
       "      <td>242</td>\n",
       "      <td>3</td>\n",
       "    </tr>\n",
       "    <tr>\n",
       "      <th>1</th>\n",
       "      <td>186</td>\n",
       "      <td>302</td>\n",
       "      <td>3</td>\n",
       "    </tr>\n",
       "    <tr>\n",
       "      <th>2</th>\n",
       "      <td>22</td>\n",
       "      <td>377</td>\n",
       "      <td>1</td>\n",
       "    </tr>\n",
       "    <tr>\n",
       "      <th>3</th>\n",
       "      <td>244</td>\n",
       "      <td>51</td>\n",
       "      <td>2</td>\n",
       "    </tr>\n",
       "    <tr>\n",
       "      <th>4</th>\n",
       "      <td>166</td>\n",
       "      <td>346</td>\n",
       "      <td>1</td>\n",
       "    </tr>\n",
       "  </tbody>\n",
       "</table>\n",
       "</div>"
      ],
      "text/plain": [
       "   user  movie  rating\n",
       "0   196    242       3\n",
       "1   186    302       3\n",
       "2    22    377       1\n",
       "3   244     51       2\n",
       "4   166    346       1"
      ]
     },
     "execution_count": 3,
     "metadata": {},
     "output_type": "execute_result"
    }
   ],
   "source": [
    "path = untar_data(URLs.ML_100k)\n",
    "df_fastai = pd.read_csv(path/'u.data', delimiter='\\t', header=None,\n",
    "                      usecols=(0,1,2), names=['user','movie','rating'])\n",
    "df_fastai.head()"
   ]
  },
  {
   "cell_type": "code",
   "execution_count": 4,
   "id": "de8fed46",
   "metadata": {},
   "outputs": [
    {
     "data": {
      "text/plain": [
       "array([[3, 0, 0, ..., 0, 0, 0],\n",
       "       [0, 3, 0, ..., 0, 0, 0],\n",
       "       [0, 0, 1, ..., 0, 0, 0],\n",
       "       ...,\n",
       "       [0, 0, 0, ..., 0, 0, 0],\n",
       "       [0, 4, 0, ..., 0, 0, 0],\n",
       "       [0, 0, 0, ..., 0, 0, 0]], dtype=uint8)"
      ]
     },
     "execution_count": 4,
     "metadata": {},
     "output_type": "execute_result"
    }
   ],
   "source": [
    "m = create_matrix(df_fastai, \"user\", \"movie\", \"rating\")\n",
    "m"
   ]
  },
  {
   "cell_type": "code",
   "execution_count": 5,
   "id": "14c39559",
   "metadata": {},
   "outputs": [
    {
     "name": "stdout",
     "output_type": "stream",
     "text": [
      "Number of users: 943\n",
      "Number of items: 1682\n",
      "Number of interactions: 100000 ( 6.3 %)\n"
     ]
    },
    {
     "data": {
      "image/png": "[encoded data removed]",
      "text/plain": [
       "<PIL.Image.Image image mode=L size=1682x943>"
      ]
     },
     "metadata": {},
     "output_type": "display_data"
    }
   ],
   "source": [
    "explore_matrix(df_fastai, \"user\", \"movie\", \"rating\")"
   ]
  },
  {
   "cell_type": "code",
   "execution_count": 6,
   "id": "06fe975c",
   "metadata": {},
   "outputs": [
    {
     "data": {
      "image/png": "[encoded data removed]",
      "text/plain": [
       "<Figure size 640x480 with 1 Axes>"
      ]
     },
     "metadata": {},
     "output_type": "display_data"
    }
   ],
   "source": [
    "df_fastai.rating.plot.hist(bins=20);"
   ]
  },
  {
   "cell_type": "code",
   "execution_count": 7,
   "id": "155f6796",
   "metadata": {},
   "outputs": [],
   "source": [
    "dls = CollabDataLoaders.from_df(ratings=df_fastai,\n",
    "                                valid_pct=0.2,\n",
    "                                user_name=\"user\",\n",
    "                                item_name=\"movie\",\n",
    "                                rating_name=\"rating\",\n",
    "                                seed=None,\n",
    "                                bs=64)"
   ]
  },
  {
   "cell_type": "markdown",
   "id": "e299a2c6",
   "metadata": {},
   "source": [
    "### Train (loss is MSE)"
   ]
  },
  {
   "cell_type": "code",
   "execution_count": 8,
   "id": "16045ff7",
   "metadata": {},
   "outputs": [
    {
     "data": {
      "text/html": [
       "\n",
       "<style>\n",
       "    /* Turns off some styling */\n",
       "    progress {\n",
       "        /* gets rid of default border in Firefox and Opera. */\n",
       "        border: none;\n",
       "        /* Needs to be in here for Safari polyfill so background images work as expected. */\n",
       "        background-size: auto;\n",
       "    }\n",
       "    progress:not([value]), progress:not([value])::-webkit-progress-bar {\n",
       "        background: repeating-linear-gradient(45deg, #7e7e7e, #7e7e7e 10px, #5c5c5c 10px, #5c5c5c 20px);\n",
       "    }\n",
       "    .progress-bar-interrupted, .progress-bar-interrupted::-webkit-progress-bar {\n",
       "        background: #F44336;\n",
       "    }\n",
       "</style>\n"
      ],
      "text/plain": [
       "<IPython.core.display.HTML object>"
      ]
     },
     "metadata": {},
     "output_type": "display_data"
    },
    {
     "data": {
      "text/html": [
       "<table border=\"1\" class=\"dataframe\">\n",
       "  <thead>\n",
       "    <tr style=\"text-align: left;\">\n",
       "      <th>epoch</th>\n",
       "      <th>train_loss</th>\n",
       "      <th>valid_loss</th>\n",
       "      <th>mae</th>\n",
       "      <th>time</th>\n",
       "    </tr>\n",
       "  </thead>\n",
       "  <tbody>\n",
       "    <tr>\n",
       "      <td>0</td>\n",
       "      <td>0.958396</td>\n",
       "      <td>0.932351</td>\n",
       "      <td>0.768780</td>\n",
       "      <td>00:04</td>\n",
       "    </tr>\n",
       "    <tr>\n",
       "      <td>1</td>\n",
       "      <td>0.892684</td>\n",
       "      <td>0.859221</td>\n",
       "      <td>0.735014</td>\n",
       "      <td>00:04</td>\n",
       "    </tr>\n",
       "    <tr>\n",
       "      <td>2</td>\n",
       "      <td>0.709805</td>\n",
       "      <td>0.816669</td>\n",
       "      <td>0.713908</td>\n",
       "      <td>00:04</td>\n",
       "    </tr>\n",
       "    <tr>\n",
       "      <td>3</td>\n",
       "      <td>0.602730</td>\n",
       "      <td>0.797639</td>\n",
       "      <td>0.705190</td>\n",
       "      <td>00:04</td>\n",
       "    </tr>\n",
       "    <tr>\n",
       "      <td>4</td>\n",
       "      <td>0.496226</td>\n",
       "      <td>0.798547</td>\n",
       "      <td>0.705297</td>\n",
       "      <td>00:04</td>\n",
       "    </tr>\n",
       "  </tbody>\n",
       "</table>"
      ],
      "text/plain": [
       "<IPython.core.display.HTML object>"
      ]
     },
     "metadata": {},
     "output_type": "display_data"
    }
   ],
   "source": [
    "learn = collab_learner(dls, n_factors=50, y_range=(0, 5.5), metrics=[mae])\n",
    "learn.fit_one_cycle(5, 5e-3, wd=0.1)"
   ]
  },
  {
   "cell_type": "code",
   "execution_count": 8,
   "id": "bc3bfc07",
   "metadata": {},
   "outputs": [
    {
     "data": {
      "text/plain": [
       "0.005"
      ]
     },
     "execution_count": 8,
     "metadata": {},
     "output_type": "execute_result"
    }
   ],
   "source": [
    "5e-3"
   ]
  },
  {
   "cell_type": "code",
   "execution_count": 16,
   "id": "3893b3e0",
   "metadata": {},
   "outputs": [],
   "source": [
    "class MatrixFactorization():\n",
    "\n",
    "    def __init__(self, matrix, embSize, lr, wd, iterations, train_perc=1):\n",
    "        \"\"\"\n",
    "        Perform matrix factorization to predict empty\n",
    "        entries in a matrix.\n",
    "\n",
    "        Arguments\n",
    "        - matrix (ndarray) : user-item rating matrix\n",
    "        - embSize (int)    : number of latent dimensions\n",
    "        - lr (float)       : learning rate\n",
    "        - wd (float)       : regularization parameter\n",
    "        \"\"\"\n",
    "\n",
    "        self.matrix = matrix\n",
    "        self.num_users, self.num_items = matrix.shape\n",
    "        self.embSize = embSize\n",
    "        self.lr = lr\n",
    "        self.wd = wd\n",
    "        self.iterations = iterations\n",
    "        self.train_perc = train_perc\n",
    "\n",
    "    def train(self):\n",
    "        # Initialize user and item latent feature matrice\n",
    "        self.P = np.random.normal(scale=1./self.embSize, size=(self.num_users, self.embSize))\n",
    "        self.Q = np.random.normal(scale=1./self.embSize, size=(self.num_items, self.embSize))\n",
    "\n",
    "        # Initialize the biases\n",
    "        self.b_u = np.zeros(self.num_users)\n",
    "        self.b_i = np.zeros(self.num_items)\n",
    "        self.b = np.mean(self.matrix[np.where(self.matrix != 0)])\n",
    "\n",
    "        # Create a list of samples\n",
    "        samples = [\n",
    "            (i, j, self.matrix[i, j])\n",
    "            for i in range(self.num_users)\n",
    "            for j in range(self.num_items)\n",
    "            if self.matrix[i, j] > 0\n",
    "        ]\n",
    "        # Separate training and validation samples\n",
    "        np.random.shuffle(samples)\n",
    "        split_idx = int(len(samples) * self.train_perc)\n",
    "        self.train_samples = samples[:split_idx]\n",
    "        self.valid_samples = samples[split_idx:]\n",
    "\n",
    "        # Perform stochastic gradient descent for number of iterations\n",
    "        training_process = []\n",
    "        for i in range(self.iterations):\n",
    "            np.random.shuffle(self.train_samples)\n",
    "            self.sgd()\n",
    "            train_mae, train_mse, valid_mae, valid_mse = self.errors()\n",
    "            training_process.append((i, valid_mse))\n",
    "            #if (i+1) % 10 == 0:\n",
    "            print(\"Iteration: %d ; trMAE = %.4f trMSE = %.4f valMAE = %.4f valMSE = %.4f\" % (i+1, train_mae, train_mse, valid_mae, valid_mse))\n",
    "\n",
    "        return training_process\n",
    "\n",
    "    \n",
    "    def errors(self):\n",
    "        \"\"\"\n",
    "        A function to compute the errors\n",
    "        \"\"\"\n",
    "        predicted = self.full_matrix()\n",
    "        \n",
    "        train_mae = 0\n",
    "        train_mse = 0\n",
    "        for x, y, real in self.train_samples:\n",
    "            diference = real - predicted[x, y]\n",
    "            train_mae += abs(diference)\n",
    "            train_mse += pow(diference, 2)\n",
    "        train_mae /= len(self.train_samples)\n",
    "        train_mse /= len(self.train_samples)\n",
    "\n",
    "        valid_mae = 0\n",
    "        valid_mse = 0\n",
    "        for x, y, real in self.valid_samples:\n",
    "            diference = real - predicted[x, y]\n",
    "            valid_mae += abs(diference)\n",
    "            valid_mse += pow(diference, 2)  \n",
    "        valid_mae /= len(self.valid_samples)\n",
    "        valid_mse /= len(self.valid_samples)\n",
    "        \n",
    "        return train_mae, train_mse, valid_mae, valid_mse\n",
    "        \n",
    "\n",
    "    def sgd(self):\n",
    "        \"\"\"\n",
    "        Perform stochastic graident descent\n",
    "        \"\"\"\n",
    "        for i, j, r in self.train_samples:\n",
    "            # Computer prediction and error\n",
    "            prediction = self.get_rating(i, j)\n",
    "            e = (r - prediction)\n",
    "\n",
    "            # Update biases\n",
    "            self.b_u[i] += self.lr * (e - self.wd * self.b_u[i])\n",
    "            self.b_i[j] += self.lr * (e - self.wd * self.b_i[j])\n",
    "\n",
    "            # Update user and item embeddings\n",
    "            self.P[i, :] += self.lr * (e * self.Q[j, :] - self.wd * self.P[i,:])\n",
    "            self.Q[j, :] += self.lr * (e * self.P[i, :] - self.wd * self.Q[j,:])\n",
    "\n",
    "    def get_rating(self, i, j):\n",
    "        \"\"\"\n",
    "        Get the predicted rating of user i and item j\n",
    "        \"\"\"\n",
    "        prediction = self.b + self.b_u[i] + self.b_i[j] + self.P[i, :].dot(self.Q[j, :].T)\n",
    "        return prediction\n",
    "\n",
    "    def full_matrix(self):\n",
    "        \"\"\"\n",
    "        Computer the full matrix using the resultant biases, P and Q\n",
    "        \"\"\"\n",
    "        return self.b + self.b_u[:,np.newaxis] + self.b_i[np.newaxis:,] + self.P.dot(self.Q.T)"
   ]
  },
  {
   "cell_type": "code",
   "execution_count": 17,
   "id": "e9cea872",
   "metadata": {},
   "outputs": [
    {
     "name": "stdout",
     "output_type": "stream",
     "text": [
      "Iteration: 1 ; trMAE = 0.7450 trMSE = 0.8817 valMAE = 0.7623 valMSE = 0.9253\n",
      "Iteration: 2 ; trMAE = 0.7400 trMSE = 0.8651 valMAE = 0.7599 valMSE = 0.9139\n",
      "Iteration: 3 ; trMAE = 0.7322 trMSE = 0.8535 valMAE = 0.7555 valMSE = 0.9087\n",
      "Iteration: 4 ; trMAE = 0.7188 trMSE = 0.8241 valMAE = 0.7477 valMSE = 0.8953\n",
      "Iteration: 5 ; trMAE = 0.7032 trMSE = 0.7850 valMAE = 0.7413 valMSE = 0.8751\n",
      "Iteration: 6 ; trMAE = 0.6848 trMSE = 0.7435 valMAE = 0.7357 valMSE = 0.8646\n",
      "Iteration: 7 ; trMAE = 0.6631 trMSE = 0.6952 valMAE = 0.7323 valMSE = 0.8601\n",
      "Iteration: 8 ; trMAE = 0.6374 trMSE = 0.6420 valMAE = 0.7270 valMSE = 0.8497\n",
      "Iteration: 9 ; trMAE = 0.6121 trMSE = 0.5922 valMAE = 0.7255 valMSE = 0.8443\n",
      "Iteration: 10 ; trMAE = 0.5908 trMSE = 0.5520 valMAE = 0.7226 valMSE = 0.8419\n",
      "Iteration: 11 ; trMAE = 0.5721 trMSE = 0.5155 valMAE = 0.7252 valMSE = 0.8440\n",
      "Iteration: 12 ; trMAE = 0.5558 trMSE = 0.4880 valMAE = 0.7262 valMSE = 0.8461\n",
      "Iteration: 13 ; trMAE = 0.5411 trMSE = 0.4650 valMAE = 0.7242 valMSE = 0.8470\n",
      "Iteration: 14 ; trMAE = 0.5311 trMSE = 0.4458 valMAE = 0.7280 valMSE = 0.8516\n",
      "Iteration: 15 ; trMAE = 0.5205 trMSE = 0.4295 valMAE = 0.7276 valMSE = 0.8500\n",
      "Iteration: 16 ; trMAE = 0.5115 trMSE = 0.4183 valMAE = 0.7276 valMSE = 0.8520\n",
      "Iteration: 17 ; trMAE = 0.5050 trMSE = 0.4087 valMAE = 0.7277 valMSE = 0.8520\n",
      "Iteration: 18 ; trMAE = 0.5002 trMSE = 0.4006 valMAE = 0.7265 valMSE = 0.8510\n",
      "Iteration: 19 ; trMAE = 0.4946 trMSE = 0.3927 valMAE = 0.7277 valMSE = 0.8520\n",
      "Iteration: 20 ; trMAE = 0.4910 trMSE = 0.3876 valMAE = 0.7279 valMSE = 0.8527\n"
     ]
    }
   ],
   "source": [
    "mf = MatrixFactorization(matrix=m, embSize=50, lr=0.05, wd=0.1, iterations=20, train_perc=0.8)\n",
    "training_process = mf.train()"
   ]
  },
  {
   "cell_type": "code",
   "execution_count": 19,
   "id": "5b99b82a",
   "metadata": {},
   "outputs": [
    {
     "name": "stdout",
     "output_type": "stream",
     "text": [
      "Iteration: 1 ; trMAE = 0.7754 trMSE = 0.9392 valMAE = 0.7803 valMSE = 0.9519\n",
      "Iteration: 2 ; trMAE = 0.7542 trMSE = 0.8944 valMAE = 0.7614 valMSE = 0.9169\n",
      "Iteration: 3 ; trMAE = 0.7444 trMSE = 0.8754 valMAE = 0.7532 valMSE = 0.9029\n",
      "Iteration: 4 ; trMAE = 0.7403 trMSE = 0.8653 valMAE = 0.7507 valMSE = 0.8968\n",
      "Iteration: 5 ; trMAE = 0.7359 trMSE = 0.8580 valMAE = 0.7477 valMSE = 0.8926\n",
      "Iteration: 6 ; trMAE = 0.7342 trMSE = 0.8534 valMAE = 0.7465 valMSE = 0.8898\n",
      "Iteration: 7 ; trMAE = 0.7325 trMSE = 0.8498 valMAE = 0.7455 valMSE = 0.8880\n",
      "Iteration: 8 ; trMAE = 0.7306 trMSE = 0.8473 valMAE = 0.7444 valMSE = 0.8864\n",
      "Iteration: 9 ; trMAE = 0.7301 trMSE = 0.8451 valMAE = 0.7446 valMSE = 0.8854\n",
      "Iteration: 10 ; trMAE = 0.7288 trMSE = 0.8430 valMAE = 0.7431 valMSE = 0.8837\n",
      "Iteration: 11 ; trMAE = 0.7288 trMSE = 0.8418 valMAE = 0.7442 valMSE = 0.8848\n",
      "Iteration: 12 ; trMAE = 0.7275 trMSE = 0.8396 valMAE = 0.7429 valMSE = 0.8827\n",
      "Iteration: 13 ; trMAE = 0.7272 trMSE = 0.8382 valMAE = 0.7431 valMSE = 0.8834\n",
      "Iteration: 14 ; trMAE = 0.7254 trMSE = 0.8355 valMAE = 0.7417 valMSE = 0.8818\n",
      "Iteration: 15 ; trMAE = 0.7247 trMSE = 0.8334 valMAE = 0.7419 valMSE = 0.8809\n",
      "Iteration: 16 ; trMAE = 0.7230 trMSE = 0.8300 valMAE = 0.7408 valMSE = 0.8799\n",
      "Iteration: 17 ; trMAE = 0.7222 trMSE = 0.8270 valMAE = 0.7410 valMSE = 0.8787\n",
      "Iteration: 18 ; trMAE = 0.7198 trMSE = 0.8226 valMAE = 0.7390 valMSE = 0.8752\n",
      "Iteration: 19 ; trMAE = 0.7178 trMSE = 0.8171 valMAE = 0.7377 valMSE = 0.8716\n",
      "Iteration: 20 ; trMAE = 0.7150 trMSE = 0.8111 valMAE = 0.7366 valMSE = 0.8698\n"
     ]
    }
   ],
   "source": [
    "mf = MF(matrix=m, embSize=50, lr=0.01, wd=0.1, iterations=20, train_perc=0.8)\n",
    "training_process = mf.train()"
   ]
  },
  {
   "cell_type": "code",
   "execution_count": 18,
   "id": "c3ebdb0c",
   "metadata": {},
   "outputs": [
    {
     "data": {
      "image/png": "[encoded data removed]",
      "text/plain": [
       "<Figure size 1600x400 with 1 Axes>"
      ]
     },
     "metadata": {},
     "output_type": "display_data"
    }
   ],
   "source": [
    "x = [x for x, y in training_process]\n",
    "y = [y for x, y in training_process]\n",
    "plt.figure(figsize=((16,4)))\n",
    "plt.plot(x, y)\n",
    "plt.xticks(x, x)\n",
    "plt.xlabel(\"Iterations\")\n",
    "plt.ylabel(\"Valid Mean Square Error\")\n",
    "plt.grid(axis=\"y\")"
   ]
  },
  {
   "cell_type": "code",
   "execution_count": null,
   "id": "a0a70adf",
   "metadata": {},
   "outputs": [],
   "source": [
    "training_process"
   ]
  },
  {
   "cell_type": "markdown",
   "id": "a1afe13f",
   "metadata": {},
   "source": [
    "# Datios Intelia\n",
    "\n",
    "Se pueden realizar pruebas con cualquier compañía pero me gustaría empezar por la 23 y 15."
   ]
  },
  {
   "cell_type": "code",
   "execution_count": 9,
   "id": "02e3b1c1",
   "metadata": {},
   "outputs": [
    {
     "name": "stdout",
     "output_type": "stream",
     "text": [
      "customers.csv  products.csv  relation.csv\r\n"
     ]
    }
   ],
   "source": [
    "!ls data"
   ]
  },
  {
   "cell_type": "code",
   "execution_count": 10,
   "id": "32cf6862",
   "metadata": {},
   "outputs": [
    {
     "name": "stderr",
     "output_type": "stream",
     "text": [
      "/tmp/ipykernel_541/3227325611.py:3: DtypeWarning: Columns (20,32,34,39) have mixed types. Specify dtype option on import or set low_memory=False.\n",
      "  df_products = pd.read_csv(dataPath + \"products.csv\")\n",
      "/tmp/ipykernel_541/3227325611.py:4: DtypeWarning: Columns (7,9,10,11,12,13,17,18,21,26,27,28,30,36) have mixed types. Specify dtype option on import or set low_memory=False.\n",
      "  df_clients  = pd.read_csv(dataPath + \"customers.csv\")\n"
     ]
    }
   ],
   "source": [
    "dataPath = \"data/\"\n",
    "\n",
    "df_products = pd.read_csv(dataPath + \"products.csv\")\n",
    "df_clients  = pd.read_csv(dataPath + \"customers.csv\")\n",
    "df_relation = pd.read_csv(dataPath + \"relation.csv\")"
   ]
  },
  {
   "cell_type": "code",
   "execution_count": 11,
   "id": "ee8da5e5",
   "metadata": {},
   "outputs": [
    {
     "data": {
      "text/html": [
       "<div>\n",
       "<style scoped>\n",
       "    .dataframe tbody tr th:only-of-type {\n",
       "        vertical-align: middle;\n",
       "    }\n",
       "\n",
       "    .dataframe tbody tr th {\n",
       "        vertical-align: top;\n",
       "    }\n",
       "\n",
       "    .dataframe thead th {\n",
       "        text-align: right;\n",
       "    }\n",
       "</style>\n",
       "<table border=\"1\" class=\"dataframe\">\n",
       "  <thead>\n",
       "    <tr style=\"text-align: right;\">\n",
       "      <th></th>\n",
       "      <th>company_id</th>\n",
       "      <th>product_id</th>\n",
       "      <th>customer_id</th>\n",
       "      <th>peso</th>\n",
       "      <th>ultimo</th>\n",
       "    </tr>\n",
       "  </thead>\n",
       "  <tbody>\n",
       "    <tr>\n",
       "      <th>10805</th>\n",
       "      <td>1</td>\n",
       "      <td>139</td>\n",
       "      <td>99387</td>\n",
       "      <td>135.00</td>\n",
       "      <td>2022-09-28 21:13:41</td>\n",
       "    </tr>\n",
       "    <tr>\n",
       "      <th>338862</th>\n",
       "      <td>39</td>\n",
       "      <td>123732</td>\n",
       "      <td>359443</td>\n",
       "      <td>3.00</td>\n",
       "      <td>2021-07-25 00:00:00</td>\n",
       "    </tr>\n",
       "    <tr>\n",
       "      <th>77195</th>\n",
       "      <td>15</td>\n",
       "      <td>29022</td>\n",
       "      <td>54203</td>\n",
       "      <td>0.02</td>\n",
       "      <td>2022-02-14 12:28:18</td>\n",
       "    </tr>\n",
       "    <tr>\n",
       "      <th>419790</th>\n",
       "      <td>39</td>\n",
       "      <td>123742</td>\n",
       "      <td>324449</td>\n",
       "      <td>3.00</td>\n",
       "      <td>2021-05-20 00:00:00</td>\n",
       "    </tr>\n",
       "    <tr>\n",
       "      <th>282011</th>\n",
       "      <td>39</td>\n",
       "      <td>123728</td>\n",
       "      <td>447893</td>\n",
       "      <td>3.00</td>\n",
       "      <td>2021-09-19 00:00:00</td>\n",
       "    </tr>\n",
       "    <tr>\n",
       "      <th>578865</th>\n",
       "      <td>39</td>\n",
       "      <td>124589</td>\n",
       "      <td>342405</td>\n",
       "      <td>3.00</td>\n",
       "      <td>2022-05-25 00:00:00</td>\n",
       "    </tr>\n",
       "    <tr>\n",
       "      <th>493025</th>\n",
       "      <td>39</td>\n",
       "      <td>123772</td>\n",
       "      <td>383601</td>\n",
       "      <td>3.00</td>\n",
       "      <td>2019-05-30 00:00:00</td>\n",
       "    </tr>\n",
       "    <tr>\n",
       "      <th>513505</th>\n",
       "      <td>39</td>\n",
       "      <td>123779</td>\n",
       "      <td>475384</td>\n",
       "      <td>3.00</td>\n",
       "      <td>2021-11-01 00:00:00</td>\n",
       "    </tr>\n",
       "    <tr>\n",
       "      <th>220363</th>\n",
       "      <td>23</td>\n",
       "      <td>55570</td>\n",
       "      <td>109950</td>\n",
       "      <td>3.08</td>\n",
       "      <td>2022-01-14 16:33:32</td>\n",
       "    </tr>\n",
       "    <tr>\n",
       "      <th>187823</th>\n",
       "      <td>23</td>\n",
       "      <td>52700</td>\n",
       "      <td>106789</td>\n",
       "      <td>3.00</td>\n",
       "      <td>2017-05-04 11:48:14</td>\n",
       "    </tr>\n",
       "  </tbody>\n",
       "</table>\n",
       "</div>"
      ],
      "text/plain": [
       "        company_id  product_id  customer_id    peso               ultimo\n",
       "10805            1         139        99387  135.00  2022-09-28 21:13:41\n",
       "338862          39      123732       359443    3.00  2021-07-25 00:00:00\n",
       "77195           15       29022        54203    0.02  2022-02-14 12:28:18\n",
       "419790          39      123742       324449    3.00  2021-05-20 00:00:00\n",
       "282011          39      123728       447893    3.00  2021-09-19 00:00:00\n",
       "578865          39      124589       342405    3.00  2022-05-25 00:00:00\n",
       "493025          39      123772       383601    3.00  2019-05-30 00:00:00\n",
       "513505          39      123779       475384    3.00  2021-11-01 00:00:00\n",
       "220363          23       55570       109950    3.08  2022-01-14 16:33:32\n",
       "187823          23       52700       106789    3.00  2017-05-04 11:48:14"
      ]
     },
     "execution_count": 11,
     "metadata": {},
     "output_type": "execute_result"
    }
   ],
   "source": [
    "df_relation.sample(10)"
   ]
  },
  {
   "cell_type": "markdown",
   "id": "12973263",
   "metadata": {},
   "source": [
    "## No hay duplicados"
   ]
  },
  {
   "cell_type": "code",
   "execution_count": 39,
   "id": "6e1a749e",
   "metadata": {},
   "outputs": [
    {
     "data": {
      "text/html": [
       "<div>\n",
       "<style scoped>\n",
       "    .dataframe tbody tr th:only-of-type {\n",
       "        vertical-align: middle;\n",
       "    }\n",
       "\n",
       "    .dataframe tbody tr th {\n",
       "        vertical-align: top;\n",
       "    }\n",
       "\n",
       "    .dataframe thead th {\n",
       "        text-align: right;\n",
       "    }\n",
       "</style>\n",
       "<table border=\"1\" class=\"dataframe\">\n",
       "  <thead>\n",
       "    <tr style=\"text-align: right;\">\n",
       "      <th></th>\n",
       "      <th>company_id</th>\n",
       "      <th>product_id</th>\n",
       "      <th>customer_id</th>\n",
       "      <th>peso</th>\n",
       "      <th>ultimo</th>\n",
       "      <th>peso_boxcox</th>\n",
       "    </tr>\n",
       "  </thead>\n",
       "  <tbody>\n",
       "  </tbody>\n",
       "</table>\n",
       "</div>"
      ],
      "text/plain": [
       "Empty DataFrame\n",
       "Columns: [company_id, product_id, customer_id, peso, ultimo, peso_boxcox]\n",
       "Index: []"
      ]
     },
     "execution_count": 39,
     "metadata": {},
     "output_type": "execute_result"
    }
   ],
   "source": [
    "df_relation [ df_relation[[\"company_id\", \"product_id\", \"customer_id\"]].duplicated() ]"
   ]
  },
  {
   "cell_type": "code",
   "execution_count": 40,
   "id": "0cec4437",
   "metadata": {
    "scrolled": false
   },
   "outputs": [
    {
     "data": {
      "text/html": [
       "<div>\n",
       "<style scoped>\n",
       "    .dataframe tbody tr th:only-of-type {\n",
       "        vertical-align: middle;\n",
       "    }\n",
       "\n",
       "    .dataframe tbody tr th {\n",
       "        vertical-align: top;\n",
       "    }\n",
       "\n",
       "    .dataframe thead th {\n",
       "        text-align: right;\n",
       "    }\n",
       "</style>\n",
       "<table border=\"1\" class=\"dataframe\">\n",
       "  <thead>\n",
       "    <tr style=\"text-align: right;\">\n",
       "      <th></th>\n",
       "      <th>company_id</th>\n",
       "      <th>product_id</th>\n",
       "      <th>customer_id</th>\n",
       "      <th>peso</th>\n",
       "      <th>ultimo</th>\n",
       "      <th>peso_boxcox</th>\n",
       "    </tr>\n",
       "  </thead>\n",
       "  <tbody>\n",
       "  </tbody>\n",
       "</table>\n",
       "</div>"
      ],
      "text/plain": [
       "Empty DataFrame\n",
       "Columns: [company_id, product_id, customer_id, peso, ultimo, peso_boxcox]\n",
       "Index: []"
      ]
     },
     "execution_count": 40,
     "metadata": {},
     "output_type": "execute_result"
    }
   ],
   "source": [
    "df_relation [ df_relation[[\"product_id\", \"customer_id\"]].duplicated() ]"
   ]
  },
  {
   "cell_type": "markdown",
   "id": "c8618c59",
   "metadata": {},
   "source": [
    "## Compañias"
   ]
  },
  {
   "cell_type": "code",
   "execution_count": 12,
   "id": "caad863a",
   "metadata": {},
   "outputs": [
    {
     "data": {
      "text/plain": [
       "array([ 1,  3,  4,  5,  6,  7,  8,  9, 10, 12, 13, 14, 15, 16, 18, 19, 21,\n",
       "       23, 24, 29, 30, 31, 32, 33, 34, 35, 36, 39, 40, 44])"
      ]
     },
     "execution_count": 12,
     "metadata": {},
     "output_type": "execute_result"
    }
   ],
   "source": [
    "company_ids = df_relation.company_id.unique()#.tolist()\n",
    "company_ids"
   ]
  },
  {
   "cell_type": "code",
   "execution_count": 13,
   "id": "cade53b3",
   "metadata": {
    "scrolled": false
   },
   "outputs": [
    {
     "name": "stdout",
     "output_type": "stream",
     "text": [
      "=============================== Company: 1\n",
      "Number of users: 314\n",
      "Number of items: 296\n",
      "Number of interactions: 14902 ( 16.03 %)\n"
     ]
    },
    {
     "data": {
      "image/png": "[encoded data removed]",
      "text/plain": [
       "<PIL.Image.Image image mode=L size=296x314>"
      ]
     },
     "metadata": {},
     "output_type": "display_data"
    },
    {
     "name": "stdout",
     "output_type": "stream",
     "text": [
      "=============================== Company: 3\n",
      "Number of users: 384\n",
      "Number of items: 65\n",
      "Number of interactions: 847 ( 3.39 %)\n"
     ]
    },
    {
     "data": {
      "image/png": "[encoded data removed]",
      "text/plain": [
       "<PIL.Image.Image image mode=L size=65x384>"
      ]
     },
     "metadata": {},
     "output_type": "display_data"
    },
    {
     "name": "stdout",
     "output_type": "stream",
     "text": [
      "=============================== Company: 4\n",
      "Number of users: 2\n",
      "Number of items: 3\n",
      "Number of interactions: 5 ( 83.33 %)\n"
     ]
    },
    {
     "data": {
      "image/png": "[encoded data removed]",
      "text/plain": [
       "<PIL.Image.Image image mode=L size=3x2>"
      ]
     },
     "metadata": {},
     "output_type": "display_data"
    },
    {
     "name": "stdout",
     "output_type": "stream",
     "text": [
      "=============================== Company: 5\n",
      "Number of users: 21\n",
      "Number of items: 111\n",
      "Number of interactions: 419 ( 17.98 %)\n"
     ]
    },
    {
     "data": {
      "image/png": "[encoded data removed]",
      "text/plain": [
       "<PIL.Image.Image image mode=L size=111x21>"
      ]
     },
     "metadata": {},
     "output_type": "display_data"
    },
    {
     "name": "stdout",
     "output_type": "stream",
     "text": [
      "=============================== Company: 6\n",
      "Number of users: 244\n",
      "Number of items: 749\n",
      "Number of interactions: 4990 ( 2.73 %)\n"
     ]
    },
    {
     "data": {
      "image/png": "[encoded data removed]",
      "text/plain": [
       "<PIL.Image.Image image mode=L size=749x244>"
      ]
     },
     "metadata": {},
     "output_type": "display_data"
    },
    {
     "name": "stdout",
     "output_type": "stream",
     "text": [
      "=============================== Company: 7\n",
      "Number of users: 6\n",
      "Number of items: 34\n",
      "Number of interactions: 41 ( 20.1 %)\n"
     ]
    },
    {
     "data": {
      "image/png": "[encoded data removed]",
      "text/plain": [
       "<PIL.Image.Image image mode=L size=34x6>"
      ]
     },
     "metadata": {},
     "output_type": "display_data"
    }
   ],
   "source": [
    "for comp_id in company_ids[:6]:\n",
    "    print(\"=============================== Company:\", comp_id)\n",
    "    df = df_relation[ df_relation.company_id==comp_id ]\n",
    "    explore_matrix(df, \"customer_id\", \"product_id\")"
   ]
  },
  {
   "cell_type": "code",
   "execution_count": 14,
   "id": "efc0e926",
   "metadata": {},
   "outputs": [
    {
     "data": {
      "image/png": "[encoded data removed]",
      "text/plain": [
       "<Figure size 640x480 with 1 Axes>"
      ]
     },
     "metadata": {},
     "output_type": "display_data"
    }
   ],
   "source": [
    "df_relation.peso.plot.hist(bins=100);"
   ]
  },
  {
   "cell_type": "code",
   "execution_count": 15,
   "id": "3c551a9a",
   "metadata": {},
   "outputs": [
    {
     "data": {
      "text/plain": [
       "3.00     486844\n",
       "6.00      33501\n",
       "0.02      21406\n",
       "0.04      13140\n",
       "0.08      10703\n",
       "0.06       9587\n",
       "9.00       9328\n",
       "12.00      5095\n",
       "0.12       2948\n",
       "15.00      2832\n",
       "18.00      2299\n",
       "3.04       2212\n",
       "3.02       2116\n",
       "0.16       2106\n",
       "3.06       1671\n",
       "3.08       1631\n",
       "21.00      1618\n",
       "24.00      1414\n",
       "0.10       1154\n",
       "27.00      1019\n",
       "Name: peso, dtype: int64"
      ]
     },
     "execution_count": 15,
     "metadata": {},
     "output_type": "execute_result"
    }
   ],
   "source": [
    "df_relation.peso.value_counts().head(20)"
   ]
  },
  {
   "cell_type": "code",
   "execution_count": 16,
   "id": "9354bb60",
   "metadata": {},
   "outputs": [
    {
     "name": "stdout",
     "output_type": "stream",
     "text": [
      "0.18333853353644136\n"
     ]
    },
    {
     "data": {
      "text/html": [
       "<div>\n",
       "<style scoped>\n",
       "    .dataframe tbody tr th:only-of-type {\n",
       "        vertical-align: middle;\n",
       "    }\n",
       "\n",
       "    .dataframe tbody tr th {\n",
       "        vertical-align: top;\n",
       "    }\n",
       "\n",
       "    .dataframe thead th {\n",
       "        text-align: right;\n",
       "    }\n",
       "</style>\n",
       "<table border=\"1\" class=\"dataframe\">\n",
       "  <thead>\n",
       "    <tr style=\"text-align: right;\">\n",
       "      <th></th>\n",
       "      <th>company_id</th>\n",
       "      <th>product_id</th>\n",
       "      <th>customer_id</th>\n",
       "      <th>peso</th>\n",
       "      <th>ultimo</th>\n",
       "      <th>peso_boxcox</th>\n",
       "    </tr>\n",
       "  </thead>\n",
       "  <tbody>\n",
       "    <tr>\n",
       "      <th>0</th>\n",
       "      <td>1</td>\n",
       "      <td>1</td>\n",
       "      <td>3</td>\n",
       "      <td>6.0</td>\n",
       "      <td>2018-11-29 00:28:00</td>\n",
       "      <td>2.121110</td>\n",
       "    </tr>\n",
       "    <tr>\n",
       "      <th>1</th>\n",
       "      <td>1</td>\n",
       "      <td>1</td>\n",
       "      <td>5</td>\n",
       "      <td>183.0</td>\n",
       "      <td>2022-08-29 15:18:18</td>\n",
       "      <td>8.721185</td>\n",
       "    </tr>\n",
       "    <tr>\n",
       "      <th>2</th>\n",
       "      <td>1</td>\n",
       "      <td>1</td>\n",
       "      <td>6</td>\n",
       "      <td>6.0</td>\n",
       "      <td>2018-12-24 19:41:00</td>\n",
       "      <td>2.121110</td>\n",
       "    </tr>\n",
       "    <tr>\n",
       "      <th>3</th>\n",
       "      <td>1</td>\n",
       "      <td>1</td>\n",
       "      <td>7</td>\n",
       "      <td>39.0</td>\n",
       "      <td>2022-04-29 13:56:42</td>\n",
       "      <td>5.222620</td>\n",
       "    </tr>\n",
       "    <tr>\n",
       "      <th>4</th>\n",
       "      <td>1</td>\n",
       "      <td>1</td>\n",
       "      <td>8</td>\n",
       "      <td>3.0</td>\n",
       "      <td>2019-10-10 20:11:00</td>\n",
       "      <td>1.217070</td>\n",
       "    </tr>\n",
       "    <tr>\n",
       "      <th>...</th>\n",
       "      <td>...</td>\n",
       "      <td>...</td>\n",
       "      <td>...</td>\n",
       "      <td>...</td>\n",
       "      <td>...</td>\n",
       "      <td>...</td>\n",
       "    </tr>\n",
       "    <tr>\n",
       "      <th>636562</th>\n",
       "      <td>40</td>\n",
       "      <td>126862</td>\n",
       "      <td>510949</td>\n",
       "      <td>3.0</td>\n",
       "      <td>2022-10-03 00:20:19</td>\n",
       "      <td>1.217070</td>\n",
       "    </tr>\n",
       "    <tr>\n",
       "      <th>636563</th>\n",
       "      <td>40</td>\n",
       "      <td>126863</td>\n",
       "      <td>537570</td>\n",
       "      <td>3.0</td>\n",
       "      <td>2022-10-02 13:39:19</td>\n",
       "      <td>1.217070</td>\n",
       "    </tr>\n",
       "    <tr>\n",
       "      <th>636564</th>\n",
       "      <td>40</td>\n",
       "      <td>126864</td>\n",
       "      <td>510626</td>\n",
       "      <td>3.0</td>\n",
       "      <td>2022-10-02 21:58:56</td>\n",
       "      <td>1.217070</td>\n",
       "    </tr>\n",
       "    <tr>\n",
       "      <th>636565</th>\n",
       "      <td>40</td>\n",
       "      <td>126971</td>\n",
       "      <td>509931</td>\n",
       "      <td>3.0</td>\n",
       "      <td>2022-10-02 22:42:54</td>\n",
       "      <td>1.217070</td>\n",
       "    </tr>\n",
       "    <tr>\n",
       "      <th>636566</th>\n",
       "      <td>40</td>\n",
       "      <td>126971</td>\n",
       "      <td>537615</td>\n",
       "      <td>3.0</td>\n",
       "      <td>2022-10-02 21:55:16</td>\n",
       "      <td>1.217070</td>\n",
       "    </tr>\n",
       "  </tbody>\n",
       "</table>\n",
       "<p>636567 rows × 6 columns</p>\n",
       "</div>"
      ],
      "text/plain": [
       "        company_id  product_id  customer_id   peso               ultimo  \\\n",
       "0                1           1            3    6.0  2018-11-29 00:28:00   \n",
       "1                1           1            5  183.0  2022-08-29 15:18:18   \n",
       "2                1           1            6    6.0  2018-12-24 19:41:00   \n",
       "3                1           1            7   39.0  2022-04-29 13:56:42   \n",
       "4                1           1            8    3.0  2019-10-10 20:11:00   \n",
       "...            ...         ...          ...    ...                  ...   \n",
       "636562          40      126862       510949    3.0  2022-10-03 00:20:19   \n",
       "636563          40      126863       537570    3.0  2022-10-02 13:39:19   \n",
       "636564          40      126864       510626    3.0  2022-10-02 21:58:56   \n",
       "636565          40      126971       509931    3.0  2022-10-02 22:42:54   \n",
       "636566          40      126971       537615    3.0  2022-10-02 21:55:16   \n",
       "\n",
       "        peso_boxcox  \n",
       "0          2.121110  \n",
       "1          8.721185  \n",
       "2          2.121110  \n",
       "3          5.222620  \n",
       "4          1.217070  \n",
       "...             ...  \n",
       "636562     1.217070  \n",
       "636563     1.217070  \n",
       "636564     1.217070  \n",
       "636565     1.217070  \n",
       "636566     1.217070  \n",
       "\n",
       "[636567 rows x 6 columns]"
      ]
     },
     "execution_count": 16,
     "metadata": {},
     "output_type": "execute_result"
    }
   ],
   "source": [
    "df_relation[\"peso_boxcox\"], lmbda = stats.boxcox(df_relation.peso)\n",
    "print(lmbda)\n",
    "df_relation"
   ]
  },
  {
   "cell_type": "code",
   "execution_count": 17,
   "id": "e2f07f32",
   "metadata": {},
   "outputs": [
    {
     "data": {
      "text/plain": [
       "<AxesSubplot:ylabel='Frequency'>"
      ]
     },
     "execution_count": 17,
     "metadata": {},
     "output_type": "execute_result"
    },
    {
     "data": {
      "image/png": "[encoded data removed]",
      "text/plain": [
       "<Figure size 640x480 with 1 Axes>"
      ]
     },
     "metadata": {},
     "output_type": "display_data"
    }
   ],
   "source": [
    "df_relation.peso_boxcox.plot.hist(bins=100)"
   ]
  },
  {
   "cell_type": "code",
   "execution_count": 18,
   "id": "a3579135",
   "metadata": {},
   "outputs": [
    {
     "data": {
      "text/plain": [
       "(-2.7920748927290626, 25.626627721213385)"
      ]
     },
     "execution_count": 18,
     "metadata": {},
     "output_type": "execute_result"
    }
   ],
   "source": [
    "df_relation.peso_boxcox.min(), df_relation.peso_boxcox.max()"
   ]
  },
  {
   "cell_type": "code",
   "execution_count": 19,
   "id": "ec918183",
   "metadata": {},
   "outputs": [
    {
     "data": {
      "text/html": [
       "<div>\n",
       "<style scoped>\n",
       "    .dataframe tbody tr th:only-of-type {\n",
       "        vertical-align: middle;\n",
       "    }\n",
       "\n",
       "    .dataframe tbody tr th {\n",
       "        vertical-align: top;\n",
       "    }\n",
       "\n",
       "    .dataframe thead th {\n",
       "        text-align: right;\n",
       "    }\n",
       "</style>\n",
       "<table border=\"1\" class=\"dataframe\">\n",
       "  <thead>\n",
       "    <tr style=\"text-align: right;\">\n",
       "      <th></th>\n",
       "      <th>company_id</th>\n",
       "      <th>product_id</th>\n",
       "      <th>customer_id</th>\n",
       "      <th>peso</th>\n",
       "      <th>ultimo</th>\n",
       "      <th>peso_boxcox</th>\n",
       "    </tr>\n",
       "  </thead>\n",
       "  <tbody>\n",
       "    <tr>\n",
       "      <th>146424</th>\n",
       "      <td>23</td>\n",
       "      <td>28888</td>\n",
       "      <td>118364</td>\n",
       "      <td>0.08</td>\n",
       "      <td>2022-08-12 20:15:34</td>\n",
       "      <td>-2.021655</td>\n",
       "    </tr>\n",
       "    <tr>\n",
       "      <th>146425</th>\n",
       "      <td>23</td>\n",
       "      <td>28890</td>\n",
       "      <td>532280</td>\n",
       "      <td>0.08</td>\n",
       "      <td>2022-08-12 20:08:26</td>\n",
       "      <td>-2.021655</td>\n",
       "    </tr>\n",
       "    <tr>\n",
       "      <th>146426</th>\n",
       "      <td>23</td>\n",
       "      <td>28891</td>\n",
       "      <td>101041</td>\n",
       "      <td>0.08</td>\n",
       "      <td>2022-08-12 19:06:38</td>\n",
       "      <td>-2.021655</td>\n",
       "    </tr>\n",
       "    <tr>\n",
       "      <th>146427</th>\n",
       "      <td>23</td>\n",
       "      <td>28892</td>\n",
       "      <td>116295</td>\n",
       "      <td>0.08</td>\n",
       "      <td>2022-08-12 11:14:09</td>\n",
       "      <td>-2.021655</td>\n",
       "    </tr>\n",
       "    <tr>\n",
       "      <th>146428</th>\n",
       "      <td>23</td>\n",
       "      <td>28893</td>\n",
       "      <td>117588</td>\n",
       "      <td>0.08</td>\n",
       "      <td>2022-08-13 04:15:28</td>\n",
       "      <td>-2.021655</td>\n",
       "    </tr>\n",
       "    <tr>\n",
       "      <th>...</th>\n",
       "      <td>...</td>\n",
       "      <td>...</td>\n",
       "      <td>...</td>\n",
       "      <td>...</td>\n",
       "      <td>...</td>\n",
       "      <td>...</td>\n",
       "    </tr>\n",
       "    <tr>\n",
       "      <th>636512</th>\n",
       "      <td>23</td>\n",
       "      <td>57621</td>\n",
       "      <td>537317</td>\n",
       "      <td>0.04</td>\n",
       "      <td>2022-01-14 10:09:18</td>\n",
       "      <td>-2.431308</td>\n",
       "    </tr>\n",
       "    <tr>\n",
       "      <th>636513</th>\n",
       "      <td>23</td>\n",
       "      <td>57739</td>\n",
       "      <td>537317</td>\n",
       "      <td>0.04</td>\n",
       "      <td>2022-01-14 10:09:08</td>\n",
       "      <td>-2.431308</td>\n",
       "    </tr>\n",
       "    <tr>\n",
       "      <th>636514</th>\n",
       "      <td>23</td>\n",
       "      <td>58193</td>\n",
       "      <td>111111</td>\n",
       "      <td>0.04</td>\n",
       "      <td>2022-10-02 23:16:52</td>\n",
       "      <td>-2.431308</td>\n",
       "    </tr>\n",
       "    <tr>\n",
       "      <th>636515</th>\n",
       "      <td>23</td>\n",
       "      <td>58743</td>\n",
       "      <td>537565</td>\n",
       "      <td>0.04</td>\n",
       "      <td>2022-08-26 19:25:13</td>\n",
       "      <td>-2.431308</td>\n",
       "    </tr>\n",
       "    <tr>\n",
       "      <th>636516</th>\n",
       "      <td>23</td>\n",
       "      <td>69888</td>\n",
       "      <td>537565</td>\n",
       "      <td>3.06</td>\n",
       "      <td>2022-10-02 22:38:19</td>\n",
       "      <td>1.241336</td>\n",
       "    </tr>\n",
       "  </tbody>\n",
       "</table>\n",
       "<p>88005 rows × 6 columns</p>\n",
       "</div>"
      ],
      "text/plain": [
       "        company_id  product_id  customer_id  peso               ultimo  \\\n",
       "146424          23       28888       118364  0.08  2022-08-12 20:15:34   \n",
       "146425          23       28890       532280  0.08  2022-08-12 20:08:26   \n",
       "146426          23       28891       101041  0.08  2022-08-12 19:06:38   \n",
       "146427          23       28892       116295  0.08  2022-08-12 11:14:09   \n",
       "146428          23       28893       117588  0.08  2022-08-13 04:15:28   \n",
       "...            ...         ...          ...   ...                  ...   \n",
       "636512          23       57621       537317  0.04  2022-01-14 10:09:18   \n",
       "636513          23       57739       537317  0.04  2022-01-14 10:09:08   \n",
       "636514          23       58193       111111  0.04  2022-10-02 23:16:52   \n",
       "636515          23       58743       537565  0.04  2022-08-26 19:25:13   \n",
       "636516          23       69888       537565  3.06  2022-10-02 22:38:19   \n",
       "\n",
       "        peso_boxcox  \n",
       "146424    -2.021655  \n",
       "146425    -2.021655  \n",
       "146426    -2.021655  \n",
       "146427    -2.021655  \n",
       "146428    -2.021655  \n",
       "...             ...  \n",
       "636512    -2.431308  \n",
       "636513    -2.431308  \n",
       "636514    -2.431308  \n",
       "636515    -2.431308  \n",
       "636516     1.241336  \n",
       "\n",
       "[88005 rows x 6 columns]"
      ]
     },
     "execution_count": 19,
     "metadata": {},
     "output_type": "execute_result"
    }
   ],
   "source": [
    "df_comp23_relation = df_relation[ df_relation.company_id==23 ]\n",
    "df_comp23_relation"
   ]
  },
  {
   "cell_type": "code",
   "execution_count": 12,
   "id": "f15ea7fb",
   "metadata": {},
   "outputs": [],
   "source": []
  },
  {
   "cell_type": "code",
   "execution_count": 20,
   "id": "745c9316",
   "metadata": {},
   "outputs": [],
   "source": [
    "dls = CollabDataLoaders.from_df(ratings=df_comp23_relation,\n",
    "                                valid_pct=0.2,\n",
    "                                user_name=\"customer_id\",\n",
    "                                item_name=\"product_id\",\n",
    "                                rating_name=\"peso_boxcox\",\n",
    "                                seed=None,\n",
    "                                bs=64)"
   ]
  },
  {
   "cell_type": "code",
   "execution_count": 21,
   "id": "6a9c78c6",
   "metadata": {},
   "outputs": [
    {
     "data": {
      "text/html": [
       "<table border=\"1\" class=\"dataframe\">\n",
       "  <thead>\n",
       "    <tr style=\"text-align: right;\">\n",
       "      <th></th>\n",
       "      <th>customer_id</th>\n",
       "      <th>product_id</th>\n",
       "      <th>peso_boxcox</th>\n",
       "    </tr>\n",
       "  </thead>\n",
       "  <tbody>\n",
       "    <tr>\n",
       "      <th>0</th>\n",
       "      <td>103678</td>\n",
       "      <td>52095</td>\n",
       "      <td>1.217070</td>\n",
       "    </tr>\n",
       "    <tr>\n",
       "      <th>1</th>\n",
       "      <td>106182</td>\n",
       "      <td>52128</td>\n",
       "      <td>1.217070</td>\n",
       "    </tr>\n",
       "    <tr>\n",
       "      <th>2</th>\n",
       "      <td>102466</td>\n",
       "      <td>54429</td>\n",
       "      <td>-2.431309</td>\n",
       "    </tr>\n",
       "    <tr>\n",
       "      <th>3</th>\n",
       "      <td>119814</td>\n",
       "      <td>55365</td>\n",
       "      <td>1.217070</td>\n",
       "    </tr>\n",
       "    <tr>\n",
       "      <th>4</th>\n",
       "      <td>101704</td>\n",
       "      <td>51626</td>\n",
       "      <td>1.217070</td>\n",
       "    </tr>\n",
       "    <tr>\n",
       "      <th>5</th>\n",
       "      <td>104603</td>\n",
       "      <td>54587</td>\n",
       "      <td>3.163362</td>\n",
       "    </tr>\n",
       "    <tr>\n",
       "      <th>6</th>\n",
       "      <td>109085</td>\n",
       "      <td>51529</td>\n",
       "      <td>1.288723</td>\n",
       "    </tr>\n",
       "    <tr>\n",
       "      <th>7</th>\n",
       "      <td>104647</td>\n",
       "      <td>51473</td>\n",
       "      <td>1.217070</td>\n",
       "    </tr>\n",
       "    <tr>\n",
       "      <th>8</th>\n",
       "      <td>102744</td>\n",
       "      <td>50469</td>\n",
       "      <td>1.217070</td>\n",
       "    </tr>\n",
       "    <tr>\n",
       "      <th>9</th>\n",
       "      <td>112106</td>\n",
       "      <td>55206</td>\n",
       "      <td>1.217070</td>\n",
       "    </tr>\n",
       "  </tbody>\n",
       "</table>"
      ],
      "text/plain": [
       "<IPython.core.display.HTML object>"
      ]
     },
     "metadata": {},
     "output_type": "display_data"
    }
   ],
   "source": [
    "dls.show_batch()"
   ]
  },
  {
   "cell_type": "code",
   "execution_count": 22,
   "id": "094116bf",
   "metadata": {},
   "outputs": [
    {
     "data": {
      "text/html": [
       "\n",
       "<style>\n",
       "    /* Turns off some styling */\n",
       "    progress {\n",
       "        /* gets rid of default border in Firefox and Opera. */\n",
       "        border: none;\n",
       "        /* Needs to be in here for Safari polyfill so background images work as expected. */\n",
       "        background-size: auto;\n",
       "    }\n",
       "    progress:not([value]), progress:not([value])::-webkit-progress-bar {\n",
       "        background: repeating-linear-gradient(45deg, #7e7e7e, #7e7e7e 10px, #5c5c5c 10px, #5c5c5c 20px);\n",
       "    }\n",
       "    .progress-bar-interrupted, .progress-bar-interrupted::-webkit-progress-bar {\n",
       "        background: #F44336;\n",
       "    }\n",
       "</style>\n"
      ],
      "text/plain": [
       "<IPython.core.display.HTML object>"
      ]
     },
     "metadata": {},
     "output_type": "display_data"
    },
    {
     "data": {
      "text/html": [
       "<table border=\"1\" class=\"dataframe\">\n",
       "  <thead>\n",
       "    <tr style=\"text-align: left;\">\n",
       "      <th>epoch</th>\n",
       "      <th>train_loss</th>\n",
       "      <th>valid_loss</th>\n",
       "      <th>mae</th>\n",
       "      <th>time</th>\n",
       "    </tr>\n",
       "  </thead>\n",
       "  <tbody>\n",
       "    <tr>\n",
       "      <td>0</td>\n",
       "      <td>32.867165</td>\n",
       "      <td>29.344473</td>\n",
       "      <td>4.384726</td>\n",
       "      <td>00:04</td>\n",
       "    </tr>\n",
       "    <tr>\n",
       "      <td>1</td>\n",
       "      <td>9.773914</td>\n",
       "      <td>11.014664</td>\n",
       "      <td>2.173610</td>\n",
       "      <td>00:04</td>\n",
       "    </tr>\n",
       "    <tr>\n",
       "      <td>2</td>\n",
       "      <td>5.756277</td>\n",
       "      <td>9.591437</td>\n",
       "      <td>1.962001</td>\n",
       "      <td>00:04</td>\n",
       "    </tr>\n",
       "    <tr>\n",
       "      <td>3</td>\n",
       "      <td>3.518925</td>\n",
       "      <td>9.243389</td>\n",
       "      <td>1.878011</td>\n",
       "      <td>00:04</td>\n",
       "    </tr>\n",
       "    <tr>\n",
       "      <td>4</td>\n",
       "      <td>2.503077</td>\n",
       "      <td>9.206673</td>\n",
       "      <td>1.863185</td>\n",
       "      <td>00:04</td>\n",
       "    </tr>\n",
       "  </tbody>\n",
       "</table>"
      ],
      "text/plain": [
       "<IPython.core.display.HTML object>"
      ]
     },
     "metadata": {},
     "output_type": "display_data"
    }
   ],
   "source": [
    "learn = collab_learner(dls, n_factors=50, y_range=(-3, 26), metrics=[mae])\n",
    "learn.fit_one_cycle(5, 5e-3, wd=0.1)"
   ]
  },
  {
   "cell_type": "code",
   "execution_count": 28,
   "id": "aebfb36f",
   "metadata": {},
   "outputs": [
    {
     "data": {
      "text/html": [
       "\n",
       "<style>\n",
       "    /* Turns off some styling */\n",
       "    progress {\n",
       "        /* gets rid of default border in Firefox and Opera. */\n",
       "        border: none;\n",
       "        /* Needs to be in here for Safari polyfill so background images work as expected. */\n",
       "        background-size: auto;\n",
       "    }\n",
       "    progress:not([value]), progress:not([value])::-webkit-progress-bar {\n",
       "        background: repeating-linear-gradient(45deg, #7e7e7e, #7e7e7e 10px, #5c5c5c 10px, #5c5c5c 20px);\n",
       "    }\n",
       "    .progress-bar-interrupted, .progress-bar-interrupted::-webkit-progress-bar {\n",
       "        background: #F44336;\n",
       "    }\n",
       "</style>\n"
      ],
      "text/plain": [
       "<IPython.core.display.HTML object>"
      ]
     },
     "metadata": {},
     "output_type": "display_data"
    },
    {
     "data": {
      "text/html": [
       "<table border=\"1\" class=\"dataframe\">\n",
       "  <thead>\n",
       "    <tr style=\"text-align: left;\">\n",
       "      <th>epoch</th>\n",
       "      <th>train_loss</th>\n",
       "      <th>valid_loss</th>\n",
       "      <th>mae</th>\n",
       "      <th>time</th>\n",
       "    </tr>\n",
       "  </thead>\n",
       "  <tbody>\n",
       "    <tr>\n",
       "      <td>0</td>\n",
       "      <td>31.172041</td>\n",
       "      <td>28.926107</td>\n",
       "      <td>4.342701</td>\n",
       "      <td>00:04</td>\n",
       "    </tr>\n",
       "    <tr>\n",
       "      <td>1</td>\n",
       "      <td>9.897020</td>\n",
       "      <td>10.968962</td>\n",
       "      <td>2.173523</td>\n",
       "      <td>00:04</td>\n",
       "    </tr>\n",
       "    <tr>\n",
       "      <td>2</td>\n",
       "      <td>5.556270</td>\n",
       "      <td>9.571959</td>\n",
       "      <td>1.960996</td>\n",
       "      <td>00:04</td>\n",
       "    </tr>\n",
       "    <tr>\n",
       "      <td>3</td>\n",
       "      <td>3.596327</td>\n",
       "      <td>9.269145</td>\n",
       "      <td>1.884384</td>\n",
       "      <td>00:04</td>\n",
       "    </tr>\n",
       "    <tr>\n",
       "      <td>4</td>\n",
       "      <td>2.608569</td>\n",
       "      <td>9.222979</td>\n",
       "      <td>1.863855</td>\n",
       "      <td>00:04</td>\n",
       "    </tr>\n",
       "  </tbody>\n",
       "</table>"
      ],
      "text/plain": [
       "<IPython.core.display.HTML object>"
      ]
     },
     "metadata": {},
     "output_type": "display_data"
    }
   ],
   "source": [
    "learn = collab_learner(dls, n_factors=50, y_range=(-3, 26), metrics=[mae])\n",
    "learn.fit_one_cycle(5, lr_max=5e-3, wd=0.1)"
   ]
  },
  {
   "cell_type": "code",
   "execution_count": 34,
   "id": "b18aa97e",
   "metadata": {},
   "outputs": [
    {
     "data": {
      "text/plain": [
       "EmbeddingDotBias(\n",
       "  (u_weight): Embedding(17393, 50)\n",
       "  (i_weight): Embedding(5989, 50)\n",
       "  (u_bias): Embedding(17393, 1)\n",
       "  (i_bias): Embedding(5989, 1)\n",
       ")"
      ]
     },
     "execution_count": 34,
     "metadata": {},
     "output_type": "execute_result"
    }
   ],
   "source": [
    "learn.model"
   ]
  },
  {
   "cell_type": "code",
   "execution_count": 35,
   "id": "4411f636",
   "metadata": {},
   "outputs": [
    {
     "data": {
      "text/plain": [
       "Embedding(17393, 50)"
      ]
     },
     "execution_count": 35,
     "metadata": {},
     "output_type": "execute_result"
    }
   ],
   "source": [
    "learn.model.u_weight"
   ]
  },
  {
   "cell_type": "code",
   "execution_count": 36,
   "id": "26d1b25d",
   "metadata": {},
   "outputs": [
    {
     "data": {
      "text/plain": [
       "Parameter containing:\n",
       "tensor([[-0.0016,  0.0037,  0.0010,  ..., -0.0008,  0.0040, -0.0041],\n",
       "        [-0.0716, -0.0509, -0.0683,  ..., -0.0347,  0.0673, -0.0733],\n",
       "        [-0.0760, -0.0918, -0.0785,  ..., -0.0951,  0.0828, -0.0619],\n",
       "        ...,\n",
       "        [-0.0818, -0.0723, -0.0730,  ..., -0.0711,  0.0745,  0.0753],\n",
       "        [-0.0226, -0.0100, -0.0013,  ..., -0.0036,  0.0172,  0.0155],\n",
       "        [-0.0749, -0.0751, -0.0781,  ..., -0.0733,  0.0790,  0.0556]],\n",
       "       device='cuda:0', requires_grad=True)"
      ]
     },
     "execution_count": 36,
     "metadata": {},
     "output_type": "execute_result"
    }
   ],
   "source": [
    "learn.model.u_weight.weight"
   ]
  },
  {
   "cell_type": "code",
   "execution_count": 48,
   "id": "e3b9b42f",
   "metadata": {},
   "outputs": [
    {
     "data": {
      "text/plain": [
       "0.8281000000000001"
      ]
     },
     "execution_count": 48,
     "metadata": {},
     "output_type": "execute_result"
    }
   ],
   "source": [
    "0.91**2"
   ]
  },
  {
   "cell_type": "code",
   "execution_count": null,
   "id": "225e2644",
   "metadata": {},
   "outputs": [],
   "source": []
  }
 ],
 "metadata": {
  "kernelspec": {
   "display_name": "Python 3 (ipykernel)",
   "language": "python",
   "name": "python3"
  },
  "language_info": {
   "codemirror_mode": {
    "name": "ipython",
    "version": 3
   },
   "file_extension": ".py",
   "mimetype": "text/x-python",
   "name": "python",
   "nbconvert_exporter": "python",
   "pygments_lexer": "ipython3",
   "version": "3.10.7"
  }
 },
 "nbformat": 4,
 "nbformat_minor": 5
}
