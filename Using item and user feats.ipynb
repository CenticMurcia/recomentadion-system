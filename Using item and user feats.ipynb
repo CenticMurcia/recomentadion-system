{
 "cells": [
  {
   "cell_type": "code",
   "execution_count": 1,
   "id": "f2a86474",
   "metadata": {},
   "outputs": [],
   "source": [
    "import numpy as np\n",
    "import pandas as pd\n",
    "import matplotlib.pyplot as plt\n",
    "\n",
    "from tqdm import tqdm\n",
    "from sklearn.preprocessing import LabelEncoder, StandardScaler\n",
    "import torch\n",
    "pd.set_option('display.max_columns', None)"
   ]
  },
  {
   "cell_type": "code",
   "execution_count": 2,
   "id": "e2c9a8dc",
   "metadata": {},
   "outputs": [
    {
     "name": "stderr",
     "output_type": "stream",
     "text": [
      "/tmp/ipykernel_996/1774659839.py:4: DtypeWarning: Columns (7,9,10,11,12,13,17,18,21,26,27,28,30,36) have mixed types. Specify dtype option on import or set low_memory=False.\n",
      "  users = pd.read_csv(dataPath + \"customers.csv\", index_col=\"id\")\n",
      "/tmp/ipykernel_996/1774659839.py:5: DtypeWarning: Columns (20,32,34,39) have mixed types. Specify dtype option on import or set low_memory=False.\n",
      "  items = pd.read_csv(dataPath + \"products.csv\", index_col=\"id\")\n"
     ]
    }
   ],
   "source": [
    "dataPath = \"data/\"\n",
    "\n",
    "pairs = pd.read_csv(dataPath + \"relation.csv\")\n",
    "users = pd.read_csv(dataPath + \"customers.csv\", index_col=\"id\")\n",
    "items = pd.read_csv(dataPath + \"products.csv\", index_col=\"id\")\n"
   ]
  },
  {
   "cell_type": "markdown",
   "id": "90d7c918",
   "metadata": {},
   "source": [
    "### Compañia 15"
   ]
  },
  {
   "cell_type": "code",
   "execution_count": 3,
   "id": "d56bbacd",
   "metadata": {},
   "outputs": [],
   "source": [
    "df_pairs = pairs[ pairs.company_id == 15]#.copy()\n",
    "df_users = users[ users.company_id == 15]#.copy()\n",
    "df_items = items[ items.company_id == 15]#.copy()"
   ]
  },
  {
   "cell_type": "code",
   "execution_count": 4,
   "id": "61636393",
   "metadata": {},
   "outputs": [],
   "source": [
    "# Comprobacion de que no haya usuarios ni productos duplicados\n",
    "\n",
    "assert df_users.index.duplicated().any()==False\n",
    "assert df_items.index.duplicated().any()==False"
   ]
  },
  {
   "cell_type": "markdown",
   "id": "e0d54a98",
   "metadata": {},
   "source": [
    "### Quitar usuarios que interaccionan pero no estan contemplados en la tabla usuarios (unos 575)"
   ]
  },
  {
   "cell_type": "code",
   "execution_count": 5,
   "id": "9f2459d8",
   "metadata": {},
   "outputs": [
    {
     "data": {
      "text/plain": [
       "575"
      ]
     },
     "execution_count": 5,
     "metadata": {},
     "output_type": "execute_result"
    }
   ],
   "source": [
    "usuarios_que_interaccionan_pero_no_en_tabla_usuarios = set(df_pairs.customer_id) - set(df_users.index)\n",
    "len(usuarios_que_interaccionan_pero_no_en_tabla_usuarios)"
   ]
  },
  {
   "cell_type": "code",
   "execution_count": 6,
   "id": "b8d1bc55",
   "metadata": {},
   "outputs": [
    {
     "data": {
      "text/plain": [
       "59167"
      ]
     },
     "execution_count": 6,
     "metadata": {},
     "output_type": "execute_result"
    }
   ],
   "source": [
    "df_pairs = df_pairs[ ~df_pairs.customer_id.isin(usuarios_que_interaccionan_pero_no_en_tabla_usuarios) ]\n",
    "len(df_pairs)"
   ]
  },
  {
   "cell_type": "markdown",
   "id": "8ad970eb",
   "metadata": {},
   "source": [
    "### Quitar productos que interaccionan pero no estan contemplados en la tabla productos (unos 162)"
   ]
  },
  {
   "cell_type": "code",
   "execution_count": 7,
   "id": "89f46222",
   "metadata": {},
   "outputs": [
    {
     "data": {
      "text/plain": [
       "162"
      ]
     },
     "execution_count": 7,
     "metadata": {},
     "output_type": "execute_result"
    }
   ],
   "source": [
    "productos_que_interaccionan_pero_no_en_tabla_productos = set(df_pairs.product_id) - set(df_items.index)\n",
    "len(productos_que_interaccionan_pero_no_en_tabla_productos)"
   ]
  },
  {
   "cell_type": "code",
   "execution_count": 8,
   "id": "717fef85",
   "metadata": {},
   "outputs": [
    {
     "data": {
      "text/plain": [
       "58913"
      ]
     },
     "execution_count": 8,
     "metadata": {},
     "output_type": "execute_result"
    }
   ],
   "source": [
    "df_pairs = df_pairs[ ~df_pairs.product_id.isin(productos_que_interaccionan_pero_no_en_tabla_productos) ]\n",
    "len(df_pairs)"
   ]
  },
  {
   "cell_type": "markdown",
   "id": "a03c0eba",
   "metadata": {},
   "source": [
    "# <center> Fin código limepieza datos\n",
    "---\n",
    "# <center> Inicio código Sistema de recomendación"
   ]
  },
  {
   "cell_type": "code",
   "execution_count": 9,
   "id": "7d3daba6",
   "metadata": {},
   "outputs": [],
   "source": [
    "from recommenderSystem2 import RecSys2\n",
    "r = RecSys2()"
   ]
  },
  {
   "cell_type": "code",
   "execution_count": 10,
   "id": "f48c9932",
   "metadata": {},
   "outputs": [
    {
     "name": "stdout",
     "output_type": "stream",
     "text": [
      "Leyendo datos...\n",
      "Entrenando modelo...\n"
     ]
    },
    {
     "name": "stderr",
     "output_type": "stream",
     "text": [
      "100%|█████████████████████████████████████████████████████████████████████████████████████████████████████████████████████████████████████████████████| 921/921 [00:15<00:00, 57.91it/s]\n"
     ]
    },
    {
     "name": "stdout",
     "output_type": "stream",
     "text": [
      "tensor(3.7480, grad_fn=<MseLossBackward0>)\n"
     ]
    },
    {
     "name": "stderr",
     "output_type": "stream",
     "text": [
      "100%|█████████████████████████████████████████████████████████████████████████████████████████████████████████████████████████████████████████████████| 921/921 [00:15<00:00, 58.05it/s]"
     ]
    },
    {
     "name": "stdout",
     "output_type": "stream",
     "text": [
      "tensor(1.8869, grad_fn=<MseLossBackward0>)\n",
      "Generando embeddings...\n",
      "Terminado\n"
     ]
    },
    {
     "name": "stderr",
     "output_type": "stream",
     "text": [
      "\n"
     ]
    }
   ],
   "source": [
    "r.entrenar_modelo(df_pairs, df_users, df_items)"
   ]
  },
  {
   "cell_type": "code",
   "execution_count": 11,
   "id": "effe4031",
   "metadata": {},
   "outputs": [
    {
     "data": {
      "text/plain": [
       "(tensor([21724, 21726, 21728, 21730, 21731]),\n",
       " tensor([21725, 21727, 21729, 21742, 21744]))"
      ]
     },
     "execution_count": 11,
     "metadata": {},
     "output_type": "execute_result"
    }
   ],
   "source": [
    "r.activeUser_ids[:5], r.newUser_ids[:5]"
   ]
  },
  {
   "cell_type": "code",
   "execution_count": 12,
   "id": "0b140543",
   "metadata": {},
   "outputs": [
    {
     "data": {
      "text/plain": [
       "(tensor([28863, 28864, 28865, 28866, 28867]),\n",
       " tensor([28871, 28873, 28879, 28881, 28936]))"
      ]
     },
     "execution_count": 12,
     "metadata": {},
     "output_type": "execute_result"
    }
   ],
   "source": [
    "r.activeItem_ids[:5], r.newItem_ids[:5]"
   ]
  },
  {
   "cell_type": "code",
   "execution_count": 24,
   "id": "c833477a",
   "metadata": {},
   "outputs": [
    {
     "name": "stdout",
     "output_type": "stream",
     "text": [
      "torch.Size([2, 32]) torch.Size([32])\n",
      "torch.Size([3, 32]) torch.Size([32])\n"
     ]
    },
    {
     "data": {
      "text/plain": [
       "tensor([167395,  25364,  30073,  44010,  30052,  33696,  52051,  51995, 161419,\n",
       "        140554,  28960,  48820, 143774,  32085,  46274,  36079,  54672, 280950,\n",
       "         40124,  47328,  32686,  32998, 213787,  31184,  56686, 144796,  31890,\n",
       "         27853,  45491,  25624,  51216, 153966,  51141,  43774,  35872,  31451,\n",
       "         23094, 165342,  53345, 505965,  58994,  33540, 529624,  56809,  29070,\n",
       "         46701,  42442,  37552])"
      ]
     },
     "execution_count": 24,
     "metadata": {},
     "output_type": "execute_result"
    }
   ],
   "source": [
    "r.recomendar(query_user_ids=[21724, 21726], query_item_ids=[28863, 28864, 28865], peso_query_user=0.3,\n",
    "            searchOn_act_users=True, limit=0.65)"
   ]
  },
  {
   "cell_type": "code",
   "execution_count": 13,
   "id": "e5588c20",
   "metadata": {},
   "outputs": [
    {
     "data": {
      "text/plain": [
       "tensor([170430,  53313,  21726,  21724, 146186, 518928, 231517, 231566,  35532,\n",
       "        483088, 155420, 157056, 149349, 231531, 151480, 171887, 374717, 517240,\n",
       "        529719, 140523,  42697, 533962,  78717, 140806, 230110, 170642, 537502,\n",
       "        149114, 220129, 535114, 456423, 155714, 149462,  28387, 148240, 145249,\n",
       "        141620, 165493, 146426, 518563, 512614, 148432, 151425, 307091,  24389,\n",
       "         53913, 533417, 165905, 532995, 348414, 409654, 140676, 169043, 537517,\n",
       "        461714, 536699, 140281, 172200, 159292, 231585, 533437,  40886,  23552,\n",
       "        146062,  45457, 160643,  59396, 536282,  54547, 140340, 167863, 537411,\n",
       "        536444, 429239,  56244, 149557,  73665,  37637,  35984, 151105, 530230,\n",
       "         52462, 531640, 153479, 531012, 532140,  52028, 147025,  53932, 141590,\n",
       "        535335, 142873, 165280, 532503, 170484, 148959,  44352, 536662, 517261,\n",
       "        151334,  51583,  51148, 486566, 172246,  52959, 165230, 172202, 156747,\n",
       "        506218, 142167,  27413,  72237, 534156,  43696, 518770, 140567, 159011,\n",
       "        153253, 221326, 140628, 533218,  24871,  43109, 168143,  30318,  54939,\n",
       "        170593,  42403, 172251,  53093,  39472, 536402, 146502,  48084,  46445,\n",
       "        302093, 231387,  32652, 488644, 532180,  53182, 151438, 343652, 164195,\n",
       "        530762, 486968,  54705, 535038, 506278, 375478, 170918, 164492,  37730,\n",
       "         37486, 140549, 169101, 221373,  37582, 167674,  43683,  41064, 168223,\n",
       "        151069, 475817,  44611, 149279,  49909,  26778, 529633, 146355, 151265,\n",
       "         36545, 151744, 536369, 322897, 148767, 230853, 150542, 160271,  29354,\n",
       "        148648,  23213, 148219, 160308, 140479,  30590, 151538, 518709, 285653,\n",
       "        168647, 506244, 533065, 153361,  50111, 140477, 145845,  44791, 324472,\n",
       "        474532, 155359,  37867, 153978, 290969, 146328, 153056, 474845,  24755,\n",
       "        195785, 146953, 529607, 174341, 168537, 529288,  21760, 284576, 145278,\n",
       "         54295, 161407, 154276, 495003, 155925, 161435, 149503, 155570, 149382,\n",
       "         49297,  28861, 167827, 165779, 140600, 155466, 154618,  39639, 148564,\n",
       "        140659, 155695, 230817, 303806, 151322, 156326, 147475,  40457, 146237,\n",
       "         30456, 145498, 536342, 165911,  35639,  54995, 174314, 518138, 146961,\n",
       "        168138, 468065,  56342, 142670, 519514, 195953,  40081, 529299, 214174,\n",
       "        153076,  25070, 171647, 532487, 149464, 141661, 533193, 123984, 519497,\n",
       "        140705, 140350,  42659, 230891, 487975, 140356, 517924, 287149,  34393,\n",
       "        305927, 322954,  41326,  40163, 149122, 171062, 481225,  75885,  23143,\n",
       "        174775, 534474, 476082, 141599, 537569, 150535, 155938, 529585,  49480,\n",
       "        170915, 140371,  54123, 455930,  40171, 145570, 162830,  35424, 156448,\n",
       "        230739,  35530,  41675,  38356, 506236, 146843,  42619, 535363, 149527,\n",
       "        514945, 518909, 150591, 150885, 534222, 155523, 145911, 151489, 144791,\n",
       "        213739, 151487, 537265, 359857, 165838,  27831,  54509,  29144, 517161,\n",
       "         50261, 492270,  49595, 149242, 149387, 148786,  31355, 159176,  52854,\n",
       "        167807,  31890, 140701, 283763, 533926,  41695,  21793, 149200, 195194,\n",
       "        174842, 536474, 529301,  44640, 533561, 535134, 534920, 149136,  26335,\n",
       "        147725,  28252, 143748,  39713, 167196, 174732,  51297, 140674, 519535,\n",
       "        143528,  34789, 160172, 141658, 159510,  33965, 153470, 535094, 531953,\n",
       "        140274,  24178,  38107, 484270,  56381,  30128, 153095,  54503, 506176,\n",
       "        170966, 169069, 529171, 533284,  42528, 518598, 505721, 143846, 140404,\n",
       "         35598,  28129, 534040, 154652,  48621, 144205, 518588,  39136, 147576,\n",
       "         25651,  53030, 171886,  49924,  33234,  38254,  26280, 153203, 230173,\n",
       "         39725, 153205, 140294,  42279, 532954, 219630,  52837, 280967, 231143,\n",
       "         36175, 533226, 160025,  53502, 195153, 536437,  30175,  41236, 220096,\n",
       "        146561, 530495,  32322,  42404, 534272,  35448, 143404, 530714, 220124,\n",
       "        534245,  23099,  40871, 123738, 140443, 506375, 151272, 518534, 219872,\n",
       "        529170, 537253, 156208,  27292,  48328,  35933, 534460, 195071,  49566,\n",
       "         28457, 164209, 148746, 533993, 535265,  49397,  46333,  43580, 147108,\n",
       "        537365, 160838,  43358, 231577, 195092, 537612, 170421, 156547,  23286,\n",
       "        166153,  37420, 148241, 533030, 533090, 140638, 517074,  38581, 537417,\n",
       "         35673,  26288, 213896,  55911, 144156, 170815, 140704, 532131,  54709,\n",
       "        147695, 303273, 164806,  50778, 513004, 123674,  38806, 534447, 534030,\n",
       "         39440, 195952, 144192, 165112, 140535,  33927, 519390, 534905, 305924,\n",
       "         47327, 140601, 171851, 505744, 517922, 151229,  36479, 140482, 230317,\n",
       "        168615, 140302, 143851, 536672,  44243, 123231, 140677, 296419, 535102,\n",
       "         34946, 164623, 534044,  56174, 156749, 155050, 144193, 535287, 214015,\n",
       "         34692, 146228, 140364, 361150, 350512, 532599,  50102, 140681, 506331,\n",
       "        153973, 537383,  51741, 143082,  53422, 533914,  26327,  52225, 533101,\n",
       "         33497, 517467, 153377, 529193, 146773,  29816,  44698, 140752,  32467,\n",
       "         54163, 214354, 153478,  25636,  47933, 146668, 148357, 156801,  30235,\n",
       "         33593, 537247,  35481, 529708,  29577,  55584, 169688, 171259, 290523,\n",
       "        153356, 286784,  73577,  31667, 194832, 147035, 141655,  22885, 231555,\n",
       "         54147, 231464, 160864, 172197,  37235, 529305, 149534, 537545, 537540])"
      ]
     },
     "execution_count": 13,
     "metadata": {},
     "output_type": "execute_result"
    }
   ],
   "source": [
    "r.recomendar(query_user_ids=[21724, 21726], searchOn_act_users=True, limit=0.8)"
   ]
  },
  {
   "cell_type": "code",
   "execution_count": 14,
   "id": "a6168ad8",
   "metadata": {},
   "outputs": [
    {
     "data": {
      "text/plain": [
       "tensor([534062, 230194, 121961,  50447,  51045,  73344,  29971,  39161,  43962,\n",
       "        144200, 151248,  51932,  42768,  98707,  55195,  45013,  22973,  39304,\n",
       "        170151,  44992, 123216, 156356,  49156, 145467,  52262,  39773,  57576,\n",
       "         54834,  34503,  23073,  58964,  30387, 123164,  50791, 149566,  48407,\n",
       "        140432, 506318,  53445, 474843, 195603, 230647, 122071,  50937,  59612,\n",
       "         29070,  52587, 517911,  44589,  37460,  53749,  58572, 145251,  23097,\n",
       "         24259,  53841,  59540,  53304,  51448, 170308, 163279,  40549, 230955,\n",
       "         35714, 147995,  52028, 142936,  37440,  34545,  51143,  30446,  44456,\n",
       "         53034,  76955, 477914,  40405, 536248, 123234, 531640, 140768,  73411,\n",
       "         76789,  27466, 167827, 534103,  58618,  45690,  75322,  23753,  27076,\n",
       "        123938,  58317, 195592,  24165,  55811, 290969,  46078,  60268,  48254,\n",
       "        505717,  40628, 151205,  30452,  47764, 149505, 100339,  27973, 529671,\n",
       "        141647,  48921,  26579,  36170,  49536,  28958, 140717, 291722, 100146,\n",
       "         72886,  42960,  72134, 155821,  72390,  58039, 160559,  34939, 219595,\n",
       "         58959,  71703,  76197,  41872,  38365,  42619,  99300,  33862, 121369,\n",
       "        121855,  21960, 140701,  22268,  45024,  23526,  49384,  58606, 231565,\n",
       "         60346,  45664, 140597, 157443,  51251,  36749, 537301, 147873,  23379,\n",
       "        153955, 144096,  35607,  76947])"
      ]
     },
     "execution_count": 14,
     "metadata": {},
     "output_type": "execute_result"
    }
   ],
   "source": [
    "r.recomendar(query_item_ids=[28863, 28871], searchOn_act_users=True, limit=0.7)"
   ]
  },
  {
   "cell_type": "code",
   "execution_count": 17,
   "id": "c06366b4",
   "metadata": {},
   "outputs": [
    {
     "data": {
      "text/plain": [
       "tensor([[ 0.3719, -0.0594, -0.3835,  ...,  0.0198,  0.1380,  0.0437],\n",
       "        [ 0.3719, -0.0594, -0.3835,  ...,  0.0198,  0.1380,  0.0437],\n",
       "        [ 0.3719, -0.0594, -0.3835,  ...,  0.0198,  0.1380,  0.0437],\n",
       "        ...,\n",
       "        [ 0.3719, -0.0594, -0.3835,  ...,  0.0198,  0.1380,  0.0437],\n",
       "        [ 0.3210, -0.1262, -0.2409,  ..., -0.0244,  0.1400,  0.1837],\n",
       "        [ 0.3405, -0.0418, -0.3320,  ..., -0.0201,  0.0929,  0.2228]])"
      ]
     },
     "execution_count": 17,
     "metadata": {},
     "output_type": "execute_result"
    }
   ],
   "source": [
    "r.newUser_embs"
   ]
  },
  {
   "cell_type": "code",
   "execution_count": 18,
   "id": "be09fd37",
   "metadata": {},
   "outputs": [
    {
     "data": {
      "text/plain": [
       "tensor([[ 0.3192, -0.0241, -0.2915,  ..., -0.1165,  0.1095,  0.0411],\n",
       "        [ 0.3002, -0.0479,  0.0032,  ...,  0.0162,  0.1553, -0.0342],\n",
       "        [ 0.4004, -0.0542, -0.3557,  ...,  0.0184, -0.0594,  0.2058],\n",
       "        ...,\n",
       "        [ 0.2329, -0.1110, -0.2166,  ..., -0.0215,  0.4049,  0.1638],\n",
       "        [ 0.3030, -0.2221, -0.2273,  ..., -0.0230,  0.1322,  0.1733],\n",
       "        [ 0.2253, -0.0509, -0.3024,  ...,  0.0155, -0.0522,  0.0342]])"
      ]
     },
     "execution_count": 18,
     "metadata": {},
     "output_type": "execute_result"
    }
   ],
   "source": [
    "r.activeUser_embs"
   ]
  },
  {
   "cell_type": "code",
   "execution_count": 19,
   "id": "88182b64",
   "metadata": {},
   "outputs": [
    {
     "data": {
      "text/plain": [
       "tensor([[ 0.2910, -0.0460, -0.2071,  ...,  0.0156,  0.7747,  0.0952],\n",
       "        [ 0.2818, -0.0875, -0.2786,  ..., -0.1080,  0.1367,  0.4187],\n",
       "        [ 0.2780, -0.0760, -0.2691,  ...,  0.0087,  0.1218,  0.1433],\n",
       "        ...,\n",
       "        [ 0.3849, -0.0944, -0.1464,  ...,  0.0619,  0.1363,  0.2019],\n",
       "        [ 0.0826, -0.0628, -0.2057,  ...,  0.0445,  0.0963,  0.0569],\n",
       "        [ 0.1099,  0.1584, -0.2032,  ...,  0.0713,  0.0286, -0.1603]])"
      ]
     },
     "execution_count": 19,
     "metadata": {},
     "output_type": "execute_result"
    }
   ],
   "source": [
    "r.activeItem_embs"
   ]
  },
  {
   "cell_type": "code",
   "execution_count": null,
   "id": "ab4c16eb",
   "metadata": {},
   "outputs": [],
   "source": []
  }
 ],
 "metadata": {
  "kernelspec": {
   "display_name": "Python 3 (ipykernel)",
   "language": "python",
   "name": "python3"
  },
  "language_info": {
   "codemirror_mode": {
    "name": "ipython",
    "version": 3
   },
   "file_extension": ".py",
   "mimetype": "text/x-python",
   "name": "python",
   "nbconvert_exporter": "python",
   "pygments_lexer": "ipython3",
   "version": "3.10.8"
  }
 },
 "nbformat": 4,
 "nbformat_minor": 5
}
