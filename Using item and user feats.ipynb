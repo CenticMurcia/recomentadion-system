{
 "cells": [
  {
   "cell_type": "code",
   "execution_count": 1,
   "id": "f2a86474",
   "metadata": {},
   "outputs": [],
   "source": [
    "import numpy as np\n",
    "import pandas as pd\n",
    "import matplotlib.pyplot as plt\n",
    "\n",
    "from tqdm import tqdm\n",
    "from sklearn.preprocessing import LabelEncoder, StandardScaler\n",
    "import torch\n",
    "pd.set_option('display.max_columns', None)"
   ]
  },
  {
   "cell_type": "code",
   "execution_count": 2,
   "id": "e2c9a8dc",
   "metadata": {},
   "outputs": [
    {
     "name": "stderr",
     "output_type": "stream",
     "text": [
      "/tmp/ipykernel_1068/1774659839.py:4: DtypeWarning: Columns (7,9,10,11,12,13,17,18,21,26,27,28,30,36) have mixed types. Specify dtype option on import or set low_memory=False.\n",
      "  users = pd.read_csv(dataPath + \"customers.csv\", index_col=\"id\")\n",
      "/tmp/ipykernel_1068/1774659839.py:5: DtypeWarning: Columns (20,32,34,39) have mixed types. Specify dtype option on import or set low_memory=False.\n",
      "  items = pd.read_csv(dataPath + \"products.csv\", index_col=\"id\")\n"
     ]
    }
   ],
   "source": [
    "dataPath = \"data/\"\n",
    "\n",
    "pairs = pd.read_csv(dataPath + \"relation.csv\")\n",
    "users = pd.read_csv(dataPath + \"customers.csv\", index_col=\"id\")\n",
    "items = pd.read_csv(dataPath + \"products.csv\", index_col=\"id\")\n"
   ]
  },
  {
   "cell_type": "markdown",
   "id": "90d7c918",
   "metadata": {},
   "source": [
    "### Compañia 15"
   ]
  },
  {
   "cell_type": "code",
   "execution_count": 3,
   "id": "d56bbacd",
   "metadata": {},
   "outputs": [],
   "source": [
    "df_pairs = pairs[ pairs.company_id == 15]#.copy()\n",
    "df_users = users[ users.company_id == 15]#.copy()\n",
    "df_items = items[ items.company_id == 15]#.copy()"
   ]
  },
  {
   "cell_type": "code",
   "execution_count": 4,
   "id": "61636393",
   "metadata": {},
   "outputs": [],
   "source": [
    "# Comprobacion de que no haya usuarios ni productos duplicados\n",
    "\n",
    "assert df_users.index.duplicated().any()==False\n",
    "assert df_items.index.duplicated().any()==False"
   ]
  },
  {
   "cell_type": "markdown",
   "id": "e0d54a98",
   "metadata": {},
   "source": [
    "### Quitar usuarios que interaccionan pero no estan contemplados en la tabla usuarios (unos 575)"
   ]
  },
  {
   "cell_type": "code",
   "execution_count": 5,
   "id": "9f2459d8",
   "metadata": {},
   "outputs": [
    {
     "data": {
      "text/plain": [
       "575"
      ]
     },
     "execution_count": 5,
     "metadata": {},
     "output_type": "execute_result"
    }
   ],
   "source": [
    "usuarios_que_interaccionan_pero_no_en_tabla_usuarios = set(df_pairs.customer_id) - set(df_users.index)\n",
    "len(usuarios_que_interaccionan_pero_no_en_tabla_usuarios)"
   ]
  },
  {
   "cell_type": "code",
   "execution_count": 6,
   "id": "b8d1bc55",
   "metadata": {},
   "outputs": [
    {
     "data": {
      "text/plain": [
       "59167"
      ]
     },
     "execution_count": 6,
     "metadata": {},
     "output_type": "execute_result"
    }
   ],
   "source": [
    "df_pairs = df_pairs[ ~df_pairs.customer_id.isin(usuarios_que_interaccionan_pero_no_en_tabla_usuarios) ]\n",
    "len(df_pairs)"
   ]
  },
  {
   "cell_type": "markdown",
   "id": "8ad970eb",
   "metadata": {},
   "source": [
    "### Quitar productos que interaccionan pero no estan contemplados en la tabla productos (unos 162)"
   ]
  },
  {
   "cell_type": "code",
   "execution_count": 7,
   "id": "89f46222",
   "metadata": {},
   "outputs": [
    {
     "data": {
      "text/plain": [
       "162"
      ]
     },
     "execution_count": 7,
     "metadata": {},
     "output_type": "execute_result"
    }
   ],
   "source": [
    "productos_que_interaccionan_pero_no_en_tabla_productos = set(df_pairs.product_id) - set(df_items.index)\n",
    "len(productos_que_interaccionan_pero_no_en_tabla_productos)"
   ]
  },
  {
   "cell_type": "code",
   "execution_count": 8,
   "id": "717fef85",
   "metadata": {},
   "outputs": [
    {
     "data": {
      "text/plain": [
       "58913"
      ]
     },
     "execution_count": 8,
     "metadata": {},
     "output_type": "execute_result"
    }
   ],
   "source": [
    "df_pairs = df_pairs[ ~df_pairs.product_id.isin(productos_que_interaccionan_pero_no_en_tabla_productos) ]\n",
    "len(df_pairs)"
   ]
  },
  {
   "cell_type": "markdown",
   "id": "a03c0eba",
   "metadata": {},
   "source": [
    "# <center> Fin código limepieza datos\n",
    "---\n",
    "# <center> Inicio código Sistema de recomendación"
   ]
  },
  {
   "cell_type": "code",
   "execution_count": 9,
   "id": "7d3daba6",
   "metadata": {},
   "outputs": [],
   "source": [
    "from recommenderSystem2 import RecSys2\n",
    "r = RecSys2()"
   ]
  },
  {
   "cell_type": "code",
   "execution_count": 10,
   "id": "f48c9932",
   "metadata": {},
   "outputs": [
    {
     "name": "stdout",
     "output_type": "stream",
     "text": [
      "Leyendo datos...\n",
      "Entrenando modelo...\n"
     ]
    },
    {
     "name": "stderr",
     "output_type": "stream",
     "text": [
      "100%|███████████████████████████████████████████████████████████████████████████████████████████████████████████████████████████████████████████| 921/921 [00:16<00:00, 57.37it/s]\n"
     ]
    },
    {
     "name": "stdout",
     "output_type": "stream",
     "text": [
      "tensor(3.0489, grad_fn=<MseLossBackward0>)\n"
     ]
    },
    {
     "name": "stderr",
     "output_type": "stream",
     "text": [
      "100%|███████████████████████████████████████████████████████████████████████████████████████████████████████████████████████████████████████████| 921/921 [00:15<00:00, 59.74it/s]\n"
     ]
    },
    {
     "name": "stdout",
     "output_type": "stream",
     "text": [
      "tensor(2.5015, grad_fn=<MseLossBackward0>)\n",
      "Generando embeddings...\n",
      "Terminado\n"
     ]
    }
   ],
   "source": [
    "r.entrenar_modelo(df_pairs, df_users, df_items)"
   ]
  },
  {
   "cell_type": "code",
   "execution_count": 11,
   "id": "effe4031",
   "metadata": {},
   "outputs": [
    {
     "data": {
      "text/plain": [
       "(tensor([21724, 21726, 21728, 21730, 21731]),\n",
       " tensor([21725, 21727, 21729, 21742, 21744]))"
      ]
     },
     "execution_count": 11,
     "metadata": {},
     "output_type": "execute_result"
    }
   ],
   "source": [
    "r.activeUser_ids[:5], r.newUser_ids[:5]"
   ]
  },
  {
   "cell_type": "code",
   "execution_count": 12,
   "id": "0b140543",
   "metadata": {},
   "outputs": [
    {
     "data": {
      "text/plain": [
       "(tensor([28863, 28864, 28865, 28866, 28867]),\n",
       " tensor([28871, 28873, 28879, 28881, 28936]))"
      ]
     },
     "execution_count": 12,
     "metadata": {},
     "output_type": "execute_result"
    }
   ],
   "source": [
    "r.activeItem_ids[:5], r.newItem_ids[:5]"
   ]
  },
  {
   "cell_type": "code",
   "execution_count": 16,
   "id": "e5588c20",
   "metadata": {},
   "outputs": [
    {
     "data": {
      "text/plain": [
       "tensor([], dtype=torch.int64)"
      ]
     },
     "execution_count": 16,
     "metadata": {},
     "output_type": "execute_result"
    }
   ],
   "source": [
    "r.recomendar(query_user_ids=[21724, 21726], searchOn_act_users=True, limit=0.8)"
   ]
  },
  {
   "cell_type": "code",
   "execution_count": 17,
   "id": "a6168ad8",
   "metadata": {},
   "outputs": [
    {
     "data": {
      "text/plain": [
       "tensor([ 55195,  56453,  51657, 157076,  34875,  50350,  38741,  25184, 171685,\n",
       "         48278,  34912, 123924,  25527])"
      ]
     },
     "execution_count": 17,
     "metadata": {},
     "output_type": "execute_result"
    }
   ],
   "source": [
    "r.recomendar(query_item_ids=[28863, 28871], searchOn_act_users=True, limit=0.7)"
   ]
  },
  {
   "cell_type": "code",
   "execution_count": 17,
   "id": "c06366b4",
   "metadata": {},
   "outputs": [
    {
     "data": {
      "text/plain": [
       "tensor([[ 0.3719, -0.0594, -0.3835,  ...,  0.0198,  0.1380,  0.0437],\n",
       "        [ 0.3719, -0.0594, -0.3835,  ...,  0.0198,  0.1380,  0.0437],\n",
       "        [ 0.3719, -0.0594, -0.3835,  ...,  0.0198,  0.1380,  0.0437],\n",
       "        ...,\n",
       "        [ 0.3719, -0.0594, -0.3835,  ...,  0.0198,  0.1380,  0.0437],\n",
       "        [ 0.3210, -0.1262, -0.2409,  ..., -0.0244,  0.1400,  0.1837],\n",
       "        [ 0.3405, -0.0418, -0.3320,  ..., -0.0201,  0.0929,  0.2228]])"
      ]
     },
     "execution_count": 17,
     "metadata": {},
     "output_type": "execute_result"
    }
   ],
   "source": [
    "r.newUser_embs"
   ]
  },
  {
   "cell_type": "code",
   "execution_count": 18,
   "id": "be09fd37",
   "metadata": {},
   "outputs": [
    {
     "data": {
      "text/plain": [
       "tensor([[ 0.3192, -0.0241, -0.2915,  ..., -0.1165,  0.1095,  0.0411],\n",
       "        [ 0.3002, -0.0479,  0.0032,  ...,  0.0162,  0.1553, -0.0342],\n",
       "        [ 0.4004, -0.0542, -0.3557,  ...,  0.0184, -0.0594,  0.2058],\n",
       "        ...,\n",
       "        [ 0.2329, -0.1110, -0.2166,  ..., -0.0215,  0.4049,  0.1638],\n",
       "        [ 0.3030, -0.2221, -0.2273,  ..., -0.0230,  0.1322,  0.1733],\n",
       "        [ 0.2253, -0.0509, -0.3024,  ...,  0.0155, -0.0522,  0.0342]])"
      ]
     },
     "execution_count": 18,
     "metadata": {},
     "output_type": "execute_result"
    }
   ],
   "source": [
    "r.activeUser_embs"
   ]
  },
  {
   "cell_type": "code",
   "execution_count": 19,
   "id": "88182b64",
   "metadata": {},
   "outputs": [
    {
     "data": {
      "text/plain": [
       "tensor([[ 0.2910, -0.0460, -0.2071,  ...,  0.0156,  0.7747,  0.0952],\n",
       "        [ 0.2818, -0.0875, -0.2786,  ..., -0.1080,  0.1367,  0.4187],\n",
       "        [ 0.2780, -0.0760, -0.2691,  ...,  0.0087,  0.1218,  0.1433],\n",
       "        ...,\n",
       "        [ 0.3849, -0.0944, -0.1464,  ...,  0.0619,  0.1363,  0.2019],\n",
       "        [ 0.0826, -0.0628, -0.2057,  ...,  0.0445,  0.0963,  0.0569],\n",
       "        [ 0.1099,  0.1584, -0.2032,  ...,  0.0713,  0.0286, -0.1603]])"
      ]
     },
     "execution_count": 19,
     "metadata": {},
     "output_type": "execute_result"
    }
   ],
   "source": [
    "r.activeItem_embs"
   ]
  },
  {
   "cell_type": "code",
   "execution_count": null,
   "id": "ab4c16eb",
   "metadata": {},
   "outputs": [],
   "source": []
  }
 ],
 "metadata": {
  "kernelspec": {
   "display_name": "Python 3 (ipykernel)",
   "language": "python",
   "name": "python3"
  },
  "language_info": {
   "codemirror_mode": {
    "name": "ipython",
    "version": 3
   },
   "file_extension": ".py",
   "mimetype": "text/x-python",
   "name": "python",
   "nbconvert_exporter": "python",
   "pygments_lexer": "ipython3",
   "version": "3.10.8"
  }
 },
 "nbformat": 4,
 "nbformat_minor": 5
}
