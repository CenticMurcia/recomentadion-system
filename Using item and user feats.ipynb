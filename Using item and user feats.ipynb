{
 "cells": [
  {
   "cell_type": "code",
   "execution_count": 1,
   "id": "f2a86474",
   "metadata": {},
   "outputs": [],
   "source": [
    "import numpy as np\n",
    "import pandas as pd\n",
    "import matplotlib.pyplot as plt\n",
    "\n",
    "from tqdm import tqdm\n",
    "from sklearn.preprocessing import LabelEncoder, StandardScaler\n",
    "import torch\n",
    "pd.set_option('display.max_columns', None)"
   ]
  },
  {
   "cell_type": "code",
   "execution_count": 2,
   "id": "e2c9a8dc",
   "metadata": {},
   "outputs": [
    {
     "name": "stderr",
     "output_type": "stream",
     "text": [
      "/tmp/ipykernel_867/1774659839.py:4: DtypeWarning: Columns (7,9,10,11,12,13,17,18,21,26,27,28,30,36) have mixed types. Specify dtype option on import or set low_memory=False.\n",
      "  users = pd.read_csv(dataPath + \"customers.csv\", index_col=\"id\")\n",
      "/tmp/ipykernel_867/1774659839.py:5: DtypeWarning: Columns (20,32,34,39) have mixed types. Specify dtype option on import or set low_memory=False.\n",
      "  items = pd.read_csv(dataPath + \"products.csv\", index_col=\"id\")\n"
     ]
    }
   ],
   "source": [
    "dataPath = \"data/\"\n",
    "\n",
    "pairs = pd.read_csv(dataPath + \"relation.csv\")\n",
    "users = pd.read_csv(dataPath + \"customers.csv\", index_col=\"id\")\n",
    "items = pd.read_csv(dataPath + \"products.csv\", index_col=\"id\")\n"
   ]
  },
  {
   "cell_type": "markdown",
   "id": "90d7c918",
   "metadata": {},
   "source": [
    "### Compañia 15"
   ]
  },
  {
   "cell_type": "code",
   "execution_count": 3,
   "id": "d56bbacd",
   "metadata": {},
   "outputs": [],
   "source": [
    "df_pairs = pairs[ pairs.company_id == 15]#.copy()\n",
    "df_users = users[ users.company_id == 15]#.copy()\n",
    "df_items = items[ items.company_id == 15]#.copy()"
   ]
  },
  {
   "cell_type": "code",
   "execution_count": 4,
   "id": "61636393",
   "metadata": {},
   "outputs": [],
   "source": [
    "# Comprobacion de que no haya usuarios ni productos duplicados\n",
    "\n",
    "assert df_users.index.duplicated().any()==False\n",
    "assert df_items.index.duplicated().any()==False"
   ]
  },
  {
   "cell_type": "markdown",
   "id": "e0d54a98",
   "metadata": {},
   "source": [
    "### Quitar usuarios que interaccionan pero no estan contemplados en la tabla usuarios (unos 575)"
   ]
  },
  {
   "cell_type": "code",
   "execution_count": 5,
   "id": "9f2459d8",
   "metadata": {},
   "outputs": [
    {
     "data": {
      "text/plain": [
       "575"
      ]
     },
     "execution_count": 5,
     "metadata": {},
     "output_type": "execute_result"
    }
   ],
   "source": [
    "usuarios_que_interaccionan_pero_no_en_tabla_usuarios = set(df_pairs.customer_id) - set(df_users.index)\n",
    "len(usuarios_que_interaccionan_pero_no_en_tabla_usuarios)"
   ]
  },
  {
   "cell_type": "code",
   "execution_count": 6,
   "id": "b8d1bc55",
   "metadata": {},
   "outputs": [
    {
     "data": {
      "text/plain": [
       "59167"
      ]
     },
     "execution_count": 6,
     "metadata": {},
     "output_type": "execute_result"
    }
   ],
   "source": [
    "df_pairs = df_pairs[ ~df_pairs.customer_id.isin(usuarios_que_interaccionan_pero_no_en_tabla_usuarios) ]\n",
    "len(df_pairs)"
   ]
  },
  {
   "cell_type": "markdown",
   "id": "8ad970eb",
   "metadata": {},
   "source": [
    "### Quitar productos que interaccionan pero no estan contemplados en la tabla productos (unos 162)"
   ]
  },
  {
   "cell_type": "code",
   "execution_count": 7,
   "id": "89f46222",
   "metadata": {},
   "outputs": [
    {
     "data": {
      "text/plain": [
       "162"
      ]
     },
     "execution_count": 7,
     "metadata": {},
     "output_type": "execute_result"
    }
   ],
   "source": [
    "productos_que_interaccionan_pero_no_en_tabla_productos = set(df_pairs.product_id) - set(df_items.index)\n",
    "len(productos_que_interaccionan_pero_no_en_tabla_productos)"
   ]
  },
  {
   "cell_type": "code",
   "execution_count": 8,
   "id": "717fef85",
   "metadata": {},
   "outputs": [
    {
     "data": {
      "text/plain": [
       "58913"
      ]
     },
     "execution_count": 8,
     "metadata": {},
     "output_type": "execute_result"
    }
   ],
   "source": [
    "df_pairs = df_pairs[ ~df_pairs.product_id.isin(productos_que_interaccionan_pero_no_en_tabla_productos) ]\n",
    "len(df_pairs)"
   ]
  },
  {
   "cell_type": "markdown",
   "id": "a03c0eba",
   "metadata": {},
   "source": [
    "# <center> Fin código limepieza datos\n",
    "---\n",
    "# <center> Inicio código Sistema de recomendación"
   ]
  },
  {
   "cell_type": "code",
   "execution_count": 9,
   "id": "7d3daba6",
   "metadata": {},
   "outputs": [],
   "source": [
    "from recommenderSystem2 import RecSys2\n",
    "r = RecSys2()"
   ]
  },
  {
   "cell_type": "code",
   "execution_count": 10,
   "id": "f48c9932",
   "metadata": {},
   "outputs": [
    {
     "name": "stdout",
     "output_type": "stream",
     "text": [
      "Leyendo datos...\n",
      "Entrenando modelo...\n"
     ]
    },
    {
     "name": "stderr",
     "output_type": "stream",
     "text": [
      "100%|███████████████████████████████████████████████████████████████████████| 921/921 [00:15<00:00, 61.28it/s]\n"
     ]
    },
    {
     "name": "stdout",
     "output_type": "stream",
     "text": [
      "tensor(5.4664, grad_fn=<MseLossBackward0>)\n"
     ]
    },
    {
     "name": "stderr",
     "output_type": "stream",
     "text": [
      "100%|███████████████████████████████████████████████████████████████████████| 921/921 [00:15<00:00, 59.76it/s]"
     ]
    },
    {
     "name": "stdout",
     "output_type": "stream",
     "text": [
      "tensor(2.9257, grad_fn=<MseLossBackward0>)\n",
      "Generando embeddings...\n",
      "Terminado\n"
     ]
    },
    {
     "name": "stderr",
     "output_type": "stream",
     "text": [
      "\n"
     ]
    }
   ],
   "source": [
    "r.entrenar_modelo(df_pairs, df_users, df_items)"
   ]
  },
  {
   "cell_type": "code",
   "execution_count": 11,
   "id": "effe4031",
   "metadata": {},
   "outputs": [
    {
     "data": {
      "text/plain": [
       "(tensor([21724, 21726, 21728, 21730, 21731]),\n",
       " tensor([21725, 21727, 21729, 21742, 21744]))"
      ]
     },
     "execution_count": 11,
     "metadata": {},
     "output_type": "execute_result"
    }
   ],
   "source": [
    "r.activeUser_ids[:5], r.newUser_ids[:5]"
   ]
  },
  {
   "cell_type": "code",
   "execution_count": 12,
   "id": "0b140543",
   "metadata": {},
   "outputs": [
    {
     "data": {
      "text/plain": [
       "(tensor([28863, 28864, 28865, 28866, 28867]),\n",
       " tensor([28871, 28873, 28879, 28881, 28936]))"
      ]
     },
     "execution_count": 12,
     "metadata": {},
     "output_type": "execute_result"
    }
   ],
   "source": [
    "r.activeItem_ids[:5], r.newItem_ids[:5]"
   ]
  },
  {
   "cell_type": "code",
   "execution_count": 19,
   "id": "e5588c20",
   "metadata": {},
   "outputs": [
    {
     "data": {
      "text/plain": [
       "tensor([221309,  21726,  21724, 537630, 519512, 532329, 195560,  22905,  39015,\n",
       "         54316,  52099, 156105, 174775,  53041,  39604,  38596, 164492, 230107,\n",
       "         32594, 123663, 161798,  51199, 529564, 310159,  35344, 147240,  40519,\n",
       "        219748,  25339,  47018,  26448,  51410, 532309,  35827,  47915,  30990,\n",
       "         29510, 160024, 170994, 169060, 474534, 507316, 533895,  49815, 160664,\n",
       "         27026,  30128, 529567, 141682, 153470,  35703,  52303,  40875, 518481,\n",
       "         21956,  27302, 529171, 470086,  47839,  23976,  25804,  29267, 347783,\n",
       "         23428,  33654,  56539,  56073, 144134,  55353,  25803,  39990, 148599,\n",
       "        161435, 153377, 170360, 147527, 146083, 537382, 141624, 535224, 518815,\n",
       "        286147, 518688, 144044, 534033, 476082,  40118,  23966, 518814,  27109,\n",
       "        534291, 519028, 147695, 159203, 151272, 174458])"
      ]
     },
     "execution_count": 19,
     "metadata": {},
     "output_type": "execute_result"
    }
   ],
   "source": [
    "r.recomendar(query_user_ids=[21724, 21726], searchOn_act_users=True, limit=0.85)"
   ]
  },
  {
   "cell_type": "code",
   "execution_count": 17,
   "id": "a6168ad8",
   "metadata": {},
   "outputs": [
    {
     "data": {
      "text/plain": [
       "tensor([ 55195,  56453,  51657, 157076,  34875,  50350,  38741,  25184, 171685,\n",
       "         48278,  34912, 123924,  25527])"
      ]
     },
     "execution_count": 17,
     "metadata": {},
     "output_type": "execute_result"
    }
   ],
   "source": [
    "r.recomendar(query_item_ids=[28863, 28871], searchOn_act_users=True, limit=0.7)"
   ]
  },
  {
   "cell_type": "code",
   "execution_count": 15,
   "id": "c06366b4",
   "metadata": {},
   "outputs": [
    {
     "data": {
      "text/plain": [
       "tensor([[-0.3789, -0.2819, -0.1088,  ..., -0.1622,  0.0772,  0.1856],\n",
       "        [-0.3789, -0.2819, -0.1088,  ..., -0.1622,  0.0772,  0.1856],\n",
       "        [-0.3789, -0.2819, -0.1088,  ..., -0.1622,  0.0772,  0.1856],\n",
       "        ...,\n",
       "        [-0.3789, -0.2819, -0.1088,  ..., -0.1622,  0.0772,  0.1856],\n",
       "        [-0.3114, -0.2811, -0.0444,  ..., -0.2418,  0.0261,  0.3358],\n",
       "        [-0.3614, -0.2409, -0.1065,  ..., -0.1766,  0.0508,  0.2750]])"
      ]
     },
     "execution_count": 15,
     "metadata": {},
     "output_type": "execute_result"
    }
   ],
   "source": [
    "r.newUser_embs"
   ]
  },
  {
   "cell_type": "code",
   "execution_count": 16,
   "id": "be09fd37",
   "metadata": {},
   "outputs": [
    {
     "data": {
      "text/plain": [
       "tensor([[-0.3027, -0.3158, -0.0994,  ..., -0.2051,  0.0772,  0.1898],\n",
       "        [-0.3414, -0.2335,  0.0355,  ..., -0.1534,  0.0730,  0.1757],\n",
       "        [-0.4750, -0.1962, -0.0757,  ..., -0.1128, -0.3266,  0.1292],\n",
       "        ...,\n",
       "        [-0.4414, -0.2616, -0.0134,  ..., -0.1528,  0.1147, -0.0774],\n",
       "        [-0.2688, -0.4214, -0.0383,  ..., -0.2170,  0.0283,  0.2902],\n",
       "        [-0.3199, -0.2381,  0.5726,  ..., -0.1369,  0.0655,  0.0968]])"
      ]
     },
     "execution_count": 16,
     "metadata": {},
     "output_type": "execute_result"
    }
   ],
   "source": [
    "r.activeUser_embs"
   ]
  },
  {
   "cell_type": "code",
   "execution_count": 29,
   "id": "88182b64",
   "metadata": {},
   "outputs": [
    {
     "data": {
      "text/plain": [
       "tensor([[ 0.0702,  0.1729, -0.0071,  ..., -0.0731, -0.2270,  0.0632],\n",
       "        [ 0.0703,  0.1734, -0.0069,  ..., -0.0736, -0.2288,  0.0627],\n",
       "        [ 0.0697,  0.1731, -0.0068,  ..., -0.0734, -0.2280,  0.0622],\n",
       "        ...,\n",
       "        [ 0.0650,  0.1755, -0.0098,  ..., -0.0737, -0.2267,  0.0589],\n",
       "        [ 0.0648,  0.1754, -0.0053,  ..., -0.0737, -0.2263,  0.0587],\n",
       "        [ 0.0189,  0.1969,  0.0089,  ..., -0.0771, -0.2106,  0.0263]])"
      ]
     },
     "execution_count": 29,
     "metadata": {},
     "output_type": "execute_result"
    }
   ],
   "source": [
    "r.activeItem_embs"
   ]
  },
  {
   "cell_type": "code",
   "execution_count": null,
   "id": "ab4c16eb",
   "metadata": {},
   "outputs": [],
   "source": []
  }
 ],
 "metadata": {
  "kernelspec": {
   "display_name": "Python 3 (ipykernel)",
   "language": "python",
   "name": "python3"
  },
  "language_info": {
   "codemirror_mode": {
    "name": "ipython",
    "version": 3
   },
   "file_extension": ".py",
   "mimetype": "text/x-python",
   "name": "python",
   "nbconvert_exporter": "python",
   "pygments_lexer": "ipython3",
   "version": "3.10.8"
  }
 },
 "nbformat": 4,
 "nbformat_minor": 5
}
