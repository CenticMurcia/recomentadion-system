{
 "cells": [
  {
   "cell_type": "markdown",
   "id": "ba4f7e4d",
   "metadata": {},
   "source": [
    "- https://albertauyeung.github.io/2017/04/23/python-matrix-factorization.html"
   ]
  },
  {
   "cell_type": "markdown",
   "id": "cfca7959",
   "metadata": {},
   "source": [
    "# Imports"
   ]
  },
  {
   "cell_type": "code",
   "execution_count": 1,
   "id": "8e96b797",
   "metadata": {},
   "outputs": [],
   "source": [
    "import numpy as np\n",
    "import pandas as pd\n",
    "import matplotlib.pyplot as plt\n",
    "from scipy.special import boxcox, inv_boxcox\n",
    "from scipy import stats\n",
    "\n",
    "from recommenderSystem import RecSys\n",
    "from recommenderSystemFastai import RecSysFastai"
   ]
  },
  {
   "cell_type": "markdown",
   "id": "a1afe13f",
   "metadata": {},
   "source": [
    "# Datios Intelia"
   ]
  },
  {
   "cell_type": "code",
   "execution_count": 2,
   "id": "02e3b1c1",
   "metadata": {},
   "outputs": [
    {
     "name": "stdout",
     "output_type": "stream",
     "text": [
      "customers.csv  products.csv  relation.csv\r\n"
     ]
    }
   ],
   "source": [
    "!ls data"
   ]
  },
  {
   "cell_type": "code",
   "execution_count": 3,
   "id": "32cf6862",
   "metadata": {},
   "outputs": [
    {
     "name": "stderr",
     "output_type": "stream",
     "text": [
      "/tmp/ipykernel_928/3077265193.py:3: DtypeWarning: Columns (7,9,10,11,12,13,17,18,21,26,27,28,30,36) have mixed types. Specify dtype option on import or set low_memory=False.\n",
      "  users = pd.read_csv(dataPath + \"customers.csv\")\n",
      "/tmp/ipykernel_928/3077265193.py:4: DtypeWarning: Columns (20,32,34,39) have mixed types. Specify dtype option on import or set low_memory=False.\n",
      "  items = pd.read_csv(dataPath + \"products.csv\")\n"
     ]
    }
   ],
   "source": [
    "dataPath = \"data/\"\n",
    "\n",
    "users = pd.read_csv(dataPath + \"customers.csv\")\n",
    "items = pd.read_csv(dataPath + \"products.csv\")\n",
    "pairs = pd.read_csv(dataPath + \"relation.csv\")"
   ]
  },
  {
   "cell_type": "markdown",
   "id": "c573a22c",
   "metadata": {},
   "source": [
    "# Compañía 15"
   ]
  },
  {
   "cell_type": "code",
   "execution_count": 4,
   "id": "3c2aeeb4",
   "metadata": {},
   "outputs": [],
   "source": [
    "pairs = pairs[ pairs.company_id == 15].copy()\n",
    "users = users[ users.company_id == 15].copy()\n",
    "items = items[ items.company_id == 15].copy()"
   ]
  },
  {
   "cell_type": "markdown",
   "id": "fd334ea4",
   "metadata": {},
   "source": [
    "## Train with fast.ai"
   ]
  },
  {
   "cell_type": "code",
   "execution_count": 5,
   "id": "d8feb1e7",
   "metadata": {},
   "outputs": [],
   "source": [
    "rs = RecSysFastai(pairs)"
   ]
  },
  {
   "cell_type": "code",
   "execution_count": 6,
   "id": "41e18ea2",
   "metadata": {},
   "outputs": [
    {
     "data": {
      "text/plain": [
       "<AxesSubplot:ylabel='Frequency'>"
      ]
     },
     "execution_count": 6,
     "metadata": {},
     "output_type": "execute_result"
    },
    {
     "data": {
      "image/png": "[encoded data removed]",
      "text/plain": [
       "<Figure size 640x480 with 1 Axes>"
      ]
     },
     "metadata": {},
     "output_type": "display_data"
    }
   ],
   "source": [
    "rs.df.peso.plot.hist(bins=50)"
   ]
  },
  {
   "cell_type": "code",
   "execution_count": 7,
   "id": "88ae31b7",
   "metadata": {},
   "outputs": [
    {
     "data": {
      "text/html": [
       "\n",
       "<style>\n",
       "    /* Turns off some styling */\n",
       "    progress {\n",
       "        /* gets rid of default border in Firefox and Opera. */\n",
       "        border: none;\n",
       "        /* Needs to be in here for Safari polyfill so background images work as expected. */\n",
       "        background-size: auto;\n",
       "    }\n",
       "    progress:not([value]), progress:not([value])::-webkit-progress-bar {\n",
       "        background: repeating-linear-gradient(45deg, #7e7e7e, #7e7e7e 10px, #5c5c5c 10px, #5c5c5c 20px);\n",
       "    }\n",
       "    .progress-bar-interrupted, .progress-bar-interrupted::-webkit-progress-bar {\n",
       "        background: #F44336;\n",
       "    }\n",
       "</style>\n"
      ],
      "text/plain": [
       "<IPython.core.display.HTML object>"
      ]
     },
     "metadata": {},
     "output_type": "display_data"
    },
    {
     "data": {
      "text/html": [
       "<table border=\"1\" class=\"dataframe\">\n",
       "  <thead>\n",
       "    <tr style=\"text-align: left;\">\n",
       "      <th>epoch</th>\n",
       "      <th>train_loss</th>\n",
       "      <th>valid_loss</th>\n",
       "      <th>mae</th>\n",
       "      <th>time</th>\n",
       "    </tr>\n",
       "  </thead>\n",
       "  <tbody>\n",
       "    <tr>\n",
       "      <td>0</td>\n",
       "      <td>0.460182</td>\n",
       "      <td>0.429582</td>\n",
       "      <td>0.453243</td>\n",
       "      <td>00:03</td>\n",
       "    </tr>\n",
       "    <tr>\n",
       "      <td>1</td>\n",
       "      <td>0.327104</td>\n",
       "      <td>0.358768</td>\n",
       "      <td>0.407756</td>\n",
       "      <td>00:02</td>\n",
       "    </tr>\n",
       "    <tr>\n",
       "      <td>2</td>\n",
       "      <td>0.201685</td>\n",
       "      <td>0.358649</td>\n",
       "      <td>0.419315</td>\n",
       "      <td>00:02</td>\n",
       "    </tr>\n",
       "    <tr>\n",
       "      <td>3</td>\n",
       "      <td>0.107382</td>\n",
       "      <td>0.349760</td>\n",
       "      <td>0.399568</td>\n",
       "      <td>00:02</td>\n",
       "    </tr>\n",
       "    <tr>\n",
       "      <td>4</td>\n",
       "      <td>0.058434</td>\n",
       "      <td>0.351109</td>\n",
       "      <td>0.403490</td>\n",
       "      <td>00:02</td>\n",
       "    </tr>\n",
       "  </tbody>\n",
       "</table>"
      ],
      "text/plain": [
       "<IPython.core.display.HTML object>"
      ]
     },
     "metadata": {},
     "output_type": "display_data"
    }
   ],
   "source": [
    "rs.entrenar_modelo(valid_pct=0.2)"
   ]
  },
  {
   "cell_type": "code",
   "execution_count": 7,
   "id": "9ffae41a",
   "metadata": {},
   "outputs": [
    {
     "data": {
      "text/html": [
       "\n",
       "<style>\n",
       "    /* Turns off some styling */\n",
       "    progress {\n",
       "        /* gets rid of default border in Firefox and Opera. */\n",
       "        border: none;\n",
       "        /* Needs to be in here for Safari polyfill so background images work as expected. */\n",
       "        background-size: auto;\n",
       "    }\n",
       "    progress:not([value]), progress:not([value])::-webkit-progress-bar {\n",
       "        background: repeating-linear-gradient(45deg, #7e7e7e, #7e7e7e 10px, #5c5c5c 10px, #5c5c5c 20px);\n",
       "    }\n",
       "    .progress-bar-interrupted, .progress-bar-interrupted::-webkit-progress-bar {\n",
       "        background: #F44336;\n",
       "    }\n",
       "</style>\n"
      ],
      "text/plain": [
       "<IPython.core.display.HTML object>"
      ]
     },
     "metadata": {},
     "output_type": "display_data"
    },
    {
     "data": {
      "text/html": [
       "<table border=\"1\" class=\"dataframe\">\n",
       "  <thead>\n",
       "    <tr style=\"text-align: left;\">\n",
       "      <th>epoch</th>\n",
       "      <th>train_loss</th>\n",
       "      <th>valid_loss</th>\n",
       "      <th>mae</th>\n",
       "      <th>time</th>\n",
       "    </tr>\n",
       "  </thead>\n",
       "  <tbody>\n",
       "    <tr>\n",
       "      <td>0</td>\n",
       "      <td>0.421812</td>\n",
       "      <td>None</td>\n",
       "      <td>None</td>\n",
       "      <td>00:03</td>\n",
       "    </tr>\n",
       "    <tr>\n",
       "      <td>1</td>\n",
       "      <td>0.306182</td>\n",
       "      <td>None</td>\n",
       "      <td>None</td>\n",
       "      <td>00:03</td>\n",
       "    </tr>\n",
       "    <tr>\n",
       "      <td>2</td>\n",
       "      <td>0.200098</td>\n",
       "      <td>None</td>\n",
       "      <td>None</td>\n",
       "      <td>00:03</td>\n",
       "    </tr>\n",
       "    <tr>\n",
       "      <td>3</td>\n",
       "      <td>0.118793</td>\n",
       "      <td>None</td>\n",
       "      <td>None</td>\n",
       "      <td>00:03</td>\n",
       "    </tr>\n",
       "    <tr>\n",
       "      <td>4</td>\n",
       "      <td>0.067076</td>\n",
       "      <td>None</td>\n",
       "      <td>None</td>\n",
       "      <td>00:03</td>\n",
       "    </tr>\n",
       "  </tbody>\n",
       "</table>"
      ],
      "text/plain": [
       "<IPython.core.display.HTML object>"
      ]
     },
     "metadata": {},
     "output_type": "display_data"
    },
    {
     "name": "stderr",
     "output_type": "stream",
     "text": [
      "/home/javi/.local/lib/python3.10/site-packages/fastprogress/fastprogress.py:73: UserWarning: Your generator is empty.\n",
      "  warn(\"Your generator is empty.\")\n",
      "/home/javi/.local/lib/python3.10/site-packages/fastprogress/fastprogress.py:73: UserWarning: Your generator is empty.\n",
      "  warn(\"Your generator is empty.\")\n",
      "/home/javi/.local/lib/python3.10/site-packages/fastprogress/fastprogress.py:73: UserWarning: Your generator is empty.\n",
      "  warn(\"Your generator is empty.\")\n",
      "/home/javi/.local/lib/python3.10/site-packages/fastprogress/fastprogress.py:73: UserWarning: Your generator is empty.\n",
      "  warn(\"Your generator is empty.\")\n",
      "/home/javi/.local/lib/python3.10/site-packages/fastprogress/fastprogress.py:73: UserWarning: Your generator is empty.\n",
      "  warn(\"Your generator is empty.\")\n"
     ]
    }
   ],
   "source": [
    "rs.entrenar_modelo(valid_pct=0)"
   ]
  },
  {
   "cell_type": "code",
   "execution_count": 9,
   "id": "af252573",
   "metadata": {},
   "outputs": [
    {
     "data": {
      "text/plain": [
       "(#10) ['#na#',21724,21726,21728,21730,21731,21732,21733,21734,21735]"
      ]
     },
     "execution_count": 9,
     "metadata": {},
     "output_type": "execute_result"
    }
   ],
   "source": [
    "rs.users[:10]"
   ]
  },
  {
   "cell_type": "code",
   "execution_count": 10,
   "id": "bb9e5443",
   "metadata": {},
   "outputs": [
    {
     "data": {
      "text/plain": [
       "(#10) ['#na#',28863,28864,28865,28866,28867,28868,28869,28870,28872]"
      ]
     },
     "execution_count": 10,
     "metadata": {},
     "output_type": "execute_result"
    }
   ],
   "source": [
    "rs.items[:10]"
   ]
  },
  {
   "cell_type": "markdown",
   "id": "2557eb60",
   "metadata": {},
   "source": [
    "Devuelve las sugerencias (ids de producto) para un usario concreto."
   ]
  },
  {
   "cell_type": "code",
   "execution_count": 17,
   "id": "312b5b1a",
   "metadata": {},
   "outputs": [
    {
     "data": {
      "text/plain": [
       "(#16) [29113,29099,126488,28866,28863,28909,29315,29100,29136,28876...]"
      ]
     },
     "execution_count": 17,
     "metadata": {},
     "output_type": "execute_result"
    }
   ],
   "source": [
    "rs.sugerirProdutos(user_ids=[21726], limit=0.5)"
   ]
  },
  {
   "cell_type": "code",
   "execution_count": 12,
   "id": "268ec0ce",
   "metadata": {},
   "outputs": [
    {
     "data": {
      "text/plain": [
       "(#6) [29114,'#na#',58675,28971,28987,28972]"
      ]
     },
     "execution_count": 12,
     "metadata": {},
     "output_type": "execute_result"
    }
   ],
   "source": [
    "rs.sugerirProdutos(user_ids=[21726], limit=0.25)"
   ]
  },
  {
   "cell_type": "markdown",
   "id": "e5de4f28",
   "metadata": {},
   "source": [
    "---\n",
    "Devuelve las sugerencias (ids de producto) para ciertos usarios filtrados."
   ]
  },
  {
   "cell_type": "code",
   "execution_count": 18,
   "id": "9bc717be",
   "metadata": {},
   "outputs": [
    {
     "data": {
      "text/plain": [
       "(#11) [28909,126488,116851,29113,28970,126436,28876,29136,28863,36419...]"
      ]
     },
     "execution_count": 18,
     "metadata": {},
     "output_type": "execute_result"
    }
   ],
   "source": [
    "rs.sugerirProdutos(user_ids=[21726,21728], limit=0.5)"
   ]
  },
  {
   "cell_type": "code",
   "execution_count": 14,
   "id": "4af7362f",
   "metadata": {},
   "outputs": [
    {
     "data": {
      "text/plain": [
       "(#7) [116851,126488,116846,70253,29007,29136,52001]"
      ]
     },
     "execution_count": 14,
     "metadata": {},
     "output_type": "execute_result"
    }
   ],
   "source": [
    "rs.sugerirProdutos(user_ids=[21726,21728], limit=0.3)"
   ]
  },
  {
   "cell_type": "markdown",
   "id": "311c1091",
   "metadata": {},
   "source": [
    "---\n",
    "Devuelve la audiencia (ids de usuarios) para un producto concreto."
   ]
  },
  {
   "cell_type": "code",
   "execution_count": 22,
   "id": "bfcdd284",
   "metadata": {},
   "outputs": [
    {
     "data": {
      "text/plain": [
       "(#3) [100175,153135,170430]"
      ]
     },
     "execution_count": 22,
     "metadata": {},
     "output_type": "execute_result"
    }
   ],
   "source": [
    "rs.adienciaUsuaros(item_ids=[28863], limit=0.88)"
   ]
  },
  {
   "cell_type": "markdown",
   "id": "16db58f6",
   "metadata": {},
   "source": [
    "---\n",
    "Devuelve la audiencia (ids de usuarios) para ciertos productos filtrados."
   ]
  },
  {
   "cell_type": "code",
   "execution_count": 23,
   "id": "3da6214c",
   "metadata": {},
   "outputs": [
    {
     "data": {
      "text/plain": [
       "(#6) [24691,537941,31505,537346,533184,536691]"
      ]
     },
     "execution_count": 23,
     "metadata": {},
     "output_type": "execute_result"
    }
   ],
   "source": [
    "rs.adienciaUsuaros(item_ids=[28863,28864,28865], limit=0.2)"
   ]
  },
  {
   "cell_type": "markdown",
   "id": "54e0895c",
   "metadata": {},
   "source": [
    "---\n",
    "Devuelve los ids de producto que normalmente se compran junto a este producto."
   ]
  },
  {
   "cell_type": "code",
   "execution_count": 15,
   "id": "afaadcfc",
   "metadata": {},
   "outputs": [
    {
     "data": {
      "text/plain": [
       "(#56) [28863,29113,28909,29001,29315,126488,29317,70253,28987,28878...]"
      ]
     },
     "execution_count": 15,
     "metadata": {},
     "output_type": "execute_result"
    }
   ],
   "source": [
    "rs.productos_parecidos(item_ids=[28863], limit=0.3)"
   ]
  },
  {
   "cell_type": "markdown",
   "id": "2aa70154",
   "metadata": {},
   "source": [
    "## Train with my module"
   ]
  },
  {
   "cell_type": "code",
   "execution_count": 9,
   "id": "5701e1f5",
   "metadata": {},
   "outputs": [
    {
     "name": "stdout",
     "output_type": "stream",
     "text": [
      "Epoch: 1 ; trMAE = 0.2764 trMSE = 0.2481 valMAE = 0.5080 valMSE = 0.5370\n",
      "Epoch: 2 ; trMAE = 0.2767 trMSE = 0.2325 valMAE = 0.5001 valMSE = 0.5209\n",
      "Epoch: 3 ; trMAE = 0.2751 trMSE = 0.2237 valMAE = 0.4942 valMSE = 0.5103\n",
      "Epoch: 4 ; trMAE = 0.2727 trMSE = 0.2172 valMAE = 0.4900 valMSE = 0.5022\n",
      "Epoch: 5 ; trMAE = 0.2717 trMSE = 0.2125 valMAE = 0.4883 valMSE = 0.4994\n",
      "Epoch: 6 ; trMAE = 0.2709 trMSE = 0.2085 valMAE = 0.4872 valMSE = 0.4957\n",
      "Epoch: 7 ; trMAE = 0.2710 trMSE = 0.2053 valMAE = 0.4842 valMSE = 0.4903\n",
      "Epoch: 8 ; trMAE = 0.2711 trMSE = 0.2028 valMAE = 0.4839 valMSE = 0.4887\n",
      "Epoch: 9 ; trMAE = 0.2705 trMSE = 0.2004 valMAE = 0.4855 valMSE = 0.4904\n",
      "Epoch: 10 ; trMAE = 0.2732 trMSE = 0.1988 valMAE = 0.4837 valMSE = 0.4862\n",
      "Epoch: 11 ; trMAE = 0.2684 trMSE = 0.1965 valMAE = 0.4841 valMSE = 0.4877\n",
      "Epoch: 12 ; trMAE = 0.2695 trMSE = 0.1950 valMAE = 0.4824 valMSE = 0.4846\n",
      "Epoch: 13 ; trMAE = 0.2702 trMSE = 0.1935 valMAE = 0.4833 valMSE = 0.4855\n",
      "Epoch: 14 ; trMAE = 0.2678 trMSE = 0.1923 valMAE = 0.4819 valMSE = 0.4835\n",
      "Epoch: 15 ; trMAE = 0.2698 trMSE = 0.1911 valMAE = 0.4823 valMSE = 0.4830\n",
      "Epoch: 16 ; trMAE = 0.2670 trMSE = 0.1901 valMAE = 0.4816 valMSE = 0.4828\n"
     ]
    },
    {
     "ename": "KeyboardInterrupt",
     "evalue": "",
     "output_type": "error",
     "traceback": [
      "\u001b[0;31m---------------------------------------------------------------------------\u001b[0m",
      "\u001b[0;31mKeyboardInterrupt\u001b[0m                         Traceback (most recent call last)",
      "Cell \u001b[0;32mIn [9], line 6\u001b[0m\n\u001b[1;32m      3\u001b[0m train_samples \u001b[38;5;241m=\u001b[39m rs\u001b[38;5;241m.\u001b[39msamples[:split_idx]\n\u001b[1;32m      4\u001b[0m valid_samples \u001b[38;5;241m=\u001b[39m rs\u001b[38;5;241m.\u001b[39msamples[split_idx:]\n\u001b[0;32m----> 6\u001b[0m train_log \u001b[38;5;241m=\u001b[39m \u001b[43mrs\u001b[49m\u001b[38;5;241;43m.\u001b[39;49m\u001b[43mentrenar_modelo_manualmente\u001b[49m\u001b[43m(\u001b[49m\n\u001b[1;32m      7\u001b[0m \u001b[43m    \u001b[49m\u001b[43mtrain_samples\u001b[49m\u001b[43m \u001b[49m\u001b[38;5;241;43m=\u001b[39;49m\u001b[43m \u001b[49m\u001b[43mtrain_samples\u001b[49m\u001b[43m,\u001b[49m\n\u001b[1;32m      8\u001b[0m \u001b[43m    \u001b[49m\u001b[43mvalid_samples\u001b[49m\u001b[43m \u001b[49m\u001b[38;5;241;43m=\u001b[39;49m\u001b[43m \u001b[49m\u001b[43mvalid_samples\u001b[49m\u001b[43m,\u001b[49m\n\u001b[1;32m      9\u001b[0m \u001b[43m    \u001b[49m\u001b[43membSize\u001b[49m\u001b[43m \u001b[49m\u001b[38;5;241;43m=\u001b[39;49m\u001b[43m \u001b[49m\u001b[38;5;241;43m50\u001b[39;49m\u001b[43m,\u001b[49m\n\u001b[1;32m     10\u001b[0m \u001b[43m    \u001b[49m\u001b[43mlr\u001b[49m\u001b[43m \u001b[49m\u001b[38;5;241;43m=\u001b[39;49m\u001b[43m \u001b[49m\u001b[38;5;241;43m0.01\u001b[39;49m\u001b[43m,\u001b[49m\n\u001b[1;32m     11\u001b[0m \u001b[43m    \u001b[49m\u001b[43mwd\u001b[49m\u001b[43m \u001b[49m\u001b[38;5;241;43m=\u001b[39;49m\u001b[43m \u001b[49m\u001b[38;5;241;43m0.1\u001b[39;49m\u001b[43m,\u001b[49m\n\u001b[1;32m     12\u001b[0m \u001b[43m    \u001b[49m\u001b[43mepochs\u001b[49m\u001b[38;5;241;43m=\u001b[39;49m\u001b[38;5;241;43m50\u001b[39;49m\u001b[43m)\u001b[49m\n",
      "File \u001b[0;32m~/centic/recomentadion-system/recommenderSystem.py:296\u001b[0m, in \u001b[0;36mRecSys.entrenar_modelo_manualmente\u001b[0;34m(self, train_samples, valid_samples, embSize, lr, wd, epochs)\u001b[0m\n\u001b[1;32m    290\u001b[0m     train_log \u001b[38;5;241m=\u001b[39m np\u001b[38;5;241m.\u001b[39marray([], dtype\u001b[38;5;241m=\u001b[39m[(\u001b[38;5;124m'\u001b[39m\u001b[38;5;124mepoch\u001b[39m\u001b[38;5;124m'\u001b[39m, \u001b[38;5;124m\"\u001b[39m\u001b[38;5;124mu1\u001b[39m\u001b[38;5;124m\"\u001b[39m), (\u001b[38;5;124m'\u001b[39m\u001b[38;5;124mtrain_mae\u001b[39m\u001b[38;5;124m'\u001b[39m, \u001b[38;5;124m\"\u001b[39m\u001b[38;5;124mf\u001b[39m\u001b[38;5;124m\"\u001b[39m), (\u001b[38;5;124m'\u001b[39m\u001b[38;5;124mtrain_mse\u001b[39m\u001b[38;5;124m'\u001b[39m, \u001b[38;5;124m\"\u001b[39m\u001b[38;5;124mf\u001b[39m\u001b[38;5;124m\"\u001b[39m), (\u001b[38;5;124m'\u001b[39m\u001b[38;5;124mvalid_mae\u001b[39m\u001b[38;5;124m'\u001b[39m, \u001b[38;5;124m\"\u001b[39m\u001b[38;5;124mf\u001b[39m\u001b[38;5;124m\"\u001b[39m), (\u001b[38;5;124m'\u001b[39m\u001b[38;5;124mvalid_mse\u001b[39m\u001b[38;5;124m'\u001b[39m, \u001b[38;5;124m\"\u001b[39m\u001b[38;5;124mf\u001b[39m\u001b[38;5;124m\"\u001b[39m)])\n\u001b[1;32m    293\u001b[0m \u001b[38;5;28;01mfor\u001b[39;00m i \u001b[38;5;129;01min\u001b[39;00m \u001b[38;5;28mrange\u001b[39m(epochs):\n\u001b[1;32m    294\u001b[0m \n\u001b[1;32m    295\u001b[0m     \u001b[38;5;66;03m# TRAIN\u001b[39;00m\n\u001b[0;32m--> 296\u001b[0m     \u001b[38;5;28;43mself\u001b[39;49m\u001b[38;5;241;43m.\u001b[39;49m\u001b[43msgd_epoch\u001b[49m\u001b[43m(\u001b[49m\u001b[43mtrain_samples\u001b[49m\u001b[43m,\u001b[49m\u001b[43m \u001b[49m\u001b[43mlr\u001b[49m\u001b[43m,\u001b[49m\u001b[43m \u001b[49m\u001b[43mwd\u001b[49m\u001b[43m)\u001b[49m\n\u001b[1;32m    298\u001b[0m     \u001b[38;5;28;01mif\u001b[39;00m valid_samples \u001b[38;5;129;01mis\u001b[39;00m \u001b[38;5;28;01mNone\u001b[39;00m:\n\u001b[1;32m    299\u001b[0m         \u001b[38;5;66;03m# NOT VALIDATE\u001b[39;00m\n\u001b[1;32m    300\u001b[0m         train_mae, train_mse \u001b[38;5;241m=\u001b[39m \u001b[38;5;28mself\u001b[39m\u001b[38;5;241m.\u001b[39merror(train_samples)\n",
      "File \u001b[0;32m~/centic/recomentadion-system/recommenderSystem.py:333\u001b[0m, in \u001b[0;36mRecSys.sgd_epoch\u001b[0;34m(self, train_samples, lr, wd)\u001b[0m\n\u001b[1;32m    330\u001b[0m \u001b[38;5;66;03m# Update user and item embeddings\u001b[39;00m\n\u001b[1;32m    331\u001b[0m \u001b[38;5;66;03m#                                ___________grad______________   _______weight_decay______\u001b[39;00m\n\u001b[1;32m    332\u001b[0m \u001b[38;5;28mself\u001b[39m\u001b[38;5;241m.\u001b[39muser_embs[user, :] \u001b[38;5;241m-\u001b[39m\u001b[38;5;241m=\u001b[39m lr \u001b[38;5;241m*\u001b[39m (err \u001b[38;5;241m*\u001b[39m \u001b[38;5;28mself\u001b[39m\u001b[38;5;241m.\u001b[39mitem_embs[item, :] \u001b[38;5;241m+\u001b[39m wd\u001b[38;5;241m*\u001b[39m\u001b[38;5;28mself\u001b[39m\u001b[38;5;241m.\u001b[39muser_embs[user,:])\n\u001b[0;32m--> 333\u001b[0m \u001b[38;5;28mself\u001b[39m\u001b[38;5;241m.\u001b[39mitem_embs[item, :] \u001b[38;5;241m-\u001b[39m\u001b[38;5;241m=\u001b[39m lr \u001b[38;5;241m*\u001b[39m (err \u001b[38;5;241m*\u001b[39m \u001b[38;5;28mself\u001b[39m\u001b[38;5;241m.\u001b[39muser_embs[user, :] \u001b[38;5;241m+\u001b[39m wd\u001b[38;5;241m*\u001b[39m\u001b[38;5;28mself\u001b[39m\u001b[38;5;241m.\u001b[39mitem_embs[item,:])\n",
      "\u001b[0;31mKeyboardInterrupt\u001b[0m: "
     ]
    }
   ],
   "source": [
    "split_idx = int(len(rs.samples) * 0.8)\n",
    "#np.random.shuffle(self.samples)\n",
    "train_samples = rs.samples[:split_idx]\n",
    "valid_samples = rs.samples[split_idx:]\n",
    "\n",
    "train_log = rs.entrenar_modelo_manualmente(\n",
    "    train_samples = train_samples,\n",
    "    valid_samples = valid_samples,\n",
    "    embSize = 50,\n",
    "    lr = 0.01,\n",
    "    wd = 0.1,\n",
    "    epochs=50)"
   ]
  },
  {
   "cell_type": "code",
   "execution_count": 10,
   "id": "e4ded6f7",
   "metadata": {},
   "outputs": [],
   "source": [
    "#rs.plot_training(train_log)"
   ]
  },
  {
   "cell_type": "code",
   "execution_count": null,
   "id": "c3e4d67b",
   "metadata": {},
   "outputs": [],
   "source": []
  }
 ],
 "metadata": {
  "kernelspec": {
   "display_name": "Python 3 (ipykernel)",
   "language": "python",
   "name": "python3"
  },
  "language_info": {
   "codemirror_mode": {
    "name": "ipython",
    "version": 3
   },
   "file_extension": ".py",
   "mimetype": "text/x-python",
   "name": "python",
   "nbconvert_exporter": "python",
   "pygments_lexer": "ipython3",
   "version": "3.10.8"
  }
 },
 "nbformat": 4,
 "nbformat_minor": 5
}
