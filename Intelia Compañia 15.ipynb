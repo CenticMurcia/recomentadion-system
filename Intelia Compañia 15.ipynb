{
 "cells": [
  {
   "cell_type": "markdown",
   "id": "ba4f7e4d",
   "metadata": {},
   "source": [
    "- https://albertauyeung.github.io/2017/04/23/python-matrix-factorization.html"
   ]
  },
  {
   "cell_type": "markdown",
   "id": "cfca7959",
   "metadata": {},
   "source": [
    "# Imports"
   ]
  },
  {
   "cell_type": "code",
   "execution_count": 8,
   "id": "8e96b797",
   "metadata": {},
   "outputs": [],
   "source": [
    "import numpy as np\n",
    "import pandas as pd\n",
    "import matplotlib.pyplot as plt\n",
    "\n",
    "pd.set_option('display.max_columns', None)"
   ]
  },
  {
   "cell_type": "markdown",
   "id": "a1afe13f",
   "metadata": {},
   "source": [
    "# Datios Intelia"
   ]
  },
  {
   "cell_type": "code",
   "execution_count": 2,
   "id": "02e3b1c1",
   "metadata": {},
   "outputs": [
    {
     "name": "stdout",
     "output_type": "stream",
     "text": [
      "customers.csv  products.csv  relation.csv\r\n"
     ]
    }
   ],
   "source": [
    "!ls data"
   ]
  },
  {
   "cell_type": "code",
   "execution_count": 3,
   "id": "32cf6862",
   "metadata": {},
   "outputs": [
    {
     "name": "stderr",
     "output_type": "stream",
     "text": [
      "/tmp/ipykernel_739/3077265193.py:3: DtypeWarning: Columns (7,9,10,11,12,13,17,18,21,26,27,28,30,36) have mixed types. Specify dtype option on import or set low_memory=False.\n",
      "  users = pd.read_csv(dataPath + \"customers.csv\")\n",
      "/tmp/ipykernel_739/3077265193.py:4: DtypeWarning: Columns (20,32,34,39) have mixed types. Specify dtype option on import or set low_memory=False.\n",
      "  items = pd.read_csv(dataPath + \"products.csv\")\n"
     ]
    }
   ],
   "source": [
    "dataPath = \"data/\"\n",
    "\n",
    "users = pd.read_csv(dataPath + \"customers.csv\")\n",
    "items = pd.read_csv(dataPath + \"products.csv\")\n",
    "pairs = pd.read_csv(dataPath + \"relation.csv\")"
   ]
  },
  {
   "cell_type": "markdown",
   "id": "c573a22c",
   "metadata": {},
   "source": [
    "# Compañía 15"
   ]
  },
  {
   "cell_type": "code",
   "execution_count": 4,
   "id": "3c2aeeb4",
   "metadata": {},
   "outputs": [],
   "source": [
    "pairs = pairs[ pairs.company_id == 15].copy()\n",
    "users = users[ users.company_id == 15].copy()\n",
    "items = items[ items.company_id == 15].copy()"
   ]
  },
  {
   "cell_type": "code",
   "execution_count": 21,
   "id": "143f68e3",
   "metadata": {},
   "outputs": [
    {
     "name": "stdout",
     "output_type": "stream",
     "text": [
      "Productos activos: 643 de 780\n",
      "Usuarios activos:  29381 de 54029\n"
     ]
    }
   ],
   "source": [
    "print(f\"Productos activos: {pairs.product_id.nunique()} de {items.id.nunique()}\")\n",
    "print(f\"Usuarios activos:  {pairs.customer_id.nunique()} de {users.id.nunique()}\")"
   ]
  },
  {
   "cell_type": "code",
   "execution_count": 10,
   "id": "49402846",
   "metadata": {},
   "outputs": [
    {
     "data": {
      "text/html": [
       "<div>\n",
       "<style scoped>\n",
       "    .dataframe tbody tr th:only-of-type {\n",
       "        vertical-align: middle;\n",
       "    }\n",
       "\n",
       "    .dataframe tbody tr th {\n",
       "        vertical-align: top;\n",
       "    }\n",
       "\n",
       "    .dataframe thead th {\n",
       "        text-align: right;\n",
       "    }\n",
       "</style>\n",
       "<table border=\"1\" class=\"dataframe\">\n",
       "  <thead>\n",
       "    <tr style=\"text-align: right;\">\n",
       "      <th></th>\n",
       "      <th>id</th>\n",
       "      <th>company_id</th>\n",
       "      <th>taxes_type_id</th>\n",
       "      <th>product_type_id</th>\n",
       "      <th>title</th>\n",
       "      <th>title2</th>\n",
       "      <th>description</th>\n",
       "      <th>reference</th>\n",
       "      <th>price</th>\n",
       "      <th>price_taxes</th>\n",
       "      <th>taxes</th>\n",
       "      <th>modificador_obligatorio</th>\n",
       "      <th>ordervalue</th>\n",
       "      <th>enabled</th>\n",
       "      <th>important</th>\n",
       "      <th>hiddendata</th>\n",
       "      <th>online</th>\n",
       "      <th>offline</th>\n",
       "      <th>is_service</th>\n",
       "      <th>replacement</th>\n",
       "      <th>id_ext</th>\n",
       "      <th>cost_price</th>\n",
       "      <th>price2</th>\n",
       "      <th>price3</th>\n",
       "      <th>price4</th>\n",
       "      <th>price5</th>\n",
       "      <th>price6</th>\n",
       "      <th>price7</th>\n",
       "      <th>price8</th>\n",
       "      <th>created_at</th>\n",
       "      <th>updated_at</th>\n",
       "      <th>soft_delete</th>\n",
       "      <th>ean</th>\n",
       "      <th>last_sale_price</th>\n",
       "      <th>expiration_date</th>\n",
       "      <th>excluded_from_recommendations</th>\n",
       "      <th>is_weight</th>\n",
       "      <th>original_product_id</th>\n",
       "      <th>families</th>\n",
       "      <th>features</th>\n",
       "    </tr>\n",
       "  </thead>\n",
       "  <tbody>\n",
       "    <tr>\n",
       "      <th>20849</th>\n",
       "      <td>29197</td>\n",
       "      <td>15</td>\n",
       "      <td>NaN</td>\n",
       "      <td>92</td>\n",
       "      <td>Renshi - REACONDICIONADO</td>\n",
       "      <td>NaN</td>\n",
       "      <td>NaN</td>\n",
       "      <td>513</td>\n",
       "      <td>16.4876</td>\n",
       "      <td>16.4876</td>\n",
       "      <td>0.0</td>\n",
       "      <td>0</td>\n",
       "      <td>282</td>\n",
       "      <td>0</td>\n",
       "      <td>0</td>\n",
       "      <td>0</td>\n",
       "      <td>0</td>\n",
       "      <td>1</td>\n",
       "      <td>0</td>\n",
       "      <td>0</td>\n",
       "      <td>513</td>\n",
       "      <td>0.0</td>\n",
       "      <td>0.0</td>\n",
       "      <td>0.0</td>\n",
       "      <td>0.0</td>\n",
       "      <td>0.0</td>\n",
       "      <td>0.0</td>\n",
       "      <td>0.0</td>\n",
       "      <td>0.0</td>\n",
       "      <td>2021-08-10 18:29:24</td>\n",
       "      <td>2021-08-31 18:22:23</td>\n",
       "      <td>0</td>\n",
       "      <td>NaN</td>\n",
       "      <td>NaN</td>\n",
       "      <td>NaN</td>\n",
       "      <td>0</td>\n",
       "      <td>0</td>\n",
       "      <td>NaN</td>\n",
       "      <td>1488</td>\n",
       "      <td>2011,9059,9122,20649,55575</td>\n",
       "    </tr>\n",
       "    <tr>\n",
       "      <th>79188</th>\n",
       "      <td>126470</td>\n",
       "      <td>15</td>\n",
       "      <td>NaN</td>\n",
       "      <td>92</td>\n",
       "      <td>Repuesto - Respaldo Takamikura Carbon Rojo</td>\n",
       "      <td>NaN</td>\n",
       "      <td>NaN</td>\n",
       "      <td>657</td>\n",
       "      <td>70.2479</td>\n",
       "      <td>70.2479</td>\n",
       "      <td>0.0</td>\n",
       "      <td>0</td>\n",
       "      <td>739</td>\n",
       "      <td>0</td>\n",
       "      <td>0</td>\n",
       "      <td>0</td>\n",
       "      <td>0</td>\n",
       "      <td>1</td>\n",
       "      <td>0</td>\n",
       "      <td>0</td>\n",
       "      <td>657</td>\n",
       "      <td>0.0</td>\n",
       "      <td>0.0</td>\n",
       "      <td>0.0</td>\n",
       "      <td>0.0</td>\n",
       "      <td>0.0</td>\n",
       "      <td>0.0</td>\n",
       "      <td>0.0</td>\n",
       "      <td>0.0</td>\n",
       "      <td>2022-08-03 11:03:29</td>\n",
       "      <td>2022-09-01 17:25:58</td>\n",
       "      <td>0</td>\n",
       "      <td>NaN</td>\n",
       "      <td>NaN</td>\n",
       "      <td>NaN</td>\n",
       "      <td>0</td>\n",
       "      <td>0</td>\n",
       "      <td>NaN</td>\n",
       "      <td>1469</td>\n",
       "      <td>NaN</td>\n",
       "    </tr>\n",
       "    <tr>\n",
       "      <th>70160</th>\n",
       "      <td>116844</td>\n",
       "      <td>15</td>\n",
       "      <td>NaN</td>\n",
       "      <td>92</td>\n",
       "      <td>Repuesto - Cojín cervical Neith</td>\n",
       "      <td>NaN</td>\n",
       "      <td>NaN</td>\n",
       "      <td>1551</td>\n",
       "      <td>8.2231</td>\n",
       "      <td>8.2231</td>\n",
       "      <td>0.0</td>\n",
       "      <td>0</td>\n",
       "      <td>669</td>\n",
       "      <td>0</td>\n",
       "      <td>0</td>\n",
       "      <td>0</td>\n",
       "      <td>0</td>\n",
       "      <td>1</td>\n",
       "      <td>0</td>\n",
       "      <td>0</td>\n",
       "      <td>1551</td>\n",
       "      <td>0.0</td>\n",
       "      <td>0.0</td>\n",
       "      <td>0.0</td>\n",
       "      <td>0.0</td>\n",
       "      <td>0.0</td>\n",
       "      <td>0.0</td>\n",
       "      <td>0.0</td>\n",
       "      <td>0.0</td>\n",
       "      <td>2022-04-25 13:30:39</td>\n",
       "      <td>2022-09-01 17:27:48</td>\n",
       "      <td>0</td>\n",
       "      <td>NaN</td>\n",
       "      <td>NaN</td>\n",
       "      <td>NaN</td>\n",
       "      <td>0</td>\n",
       "      <td>0</td>\n",
       "      <td>NaN</td>\n",
       "      <td>1469</td>\n",
       "      <td>NaN</td>\n",
       "    </tr>\n",
       "    <tr>\n",
       "      <th>53955</th>\n",
       "      <td>74722</td>\n",
       "      <td>15</td>\n",
       "      <td>NaN</td>\n",
       "      <td>92</td>\n",
       "      <td>NEWSKILL PINS PACK - REACONDICIONADO</td>\n",
       "      <td>NaN</td>\n",
       "      <td>NaN</td>\n",
       "      <td>1425</td>\n",
       "      <td>0.0000</td>\n",
       "      <td>0.0000</td>\n",
       "      <td>0.0</td>\n",
       "      <td>0</td>\n",
       "      <td>543</td>\n",
       "      <td>0</td>\n",
       "      <td>0</td>\n",
       "      <td>0</td>\n",
       "      <td>0</td>\n",
       "      <td>1</td>\n",
       "      <td>0</td>\n",
       "      <td>0</td>\n",
       "      <td>1425</td>\n",
       "      <td>0.0</td>\n",
       "      <td>0.0</td>\n",
       "      <td>0.0</td>\n",
       "      <td>0.0</td>\n",
       "      <td>0.0</td>\n",
       "      <td>0.0</td>\n",
       "      <td>0.0</td>\n",
       "      <td>0.0</td>\n",
       "      <td>2021-12-02 18:10:49</td>\n",
       "      <td>NaN</td>\n",
       "      <td>0</td>\n",
       "      <td>NaN</td>\n",
       "      <td>NaN</td>\n",
       "      <td>NaN</td>\n",
       "      <td>0</td>\n",
       "      <td>0</td>\n",
       "      <td>NaN</td>\n",
       "      <td>1488</td>\n",
       "      <td>NaN</td>\n",
       "    </tr>\n",
       "    <tr>\n",
       "      <th>20554</th>\n",
       "      <td>28902</td>\n",
       "      <td>15</td>\n",
       "      <td>NaN</td>\n",
       "      <td>92</td>\n",
       "      <td>Nagashi</td>\n",
       "      <td>NaN</td>\n",
       "      <td>NaN</td>\n",
       "      <td>104</td>\n",
       "      <td>41.2810</td>\n",
       "      <td>41.2810</td>\n",
       "      <td>0.0</td>\n",
       "      <td>0</td>\n",
       "      <td>38</td>\n",
       "      <td>0</td>\n",
       "      <td>0</td>\n",
       "      <td>0</td>\n",
       "      <td>0</td>\n",
       "      <td>1</td>\n",
       "      <td>0</td>\n",
       "      <td>0</td>\n",
       "      <td>104</td>\n",
       "      <td>0.0</td>\n",
       "      <td>0.0</td>\n",
       "      <td>0.0</td>\n",
       "      <td>0.0</td>\n",
       "      <td>0.0</td>\n",
       "      <td>0.0</td>\n",
       "      <td>0.0</td>\n",
       "      <td>0.0</td>\n",
       "      <td>2021-08-10 18:09:53</td>\n",
       "      <td>2021-08-31 17:57:42</td>\n",
       "      <td>0</td>\n",
       "      <td>NaN</td>\n",
       "      <td>NaN</td>\n",
       "      <td>NaN</td>\n",
       "      <td>0</td>\n",
       "      <td>0</td>\n",
       "      <td>NaN</td>\n",
       "      <td>1464</td>\n",
       "      <td>8948,9600,39173,52412,52414</td>\n",
       "    </tr>\n",
       "  </tbody>\n",
       "</table>\n",
       "</div>"
      ],
      "text/plain": [
       "           id  company_id  taxes_type_id  product_type_id  \\\n",
       "20849   29197          15            NaN               92   \n",
       "79188  126470          15            NaN               92   \n",
       "70160  116844          15            NaN               92   \n",
       "53955   74722          15            NaN               92   \n",
       "20554   28902          15            NaN               92   \n",
       "\n",
       "                                            title title2 description  \\\n",
       "20849                    Renshi - REACONDICIONADO    NaN         NaN   \n",
       "79188  Repuesto - Respaldo Takamikura Carbon Rojo    NaN         NaN   \n",
       "70160             Repuesto - Cojín cervical Neith    NaN         NaN   \n",
       "53955        NEWSKILL PINS PACK - REACONDICIONADO    NaN         NaN   \n",
       "20554                                     Nagashi    NaN         NaN   \n",
       "\n",
       "      reference    price  price_taxes  taxes  modificador_obligatorio  \\\n",
       "20849       513  16.4876      16.4876    0.0                        0   \n",
       "79188       657  70.2479      70.2479    0.0                        0   \n",
       "70160      1551   8.2231       8.2231    0.0                        0   \n",
       "53955      1425   0.0000       0.0000    0.0                        0   \n",
       "20554       104  41.2810      41.2810    0.0                        0   \n",
       "\n",
       "       ordervalue  enabled  important  hiddendata  online  offline  \\\n",
       "20849         282        0          0           0       0        1   \n",
       "79188         739        0          0           0       0        1   \n",
       "70160         669        0          0           0       0        1   \n",
       "53955         543        0          0           0       0        1   \n",
       "20554          38        0          0           0       0        1   \n",
       "\n",
       "       is_service  replacement id_ext  cost_price  price2  price3  price4  \\\n",
       "20849           0            0    513         0.0     0.0     0.0     0.0   \n",
       "79188           0            0    657         0.0     0.0     0.0     0.0   \n",
       "70160           0            0   1551         0.0     0.0     0.0     0.0   \n",
       "53955           0            0   1425         0.0     0.0     0.0     0.0   \n",
       "20554           0            0    104         0.0     0.0     0.0     0.0   \n",
       "\n",
       "       price5  price6  price7  price8           created_at  \\\n",
       "20849     0.0     0.0     0.0     0.0  2021-08-10 18:29:24   \n",
       "79188     0.0     0.0     0.0     0.0  2022-08-03 11:03:29   \n",
       "70160     0.0     0.0     0.0     0.0  2022-04-25 13:30:39   \n",
       "53955     0.0     0.0     0.0     0.0  2021-12-02 18:10:49   \n",
       "20554     0.0     0.0     0.0     0.0  2021-08-10 18:09:53   \n",
       "\n",
       "                updated_at  soft_delete  ean  last_sale_price expiration_date  \\\n",
       "20849  2021-08-31 18:22:23            0  NaN              NaN             NaN   \n",
       "79188  2022-09-01 17:25:58            0  NaN              NaN             NaN   \n",
       "70160  2022-09-01 17:27:48            0  NaN              NaN             NaN   \n",
       "53955                  NaN            0  NaN              NaN             NaN   \n",
       "20554  2021-08-31 17:57:42            0  NaN              NaN             NaN   \n",
       "\n",
       "       excluded_from_recommendations  is_weight  original_product_id families  \\\n",
       "20849                              0          0                  NaN     1488   \n",
       "79188                              0          0                  NaN     1469   \n",
       "70160                              0          0                  NaN     1469   \n",
       "53955                              0          0                  NaN     1488   \n",
       "20554                              0          0                  NaN     1464   \n",
       "\n",
       "                          features  \n",
       "20849   2011,9059,9122,20649,55575  \n",
       "79188                          NaN  \n",
       "70160                          NaN  \n",
       "53955                          NaN  \n",
       "20554  8948,9600,39173,52412,52414  "
      ]
     },
     "execution_count": 10,
     "metadata": {},
     "output_type": "execute_result"
    }
   ],
   "source": [
    "items.sample(5)"
   ]
  },
  {
   "cell_type": "code",
   "execution_count": 6,
   "id": "604e0db8",
   "metadata": {},
   "outputs": [
    {
     "data": {
      "text/plain": [
       "Index(['id', 'gender_id', 'company_id', 'customer_referer_id',\n",
       "       'customer_group_id', 'name', 'surname1', 'surname2', 'email',\n",
       "       'vat_number', 'phpone', 'postalcode', 'date_birthday', 'image',\n",
       "       'legal_conditions', 'date_legal_conditions', 'cross_selling',\n",
       "       'date_cross_selling', 'id_ext', 'token', 'is_b2b', 'url', 'created_at',\n",
       "       'updated_at', 'soft_delete', 'store_id', 'business_name',\n",
       "       'trade_name_b2_b', 'business_email', 'customer_parent_id', 'username',\n",
       "       'password', 'rooms', 'rec_token', 'loyalty_level_id',\n",
       "       'comercial_comunications', 'comercial_comunications_date', 'agent_id',\n",
       "       'isLead', 'registered_at', 'first_purchase', 'aud_calculate'],\n",
       "      dtype='object')"
      ]
     },
     "execution_count": 6,
     "metadata": {},
     "output_type": "execute_result"
    }
   ],
   "source": [
    "users.columns"
   ]
  },
  {
   "cell_type": "markdown",
   "id": "fd334ea4",
   "metadata": {},
   "source": [
    "# <center> Train with fast.ai"
   ]
  },
  {
   "cell_type": "code",
   "execution_count": 5,
   "id": "f89bfda5",
   "metadata": {},
   "outputs": [],
   "source": [
    "from recommenderSystemFastai import RecSysFastai"
   ]
  },
  {
   "cell_type": "code",
   "execution_count": 6,
   "id": "0f5c6ff9",
   "metadata": {},
   "outputs": [
    {
     "data": {
      "text/html": [
       "<div>\n",
       "<style scoped>\n",
       "    .dataframe tbody tr th:only-of-type {\n",
       "        vertical-align: middle;\n",
       "    }\n",
       "\n",
       "    .dataframe tbody tr th {\n",
       "        vertical-align: top;\n",
       "    }\n",
       "\n",
       "    .dataframe thead th {\n",
       "        text-align: right;\n",
       "    }\n",
       "</style>\n",
       "<table border=\"1\" class=\"dataframe\">\n",
       "  <thead>\n",
       "    <tr style=\"text-align: right;\">\n",
       "      <th></th>\n",
       "      <th>company_id</th>\n",
       "      <th>product_id</th>\n",
       "      <th>customer_id</th>\n",
       "      <th>compras</th>\n",
       "      <th>visto</th>\n",
       "      <th>peso</th>\n",
       "      <th>ultimo</th>\n",
       "    </tr>\n",
       "  </thead>\n",
       "  <tbody>\n",
       "    <tr>\n",
       "      <th>50922</th>\n",
       "      <td>15</td>\n",
       "      <td>28863</td>\n",
       "      <td>30110</td>\n",
       "      <td>1</td>\n",
       "      <td>0</td>\n",
       "      <td>3.00</td>\n",
       "      <td>2018-11-24 17:17:00</td>\n",
       "    </tr>\n",
       "    <tr>\n",
       "      <th>50923</th>\n",
       "      <td>15</td>\n",
       "      <td>28863</td>\n",
       "      <td>30186</td>\n",
       "      <td>1</td>\n",
       "      <td>0</td>\n",
       "      <td>3.00</td>\n",
       "      <td>2018-11-24 22:36:52</td>\n",
       "    </tr>\n",
       "    <tr>\n",
       "      <th>50924</th>\n",
       "      <td>15</td>\n",
       "      <td>28863</td>\n",
       "      <td>30214</td>\n",
       "      <td>1</td>\n",
       "      <td>0</td>\n",
       "      <td>3.00</td>\n",
       "      <td>2018-11-25 19:41:01</td>\n",
       "    </tr>\n",
       "    <tr>\n",
       "      <th>50925</th>\n",
       "      <td>15</td>\n",
       "      <td>28864</td>\n",
       "      <td>30420</td>\n",
       "      <td>1</td>\n",
       "      <td>0</td>\n",
       "      <td>3.00</td>\n",
       "      <td>2018-12-13 15:57:46</td>\n",
       "    </tr>\n",
       "    <tr>\n",
       "      <th>50926</th>\n",
       "      <td>15</td>\n",
       "      <td>28864</td>\n",
       "      <td>30518</td>\n",
       "      <td>1</td>\n",
       "      <td>0</td>\n",
       "      <td>3.00</td>\n",
       "      <td>2018-12-22 17:07:16</td>\n",
       "    </tr>\n",
       "    <tr>\n",
       "      <th>...</th>\n",
       "      <td>...</td>\n",
       "      <td>...</td>\n",
       "      <td>...</td>\n",
       "      <td>...</td>\n",
       "      <td>...</td>\n",
       "      <td>...</td>\n",
       "      <td>...</td>\n",
       "    </tr>\n",
       "    <tr>\n",
       "      <th>642507</th>\n",
       "      <td>15</td>\n",
       "      <td>114994</td>\n",
       "      <td>539399</td>\n",
       "      <td>0</td>\n",
       "      <td>4</td>\n",
       "      <td>0.08</td>\n",
       "      <td>2022-10-17 01:50:53</td>\n",
       "    </tr>\n",
       "    <tr>\n",
       "      <th>642508</th>\n",
       "      <td>15</td>\n",
       "      <td>114994</td>\n",
       "      <td>539538</td>\n",
       "      <td>0</td>\n",
       "      <td>5</td>\n",
       "      <td>0.10</td>\n",
       "      <td>2022-10-16 03:08:10</td>\n",
       "    </tr>\n",
       "    <tr>\n",
       "      <th>642509</th>\n",
       "      <td>15</td>\n",
       "      <td>126773</td>\n",
       "      <td>140311</td>\n",
       "      <td>0</td>\n",
       "      <td>4</td>\n",
       "      <td>0.08</td>\n",
       "      <td>2022-10-17 00:03:46</td>\n",
       "    </tr>\n",
       "    <tr>\n",
       "      <th>642510</th>\n",
       "      <td>15</td>\n",
       "      <td>126773</td>\n",
       "      <td>140456</td>\n",
       "      <td>0</td>\n",
       "      <td>4</td>\n",
       "      <td>0.08</td>\n",
       "      <td>2022-10-16 23:00:03</td>\n",
       "    </tr>\n",
       "    <tr>\n",
       "      <th>642511</th>\n",
       "      <td>15</td>\n",
       "      <td>126773</td>\n",
       "      <td>539579</td>\n",
       "      <td>0</td>\n",
       "      <td>4</td>\n",
       "      <td>0.08</td>\n",
       "      <td>2022-10-16 15:55:58</td>\n",
       "    </tr>\n",
       "  </tbody>\n",
       "</table>\n",
       "<p>60226 rows × 7 columns</p>\n",
       "</div>"
      ],
      "text/plain": [
       "        company_id  product_id  customer_id  compras  visto  peso  \\\n",
       "50922           15       28863        30110        1      0  3.00   \n",
       "50923           15       28863        30186        1      0  3.00   \n",
       "50924           15       28863        30214        1      0  3.00   \n",
       "50925           15       28864        30420        1      0  3.00   \n",
       "50926           15       28864        30518        1      0  3.00   \n",
       "...            ...         ...          ...      ...    ...   ...   \n",
       "642507          15      114994       539399        0      4  0.08   \n",
       "642508          15      114994       539538        0      5  0.10   \n",
       "642509          15      126773       140311        0      4  0.08   \n",
       "642510          15      126773       140456        0      4  0.08   \n",
       "642511          15      126773       539579        0      4  0.08   \n",
       "\n",
       "                     ultimo  \n",
       "50922   2018-11-24 17:17:00  \n",
       "50923   2018-11-24 22:36:52  \n",
       "50924   2018-11-25 19:41:01  \n",
       "50925   2018-12-13 15:57:46  \n",
       "50926   2018-12-22 17:07:16  \n",
       "...                     ...  \n",
       "642507  2022-10-17 01:50:53  \n",
       "642508  2022-10-16 03:08:10  \n",
       "642509  2022-10-17 00:03:46  \n",
       "642510  2022-10-16 23:00:03  \n",
       "642511  2022-10-16 15:55:58  \n",
       "\n",
       "[60226 rows x 7 columns]"
      ]
     },
     "execution_count": 6,
     "metadata": {},
     "output_type": "execute_result"
    }
   ],
   "source": [
    "pairs"
   ]
  },
  {
   "cell_type": "code",
   "execution_count": 7,
   "id": "d8feb1e7",
   "metadata": {},
   "outputs": [],
   "source": [
    "rs = RecSysFastai(pairs)"
   ]
  },
  {
   "cell_type": "code",
   "execution_count": 8,
   "id": "41e18ea2",
   "metadata": {},
   "outputs": [
    {
     "data": {
      "text/plain": [
       "<AxesSubplot: ylabel='Frequency'>"
      ]
     },
     "execution_count": 8,
     "metadata": {},
     "output_type": "execute_result"
    },
    {
     "data": {
      "image/png": "[encoded data removed]",
      "text/plain": [
       "<Figure size 640x480 with 1 Axes>"
      ]
     },
     "metadata": {},
     "output_type": "display_data"
    }
   ],
   "source": [
    "rs.df.peso.plot.hist(bins=50)"
   ]
  },
  {
   "cell_type": "code",
   "execution_count": 9,
   "id": "411a186c",
   "metadata": {},
   "outputs": [
    {
     "data": {
      "text/html": [
       "\n",
       "<style>\n",
       "    /* Turns off some styling */\n",
       "    progress {\n",
       "        /* gets rid of default border in Firefox and Opera. */\n",
       "        border: none;\n",
       "        /* Needs to be in here for Safari polyfill so background images work as expected. */\n",
       "        background-size: auto;\n",
       "    }\n",
       "    progress:not([value]), progress:not([value])::-webkit-progress-bar {\n",
       "        background: repeating-linear-gradient(45deg, #7e7e7e, #7e7e7e 10px, #5c5c5c 10px, #5c5c5c 20px);\n",
       "    }\n",
       "    .progress-bar-interrupted, .progress-bar-interrupted::-webkit-progress-bar {\n",
       "        background: #F44336;\n",
       "    }\n",
       "</style>\n"
      ],
      "text/plain": [
       "<IPython.core.display.HTML object>"
      ]
     },
     "metadata": {},
     "output_type": "display_data"
    },
    {
     "data": {
      "text/html": [
       "<table border=\"1\" class=\"dataframe\">\n",
       "  <thead>\n",
       "    <tr style=\"text-align: left;\">\n",
       "      <th>epoch</th>\n",
       "      <th>train_loss</th>\n",
       "      <th>valid_loss</th>\n",
       "      <th>mae</th>\n",
       "      <th>time</th>\n",
       "    </tr>\n",
       "  </thead>\n",
       "  <tbody>\n",
       "    <tr>\n",
       "      <td>0</td>\n",
       "      <td>0.465621</td>\n",
       "      <td>0.423053</td>\n",
       "      <td>0.446210</td>\n",
       "      <td>00:03</td>\n",
       "    </tr>\n",
       "    <tr>\n",
       "      <td>1</td>\n",
       "      <td>0.320393</td>\n",
       "      <td>0.358471</td>\n",
       "      <td>0.402380</td>\n",
       "      <td>00:03</td>\n",
       "    </tr>\n",
       "    <tr>\n",
       "      <td>2</td>\n",
       "      <td>0.194788</td>\n",
       "      <td>0.356560</td>\n",
       "      <td>0.418657</td>\n",
       "      <td>00:03</td>\n",
       "    </tr>\n",
       "    <tr>\n",
       "      <td>3</td>\n",
       "      <td>0.101083</td>\n",
       "      <td>0.347066</td>\n",
       "      <td>0.396576</td>\n",
       "      <td>00:03</td>\n",
       "    </tr>\n",
       "    <tr>\n",
       "      <td>4</td>\n",
       "      <td>0.057824</td>\n",
       "      <td>0.348250</td>\n",
       "      <td>0.401124</td>\n",
       "      <td>00:03</td>\n",
       "    </tr>\n",
       "  </tbody>\n",
       "</table>"
      ],
      "text/plain": [
       "<IPython.core.display.HTML object>"
      ]
     },
     "metadata": {},
     "output_type": "display_data"
    }
   ],
   "source": [
    "rs.entrenar_modelo(valid_pct=0.2)"
   ]
  },
  {
   "cell_type": "code",
   "execution_count": 9,
   "id": "9ffae41a",
   "metadata": {},
   "outputs": [
    {
     "data": {
      "text/html": [
       "\n",
       "<style>\n",
       "    /* Turns off some styling */\n",
       "    progress {\n",
       "        /* gets rid of default border in Firefox and Opera. */\n",
       "        border: none;\n",
       "        /* Needs to be in here for Safari polyfill so background images work as expected. */\n",
       "        background-size: auto;\n",
       "    }\n",
       "    progress:not([value]), progress:not([value])::-webkit-progress-bar {\n",
       "        background: repeating-linear-gradient(45deg, #7e7e7e, #7e7e7e 10px, #5c5c5c 10px, #5c5c5c 20px);\n",
       "    }\n",
       "    .progress-bar-interrupted, .progress-bar-interrupted::-webkit-progress-bar {\n",
       "        background: #F44336;\n",
       "    }\n",
       "</style>\n"
      ],
      "text/plain": [
       "<IPython.core.display.HTML object>"
      ]
     },
     "metadata": {},
     "output_type": "display_data"
    },
    {
     "data": {
      "text/html": [
       "<table border=\"1\" class=\"dataframe\">\n",
       "  <thead>\n",
       "    <tr style=\"text-align: left;\">\n",
       "      <th>epoch</th>\n",
       "      <th>train_loss</th>\n",
       "      <th>valid_loss</th>\n",
       "      <th>mae</th>\n",
       "      <th>time</th>\n",
       "    </tr>\n",
       "  </thead>\n",
       "  <tbody>\n",
       "    <tr>\n",
       "      <td>0</td>\n",
       "      <td>0.415234</td>\n",
       "      <td>None</td>\n",
       "      <td>None</td>\n",
       "      <td>00:03</td>\n",
       "    </tr>\n",
       "    <tr>\n",
       "      <td>1</td>\n",
       "      <td>0.304831</td>\n",
       "      <td>None</td>\n",
       "      <td>None</td>\n",
       "      <td>00:03</td>\n",
       "    </tr>\n",
       "    <tr>\n",
       "      <td>2</td>\n",
       "      <td>0.208392</td>\n",
       "      <td>None</td>\n",
       "      <td>None</td>\n",
       "      <td>00:03</td>\n",
       "    </tr>\n",
       "    <tr>\n",
       "      <td>3</td>\n",
       "      <td>0.123913</td>\n",
       "      <td>None</td>\n",
       "      <td>None</td>\n",
       "      <td>00:03</td>\n",
       "    </tr>\n",
       "    <tr>\n",
       "      <td>4</td>\n",
       "      <td>0.067124</td>\n",
       "      <td>None</td>\n",
       "      <td>None</td>\n",
       "      <td>00:03</td>\n",
       "    </tr>\n",
       "  </tbody>\n",
       "</table>"
      ],
      "text/plain": [
       "<IPython.core.display.HTML object>"
      ]
     },
     "metadata": {},
     "output_type": "display_data"
    },
    {
     "name": "stderr",
     "output_type": "stream",
     "text": [
      "/home/javi/.local/lib/python3.10/site-packages/fastprogress/fastprogress.py:73: UserWarning: Your generator is empty.\n",
      "  warn(\"Your generator is empty.\")\n",
      "/home/javi/.local/lib/python3.10/site-packages/fastprogress/fastprogress.py:73: UserWarning: Your generator is empty.\n",
      "  warn(\"Your generator is empty.\")\n",
      "/home/javi/.local/lib/python3.10/site-packages/fastprogress/fastprogress.py:73: UserWarning: Your generator is empty.\n",
      "  warn(\"Your generator is empty.\")\n",
      "/home/javi/.local/lib/python3.10/site-packages/fastprogress/fastprogress.py:73: UserWarning: Your generator is empty.\n",
      "  warn(\"Your generator is empty.\")\n",
      "/home/javi/.local/lib/python3.10/site-packages/fastprogress/fastprogress.py:73: UserWarning: Your generator is empty.\n",
      "  warn(\"Your generator is empty.\")\n"
     ]
    }
   ],
   "source": [
    "rs.entrenar_modelo(valid_pct=0)"
   ]
  },
  {
   "cell_type": "markdown",
   "id": "eca02824",
   "metadata": {},
   "source": [
    "## Guardar modelo"
   ]
  },
  {
   "cell_type": "code",
   "execution_count": 10,
   "id": "3d8e2820",
   "metadata": {},
   "outputs": [],
   "source": [
    "import pickle "
   ]
  },
  {
   "cell_type": "code",
   "execution_count": 11,
   "id": "25ee036f",
   "metadata": {},
   "outputs": [
    {
     "data": {
      "text/plain": [
       "1"
      ]
     },
     "execution_count": 11,
     "metadata": {},
     "output_type": "execute_result"
    }
   ],
   "source": [
    "rs.trained"
   ]
  },
  {
   "cell_type": "code",
   "execution_count": 12,
   "id": "c934f3d8",
   "metadata": {},
   "outputs": [],
   "source": [
    "pickle.dump(rs, open(\"recomendador_comp15\", 'wb') ) # Guardarlo a archivo\n",
    "del rs                                              # Borrarlo (opcional)\n",
    "rs = pickle.load(open(\"recomendador_comp15\", 'rb')) # Cargarlo de archivo"
   ]
  },
  {
   "cell_type": "code",
   "execution_count": 13,
   "id": "45b5a5e9",
   "metadata": {},
   "outputs": [
    {
     "data": {
      "text/plain": [
       "1"
      ]
     },
     "execution_count": 13,
     "metadata": {},
     "output_type": "execute_result"
    }
   ],
   "source": [
    "rs.trained"
   ]
  },
  {
   "cell_type": "markdown",
   "id": "e8b47056",
   "metadata": {},
   "source": [
    "### Ver id usuarios"
   ]
  },
  {
   "cell_type": "code",
   "execution_count": 14,
   "id": "af252573",
   "metadata": {},
   "outputs": [
    {
     "data": {
      "text/plain": [
       "(#10) ['#na#',21724,21726,21728,21730,21731,21732,21733,21734,21735]"
      ]
     },
     "execution_count": 14,
     "metadata": {},
     "output_type": "execute_result"
    }
   ],
   "source": [
    "rs.users[:10]"
   ]
  },
  {
   "cell_type": "markdown",
   "id": "2d9085e4",
   "metadata": {},
   "source": [
    "### Ver id porductos"
   ]
  },
  {
   "cell_type": "code",
   "execution_count": 15,
   "id": "bb9e5443",
   "metadata": {},
   "outputs": [
    {
     "data": {
      "text/plain": [
       "(#10) ['#na#',28863,28864,28865,28866,28867,28868,28869,28870,28872]"
      ]
     },
     "execution_count": 15,
     "metadata": {},
     "output_type": "execute_result"
    }
   ],
   "source": [
    "rs.items[:10]"
   ]
  },
  {
   "cell_type": "markdown",
   "id": "93b4a17d",
   "metadata": {},
   "source": [
    "# <center> USUARIO(S) --> PRODUCTOS"
   ]
  },
  {
   "cell_type": "markdown",
   "id": "2557eb60",
   "metadata": {},
   "source": [
    "### Sugerencias (ids de producto) para un usario concreto."
   ]
  },
  {
   "cell_type": "code",
   "execution_count": 19,
   "id": "312b5b1a",
   "metadata": {},
   "outputs": [
    {
     "data": {
      "text/plain": [
       "(#6) [29119,28960,35032,29095,28939,28966]"
      ]
     },
     "execution_count": 19,
     "metadata": {},
     "output_type": "execute_result"
    }
   ],
   "source": [
    "rs.sugerirProdutos(user_ids=[21726], limit=0.3)"
   ]
  },
  {
   "cell_type": "markdown",
   "id": "e5de4f28",
   "metadata": {},
   "source": [
    "### Sugerencias (ids de producto) para ciertos usarios filtrados.\n",
    "- Si se proponcionan varios IDs de usuarios, el emebeding quiery usuario es la **media de todos los embedding de usuarios** individuales"
   ]
  },
  {
   "cell_type": "code",
   "execution_count": 20,
   "id": "9bc717be",
   "metadata": {},
   "outputs": [
    {
     "data": {
      "text/plain": [
       "(#3) [28970,29100,28878]"
      ]
     },
     "execution_count": 20,
     "metadata": {},
     "output_type": "execute_result"
    }
   ],
   "source": [
    "rs.sugerirProdutos(user_ids=[21726,21728], limit=0.3)"
   ]
  },
  {
   "cell_type": "markdown",
   "id": "6b979286",
   "metadata": {},
   "source": [
    "# <center> PRODUCTO(S) --> USUARIOS"
   ]
  },
  {
   "cell_type": "markdown",
   "id": "311c1091",
   "metadata": {},
   "source": [
    "### Audiencia (ids de usuarios) para un producto concreto."
   ]
  },
  {
   "cell_type": "code",
   "execution_count": 18,
   "id": "bfcdd284",
   "metadata": {},
   "outputs": [
    {
     "data": {
      "text/plain": [
       "(#4) [170600,123514,144080,174574]"
      ]
     },
     "execution_count": 18,
     "metadata": {},
     "output_type": "execute_result"
    }
   ],
   "source": [
    "rs.adienciaUsuaros(item_ids=[28863], limit=0.88)"
   ]
  },
  {
   "cell_type": "markdown",
   "id": "16db58f6",
   "metadata": {},
   "source": [
    "### Audiencia (ids de usuarios) para ciertos productos filtrados.\n",
    "- Si se proponcionan varios IDs de producto, el emebeding producto es la **media de todos los embedding de productos** individuales"
   ]
  },
  {
   "cell_type": "code",
   "execution_count": 22,
   "id": "3da6214c",
   "metadata": {},
   "outputs": [
    {
     "data": {
      "text/plain": [
       "(#406) [72840,73764,35447,39321,30985,24239,43209,537481,39069,28757...]"
      ]
     },
     "execution_count": 22,
     "metadata": {},
     "output_type": "execute_result"
    }
   ],
   "source": [
    "rs.adienciaUsuaros(item_ids=[28863,28864,28865], limit=0.1)"
   ]
  },
  {
   "cell_type": "markdown",
   "id": "55252972",
   "metadata": {},
   "source": [
    "# <center> PRODUCTO(S) --> PRODUCTOS"
   ]
  },
  {
   "cell_type": "markdown",
   "id": "54e0895c",
   "metadata": {},
   "source": [
    "### Ids de producto que normalmente se compran junto a este producto."
   ]
  },
  {
   "cell_type": "code",
   "execution_count": 23,
   "id": "afaadcfc",
   "metadata": {},
   "outputs": [
    {
     "data": {
      "text/plain": [
       "(#48) [28863,29111,29315,28979,28878,29113,57570,70253,29124,28985...]"
      ]
     },
     "execution_count": 23,
     "metadata": {},
     "output_type": "execute_result"
    }
   ],
   "source": [
    "rs.productos_parecidos(item_ids=[28863], limit=0.3)"
   ]
  },
  {
   "cell_type": "markdown",
   "id": "6f6aeb6d",
   "metadata": {},
   "source": [
    "# <center> USUARIO(S) + PRODUCTO(S) --> PRODUCTOS"
   ]
  },
  {
   "cell_type": "markdown",
   "id": "00372b67",
   "metadata": {},
   "source": [
    "### Ids de producto para una pareja de usuario+producto concreto.\n",
    "- Nótese que **el ebedding query es la suma ponderada de 50% del emebeding usuario más 50% del emebeding producto**.\n",
    "- Si se proponcionan varios IDs de usuarios, el emebeding usuario es la **media de todos los embedding de usuarios** individuales\n",
    "- Si se proponcionan varios IDs de producto, el emebeding producto es la **media de todos los embedding de productos** individuales"
   ]
  },
  {
   "cell_type": "code",
   "execution_count": 26,
   "id": "008fb128",
   "metadata": {},
   "outputs": [
    {
     "data": {
      "text/plain": [
       "(#7) [28863,29111,28985,28878,29315,28979,28970]"
      ]
     },
     "execution_count": 26,
     "metadata": {},
     "output_type": "execute_result"
    }
   ],
   "source": [
    "rs.sugerir_productos_a_pareja_user_prod(user_ids=[21726], item_ids=[28863], limit=0.3)"
   ]
  },
  {
   "cell_type": "code",
   "execution_count": 29,
   "id": "e0ce7f30",
   "metadata": {},
   "outputs": [
    {
     "data": {
      "text/plain": [
       "(#29) [29133,29100,28878,28875,29111,52001,28970,28909,28863,29136...]"
      ]
     },
     "execution_count": 29,
     "metadata": {},
     "output_type": "execute_result"
    }
   ],
   "source": [
    "rs.sugerir_productos_a_pareja_user_prod(user_ids=[21726,21728], item_ids=[28863,28864,28865], limit=0.1)"
   ]
  },
  {
   "cell_type": "markdown",
   "id": "2aa70154",
   "metadata": {},
   "source": [
    "---\n",
    "# <center> Train with SGD from scratch"
   ]
  },
  {
   "cell_type": "code",
   "execution_count": 6,
   "id": "34d3840f",
   "metadata": {},
   "outputs": [],
   "source": [
    "from recommenderSystem import RecSys"
   ]
  },
  {
   "cell_type": "code",
   "execution_count": 7,
   "id": "5701e1f5",
   "metadata": {},
   "outputs": [],
   "source": [
    "rs2 = RecSys(pairs, users, items, userName=\"customer_id\", itemName=\"product_id\", scoreName=\"peso\")"
   ]
  },
  {
   "cell_type": "code",
   "execution_count": 8,
   "id": "131d9f96",
   "metadata": {},
   "outputs": [],
   "source": [
    "#rs2.draw_matrix()"
   ]
  },
  {
   "cell_type": "code",
   "execution_count": 13,
   "id": "c3e4d67b",
   "metadata": {},
   "outputs": [
    {
     "name": "stdout",
     "output_type": "stream",
     "text": [
      "Epoch: 1 ; trMAE = 0.4696 trMSE = 0.3812 valMAE = 0.6952 valMSE = 0.6443\n",
      "Epoch: 2 ; trMAE = 0.4499 trMSE = 0.3597 valMAE = 0.6855 valMSE = 0.6276\n",
      "Epoch: 3 ; trMAE = 0.4365 trMSE = 0.3446 valMAE = 0.6791 valMSE = 0.6153\n",
      "Epoch: 4 ; trMAE = 0.4268 trMSE = 0.3329 valMAE = 0.6724 valMSE = 0.6041\n",
      "Epoch: 5 ; trMAE = 0.4156 trMSE = 0.3218 valMAE = 0.6663 valMSE = 0.5941\n",
      "Epoch: 6 ; trMAE = 0.4080 trMSE = 0.3130 valMAE = 0.6603 valMSE = 0.5854\n",
      "Epoch: 7 ; trMAE = 0.4019 trMSE = 0.3044 valMAE = 0.6575 valMSE = 0.5791\n",
      "Epoch: 8 ; trMAE = 0.3980 trMSE = 0.2973 valMAE = 0.6523 valMSE = 0.5717\n",
      "Epoch: 9 ; trMAE = 0.3878 trMSE = 0.2902 valMAE = 0.6477 valMSE = 0.5659\n",
      "Epoch: 10 ; trMAE = 0.3859 trMSE = 0.2847 valMAE = 0.6454 valMSE = 0.5616\n",
      "Epoch: 11 ; trMAE = 0.3815 trMSE = 0.2791 valMAE = 0.6408 valMSE = 0.5556\n",
      "Epoch: 12 ; trMAE = 0.3753 trMSE = 0.2734 valMAE = 0.6390 valMSE = 0.5526\n",
      "Epoch: 13 ; trMAE = 0.3732 trMSE = 0.2689 valMAE = 0.6370 valMSE = 0.5494\n",
      "Epoch: 14 ; trMAE = 0.3699 trMSE = 0.2643 valMAE = 0.6329 valMSE = 0.5449\n",
      "Epoch: 15 ; trMAE = 0.3654 trMSE = 0.2600 valMAE = 0.6302 valMSE = 0.5418\n",
      "Epoch: 16 ; trMAE = 0.3628 trMSE = 0.2562 valMAE = 0.6283 valMSE = 0.5393\n",
      "Epoch: 17 ; trMAE = 0.3547 trMSE = 0.2521 valMAE = 0.6263 valMSE = 0.5373\n",
      "Epoch: 18 ; trMAE = 0.3537 trMSE = 0.2490 valMAE = 0.6236 valMSE = 0.5344\n",
      "Epoch: 19 ; trMAE = 0.3519 trMSE = 0.2464 valMAE = 0.6221 valMSE = 0.5325\n",
      "Epoch: 20 ; trMAE = 0.3460 trMSE = 0.2426 valMAE = 0.6198 valMSE = 0.5307\n",
      "Epoch: 21 ; trMAE = 0.3452 trMSE = 0.2398 valMAE = 0.6187 valMSE = 0.5290\n",
      "Epoch: 22 ; trMAE = 0.3455 trMSE = 0.2378 valMAE = 0.6163 valMSE = 0.5267\n",
      "Epoch: 23 ; trMAE = 0.3362 trMSE = 0.2340 valMAE = 0.6156 valMSE = 0.5265\n",
      "Epoch: 24 ; trMAE = 0.3350 trMSE = 0.2321 valMAE = 0.6147 valMSE = 0.5256\n",
      "Epoch: 25 ; trMAE = 0.3327 trMSE = 0.2294 valMAE = 0.6126 valMSE = 0.5239\n",
      "Epoch: 26 ; trMAE = 0.3304 trMSE = 0.2272 valMAE = 0.6118 valMSE = 0.5232\n",
      "Epoch: 27 ; trMAE = 0.3303 trMSE = 0.2255 valMAE = 0.6090 valMSE = 0.5208\n",
      "Epoch: 28 ; trMAE = 0.3292 trMSE = 0.2237 valMAE = 0.6091 valMSE = 0.5211\n",
      "Epoch: 29 ; trMAE = 0.3231 trMSE = 0.2209 valMAE = 0.6089 valMSE = 0.5211\n",
      "Epoch: 30 ; trMAE = 0.3185 trMSE = 0.2190 valMAE = 0.6077 valMSE = 0.5207\n",
      "Epoch: 31 ; trMAE = 0.3214 trMSE = 0.2176 valMAE = 0.6063 valMSE = 0.5191\n",
      "Epoch: 32 ; trMAE = 0.3195 trMSE = 0.2159 valMAE = 0.6063 valMSE = 0.5191\n",
      "Epoch: 33 ; trMAE = 0.3135 trMSE = 0.2140 valMAE = 0.6047 valMSE = 0.5186\n",
      "Epoch: 34 ; trMAE = 0.3135 trMSE = 0.2124 valMAE = 0.6036 valMSE = 0.5178\n",
      "Epoch: 35 ; trMAE = 0.3125 trMSE = 0.2108 valMAE = 0.6031 valMSE = 0.5178\n",
      "Epoch: 36 ; trMAE = 0.3140 trMSE = 0.2099 valMAE = 0.6024 valMSE = 0.5169\n",
      "Epoch: 37 ; trMAE = 0.3096 trMSE = 0.2080 valMAE = 0.6019 valMSE = 0.5168\n",
      "Epoch: 38 ; trMAE = 0.3063 trMSE = 0.2065 valMAE = 0.6015 valMSE = 0.5172\n",
      "Epoch: 39 ; trMAE = 0.3069 trMSE = 0.2052 valMAE = 0.6009 valMSE = 0.5168\n",
      "Epoch: 40 ; trMAE = 0.3016 trMSE = 0.2039 valMAE = 0.6004 valMSE = 0.5170\n",
      "Epoch: 41 ; trMAE = 0.3055 trMSE = 0.2030 valMAE = 0.5991 valMSE = 0.5161\n",
      "Epoch: 42 ; trMAE = 0.3023 trMSE = 0.2017 valMAE = 0.5988 valMSE = 0.5162\n",
      "Epoch: 43 ; trMAE = 0.3009 trMSE = 0.2004 valMAE = 0.5983 valMSE = 0.5161\n",
      "Epoch: 44 ; trMAE = 0.3019 trMSE = 0.1997 valMAE = 0.5980 valMSE = 0.5159\n",
      "Epoch: 45 ; trMAE = 0.2981 trMSE = 0.1983 valMAE = 0.5977 valMSE = 0.5164\n",
      "Epoch: 46 ; trMAE = 0.3003 trMSE = 0.1976 valMAE = 0.5974 valMSE = 0.5161\n",
      "Epoch: 47 ; trMAE = 0.2939 trMSE = 0.1959 valMAE = 0.5965 valMSE = 0.5165\n",
      "Epoch: 48 ; trMAE = 0.2943 trMSE = 0.1951 valMAE = 0.5968 valMSE = 0.5169\n",
      "Epoch: 49 ; trMAE = 0.2931 trMSE = 0.1938 valMAE = 0.5959 valMSE = 0.5164\n",
      "Epoch: 50 ; trMAE = 0.2898 trMSE = 0.1926 valMAE = 0.5952 valMSE = 0.5166\n"
     ]
    }
   ],
   "source": [
    "split_idx = int(len(rs2.samples) * 0.8)\n",
    "#np.random.shuffle(self.samples)\n",
    "train_samples = rs2.samples[:split_idx]\n",
    "valid_samples = rs2.samples[split_idx:]\n",
    "\n",
    "train_log = rs2.entrenar_modelo_manualmente(\n",
    "    train_samples = train_samples,\n",
    "    valid_samples = valid_samples,\n",
    "    embSize = 50,\n",
    "    lr = 0.01,\n",
    "    wd = 0.1,\n",
    "    epochs=50)"
   ]
  },
  {
   "cell_type": "code",
   "execution_count": 16,
   "id": "de92467c",
   "metadata": {},
   "outputs": [
    {
     "data": {
      "image/png": "[encoded data removed]",
      "text/plain": [
       "<Figure size 1600x400 with 1 Axes>"
      ]
     },
     "metadata": {},
     "output_type": "display_data"
    },
    {
     "data": {
      "image/png": "[encoded data removed]",
      "text/plain": [
       "<Figure size 1600x400 with 1 Axes>"
      ]
     },
     "metadata": {},
     "output_type": "display_data"
    }
   ],
   "source": [
    "rs2.plot_training(train_log)"
   ]
  },
  {
   "cell_type": "code",
   "execution_count": 9,
   "id": "7d834c06",
   "metadata": {},
   "outputs": [
    {
     "name": "stdout",
     "output_type": "stream",
     "text": [
      "Epoch: 1 ; trMAE = 1.0204 trMSE = 1.8226\n",
      "Epoch: 2 ; trMAE = 0.9610 trMSE = 1.7002\n",
      "Epoch: 3 ; trMAE = 0.9175 trMSE = 1.6166\n",
      "Epoch: 4 ; trMAE = 0.8900 trMSE = 1.5447\n",
      "Epoch: 5 ; trMAE = 0.8786 trMSE = 1.4496\n",
      "Epoch: 6 ; trMAE = 0.8472 trMSE = 1.3236\n",
      "Epoch: 7 ; trMAE = 0.8298 trMSE = 1.2509\n",
      "Epoch: 8 ; trMAE = 0.8101 trMSE = 1.2074\n",
      "Epoch: 9 ; trMAE = 0.8006 trMSE = 1.1773\n",
      "Epoch: 10 ; trMAE = 0.7799 trMSE = 1.1403\n",
      "Epoch: 11 ; trMAE = 0.7709 trMSE = 1.1054\n",
      "Epoch: 12 ; trMAE = 0.7565 trMSE = 1.0706\n",
      "Epoch: 13 ; trMAE = 0.7488 trMSE = 1.0341\n",
      "Epoch: 14 ; trMAE = 0.7210 trMSE = 0.9806\n",
      "Epoch: 15 ; trMAE = 0.7117 trMSE = 0.9762\n",
      "Epoch: 16 ; trMAE = 0.6944 trMSE = 0.9233\n",
      "Epoch: 17 ; trMAE = 0.6854 trMSE = 0.8989\n",
      "Epoch: 18 ; trMAE = 0.6728 trMSE = 0.8704\n",
      "Epoch: 19 ; trMAE = 0.6616 trMSE = 0.8405\n",
      "Epoch: 20 ; trMAE = 0.6452 trMSE = 0.8129\n",
      "Epoch: 21 ; trMAE = 0.6322 trMSE = 0.7893\n",
      "Epoch: 22 ; trMAE = 0.6204 trMSE = 0.7556\n",
      "Epoch: 23 ; trMAE = 0.6034 trMSE = 0.7245\n",
      "Epoch: 24 ; trMAE = 0.5946 trMSE = 0.7041\n",
      "Epoch: 25 ; trMAE = 0.5761 trMSE = 0.6763\n",
      "Epoch: 26 ; trMAE = 0.5644 trMSE = 0.6532\n",
      "Epoch: 27 ; trMAE = 0.5537 trMSE = 0.6206\n",
      "Epoch: 28 ; trMAE = 0.5377 trMSE = 0.6023\n",
      "Epoch: 29 ; trMAE = 0.5276 trMSE = 0.5726\n",
      "Epoch: 30 ; trMAE = 0.5098 trMSE = 0.5407\n",
      "Epoch: 31 ; trMAE = 0.5010 trMSE = 0.5352\n",
      "Epoch: 32 ; trMAE = 0.4872 trMSE = 0.5019\n",
      "Epoch: 33 ; trMAE = 0.4807 trMSE = 0.4960\n",
      "Epoch: 34 ; trMAE = 0.4611 trMSE = 0.4558\n",
      "Epoch: 35 ; trMAE = 0.4533 trMSE = 0.4366\n",
      "Epoch: 36 ; trMAE = 0.4455 trMSE = 0.4267\n",
      "Epoch: 37 ; trMAE = 0.4334 trMSE = 0.4162\n",
      "Epoch: 38 ; trMAE = 0.4253 trMSE = 0.3923\n",
      "Epoch: 39 ; trMAE = 0.4177 trMSE = 0.3804\n",
      "Epoch: 40 ; trMAE = 0.4071 trMSE = 0.3613\n",
      "Epoch: 41 ; trMAE = 0.4031 trMSE = 0.3553\n",
      "Epoch: 42 ; trMAE = 0.3908 trMSE = 0.3445\n",
      "Epoch: 43 ; trMAE = 0.3842 trMSE = 0.3315\n",
      "Epoch: 44 ; trMAE = 0.3761 trMSE = 0.3341\n",
      "Epoch: 45 ; trMAE = 0.3691 trMSE = 0.2979\n",
      "Epoch: 46 ; trMAE = 0.3645 trMSE = 0.2978\n",
      "Epoch: 47 ; trMAE = 0.3586 trMSE = 0.2962\n",
      "Epoch: 48 ; trMAE = 0.3568 trMSE = 0.2901\n",
      "Epoch: 49 ; trMAE = 0.3471 trMSE = 0.2749\n",
      "Epoch: 50 ; trMAE = 0.3395 trMSE = 0.2611\n"
     ]
    }
   ],
   "source": [
    "train_log = rs2.entrenar_modelo_manualmente(\n",
    "    train_samples = rs2.samples,\n",
    "    valid_samples = None,\n",
    "    embSize = 50,\n",
    "    lr = 0.01,\n",
    "    wd = 0.1,\n",
    "    epochs=50)"
   ]
  },
  {
   "cell_type": "markdown",
   "id": "508cd2be",
   "metadata": {},
   "source": [
    "### Sugerencias (ids de producto) para un usario concreto."
   ]
  },
  {
   "cell_type": "code",
   "execution_count": 9,
   "id": "c5ad0cab",
   "metadata": {},
   "outputs": [
    {
     "data": {
      "text/plain": [
       "array([113234,  74810,  35042,  53746,  74737,  29012,  29336,  28949,\n",
       "        28915,  28978,  29097,  29066,  29122,  28968,  74714,  36419,\n",
       "        35033,  28988,  35029,  35062,  28947,  29065,  28970,  29078,\n",
       "        28975,  29000,  28946,  29070,  29137,  35289,  28998])"
      ]
     },
     "execution_count": 9,
     "metadata": {},
     "output_type": "execute_result"
    }
   ],
   "source": [
    "rs2.sugerirProds_a_usuarioConcreto(user_id=21726, limit=0.3)"
   ]
  },
  {
   "cell_type": "markdown",
   "id": "f30fdc34",
   "metadata": {},
   "source": [
    "### Sugerencias (ids de producto) para ciertos usarios filtrados."
   ]
  },
  {
   "cell_type": "code",
   "execution_count": 11,
   "id": "060a33f8",
   "metadata": {},
   "outputs": [
    {
     "data": {
      "text/plain": [
       "array([ 35064,  28968,  29141,  53746, 113234,  29336,  29122,  28949,\n",
       "        28978,  28906,  28946,  28970,  29130,  29000,  28915,  36419,\n",
       "        28947,  74810,  28913,  29012,  29002,  28988,  39208,  35033,\n",
       "        55963,  28983,  28981,  74737,  28975, 113233,  74760,  29366,\n",
       "        35075,  29128,  29137,  74761,  35293,  28912,  35029,  35042,\n",
       "        29001,  29225,  28887,  28884,  28942])"
      ]
     },
     "execution_count": 11,
     "metadata": {},
     "output_type": "execute_result"
    }
   ],
   "source": [
    "rs2.sugerirProds_a_usuariosFiltrados(user_ids=[21726,21728], limit=0.3)"
   ]
  },
  {
   "cell_type": "markdown",
   "id": "0dd7913d",
   "metadata": {},
   "source": [
    "### Audiencia (ids de usuarios) para un producto concreto."
   ]
  },
  {
   "cell_type": "code",
   "execution_count": 14,
   "id": "9902a46f",
   "metadata": {},
   "outputs": [
    {
     "data": {
      "text/plain": [
       "array([148858,  97439,  29183,  22785,  31569,  52531,  28336,  49553,\n",
       "       533329, 220041, 538277,  55325,  76677,  49982, 165813, 307269,\n",
       "        23817, 530579,  43881,  28428, 146129, 155104, 534166,  47450,\n",
       "        23087,  38759, 536407,  44090,  28460,  77186,  36305, 156327,\n",
       "       145451,  30191,  38673,  29776,  75381,  42714, 161425, 536403,\n",
       "       534216, 152993,  41927,  32182])"
      ]
     },
     "execution_count": 14,
     "metadata": {},
     "output_type": "execute_result"
    }
   ],
   "source": [
    "rs2.adienciaUsuaros_de_productoConcreto(item_id=28863, limit=0.4)"
   ]
  },
  {
   "cell_type": "markdown",
   "id": "37c3f05a",
   "metadata": {},
   "source": [
    "### Audiencia (ids de usuarios) para ciertos productos filtrados."
   ]
  },
  {
   "cell_type": "code",
   "execution_count": 17,
   "id": "fa394150",
   "metadata": {},
   "outputs": [
    {
     "data": {
      "text/plain": [
       "array([ 26047, 171353,  60168,  33475,  47404, 537403,  57779,  72097,\n",
       "        54120,  28428, 161711,  60202,  76685,  76184,  58778, 538353,\n",
       "       142999,  49781, 153434,  47289, 150548,  45057,  27133,  47436,\n",
       "        28285,  43455,  46113, 155350,  54406,  44147, 144197,  26013,\n",
       "       283727,  98371,  31756, 231433,  99665,  58544,  50139, 169059,\n",
       "       163217,  28920,  27483,  30326,  26437,  51453,  26062,  59487,\n",
       "       398570,  28039,  71620,  58977,  22750, 149815,  24292, 159502,\n",
       "        24429,  44197, 156634, 145451,  77130,  73437,  76677,  25319,\n",
       "       171563, 323520, 220041,  42046,  43916,  22719, 150870,  25267,\n",
       "        41035,  73893,  37037, 147617,  50518, 383138,  77215,  36431,\n",
       "        25485,  27452, 195787,  30932,  27222, 536403,  30479])"
      ]
     },
     "execution_count": 17,
     "metadata": {},
     "output_type": "execute_result"
    }
   ],
   "source": [
    "rs2.adienciaUsuaros_de_productosFiltrados(item_ids=[28863,28864,28865], limit=0.4)"
   ]
  },
  {
   "cell_type": "markdown",
   "id": "e4bcc45e",
   "metadata": {},
   "source": [
    "### Ids de producto que normalmente se compran junto a este producto."
   ]
  },
  {
   "cell_type": "code",
   "execution_count": 18,
   "id": "597e9692",
   "metadata": {},
   "outputs": [
    {
     "data": {
      "text/plain": [
       "array([28863, 29044, 36467, 56581, 29107, 39228, 35067])"
      ]
     },
     "execution_count": 18,
     "metadata": {},
     "output_type": "execute_result"
    }
   ],
   "source": [
    "rs2.productos_parecidos(item_id=28863, limit=0.3)"
   ]
  }
 ],
 "metadata": {
  "kernelspec": {
   "display_name": "Python 3 (ipykernel)",
   "language": "python",
   "name": "python3"
  },
  "language_info": {
   "codemirror_mode": {
    "name": "ipython",
    "version": 3
   },
   "file_extension": ".py",
   "mimetype": "text/x-python",
   "name": "python",
   "nbconvert_exporter": "python",
   "pygments_lexer": "ipython3",
   "version": "3.10.8"
  }
 },
 "nbformat": 4,
 "nbformat_minor": 5
}
