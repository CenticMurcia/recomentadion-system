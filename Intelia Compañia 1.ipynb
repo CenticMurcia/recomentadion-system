{
 "cells": [
  {
   "cell_type": "markdown",
   "id": "ba4f7e4d",
   "metadata": {},
   "source": [
    "- https://albertauyeung.github.io/2017/04/23/python-matrix-factorization.html"
   ]
  },
  {
   "cell_type": "markdown",
   "id": "cfca7959",
   "metadata": {},
   "source": [
    "# Imports"
   ]
  },
  {
   "cell_type": "code",
   "execution_count": 1,
   "id": "8e96b797",
   "metadata": {},
   "outputs": [],
   "source": [
    "import numpy as np\n",
    "import pandas as pd\n",
    "import matplotlib.pyplot as plt\n",
    "from scipy.special import boxcox, inv_boxcox\n",
    "from scipy import stats\n",
    "\n",
    "from recommenderSystem import RecSys"
   ]
  },
  {
   "cell_type": "markdown",
   "id": "a1afe13f",
   "metadata": {},
   "source": [
    "# Datios Intelia"
   ]
  },
  {
   "cell_type": "code",
   "execution_count": 2,
   "id": "02e3b1c1",
   "metadata": {},
   "outputs": [
    {
     "name": "stdout",
     "output_type": "stream",
     "text": [
      "customers.csv  products.csv  relation.csv\r\n"
     ]
    }
   ],
   "source": [
    "!ls data"
   ]
  },
  {
   "cell_type": "code",
   "execution_count": 3,
   "id": "32cf6862",
   "metadata": {},
   "outputs": [
    {
     "name": "stderr",
     "output_type": "stream",
     "text": [
      "/tmp/ipykernel_778/3077265193.py:3: DtypeWarning: Columns (7,9,10,11,12,13,17,18,21,26,27,28,30,36) have mixed types. Specify dtype option on import or set low_memory=False.\n",
      "  users = pd.read_csv(dataPath + \"customers.csv\")\n",
      "/tmp/ipykernel_778/3077265193.py:4: DtypeWarning: Columns (20,32,34,39) have mixed types. Specify dtype option on import or set low_memory=False.\n",
      "  items = pd.read_csv(dataPath + \"products.csv\")\n"
     ]
    }
   ],
   "source": [
    "dataPath = \"data/\"\n",
    "\n",
    "users = pd.read_csv(dataPath + \"customers.csv\")\n",
    "items = pd.read_csv(dataPath + \"products.csv\")\n",
    "pairs = pd.read_csv(dataPath + \"relation.csv\")"
   ]
  },
  {
   "cell_type": "markdown",
   "id": "4a1f401c",
   "metadata": {},
   "source": [
    "# Compañía 1"
   ]
  },
  {
   "cell_type": "code",
   "execution_count": 4,
   "id": "c6515df8",
   "metadata": {},
   "outputs": [],
   "source": [
    "pairs = pairs[ pairs.company_id == 1].copy()\n",
    "users = users[ users.company_id == 1].copy()\n",
    "items = items[ items.company_id == 1].copy()"
   ]
  },
  {
   "cell_type": "code",
   "execution_count": 5,
   "id": "88ae31b7",
   "metadata": {},
   "outputs": [
    {
     "data": {
      "text/html": [
       "<div>\n",
       "<style scoped>\n",
       "    .dataframe tbody tr th:only-of-type {\n",
       "        vertical-align: middle;\n",
       "    }\n",
       "\n",
       "    .dataframe tbody tr th {\n",
       "        vertical-align: top;\n",
       "    }\n",
       "\n",
       "    .dataframe thead th {\n",
       "        text-align: right;\n",
       "    }\n",
       "</style>\n",
       "<table border=\"1\" class=\"dataframe\">\n",
       "  <thead>\n",
       "    <tr style=\"text-align: right;\">\n",
       "      <th></th>\n",
       "      <th>company_id</th>\n",
       "      <th>product_id</th>\n",
       "      <th>customer_id</th>\n",
       "      <th>compras</th>\n",
       "      <th>visto</th>\n",
       "      <th>peso</th>\n",
       "      <th>ultimo</th>\n",
       "    </tr>\n",
       "  </thead>\n",
       "  <tbody>\n",
       "    <tr>\n",
       "      <th>7127</th>\n",
       "      <td>1</td>\n",
       "      <td>42</td>\n",
       "      <td>220420</td>\n",
       "      <td>5</td>\n",
       "      <td>0</td>\n",
       "      <td>15.0</td>\n",
       "      <td>2022-08-02 22:06:53</td>\n",
       "    </tr>\n",
       "    <tr>\n",
       "      <th>142</th>\n",
       "      <td>1</td>\n",
       "      <td>1</td>\n",
       "      <td>155470</td>\n",
       "      <td>4</td>\n",
       "      <td>0</td>\n",
       "      <td>12.0</td>\n",
       "      <td>2022-10-16 22:16:57</td>\n",
       "    </tr>\n",
       "    <tr>\n",
       "      <th>1514</th>\n",
       "      <td>1</td>\n",
       "      <td>10</td>\n",
       "      <td>45</td>\n",
       "      <td>1</td>\n",
       "      <td>0</td>\n",
       "      <td>3.0</td>\n",
       "      <td>2021-08-19 21:28:52</td>\n",
       "    </tr>\n",
       "    <tr>\n",
       "      <th>7881</th>\n",
       "      <td>1</td>\n",
       "      <td>48</td>\n",
       "      <td>116</td>\n",
       "      <td>5</td>\n",
       "      <td>0</td>\n",
       "      <td>15.0</td>\n",
       "      <td>2022-10-07 23:02:54</td>\n",
       "    </tr>\n",
       "  </tbody>\n",
       "</table>\n",
       "</div>"
      ],
      "text/plain": [
       "      company_id  product_id  customer_id  compras  visto  peso  \\\n",
       "7127           1          42       220420        5      0  15.0   \n",
       "142            1           1       155470        4      0  12.0   \n",
       "1514           1          10           45        1      0   3.0   \n",
       "7881           1          48          116        5      0  15.0   \n",
       "\n",
       "                   ultimo  \n",
       "7127  2022-08-02 22:06:53  \n",
       "142   2022-10-16 22:16:57  \n",
       "1514  2021-08-19 21:28:52  \n",
       "7881  2022-10-07 23:02:54  "
      ]
     },
     "execution_count": 5,
     "metadata": {},
     "output_type": "execute_result"
    }
   ],
   "source": [
    "pairs.sample(4)"
   ]
  },
  {
   "cell_type": "markdown",
   "id": "a5730c21",
   "metadata": {},
   "source": [
    "### Solo hay compras (no hay visitas)"
   ]
  },
  {
   "cell_type": "code",
   "execution_count": 6,
   "id": "a96299e7",
   "metadata": {},
   "outputs": [
    {
     "data": {
      "text/html": [
       "<div>\n",
       "<style scoped>\n",
       "    .dataframe tbody tr th:only-of-type {\n",
       "        vertical-align: middle;\n",
       "    }\n",
       "\n",
       "    .dataframe tbody tr th {\n",
       "        vertical-align: top;\n",
       "    }\n",
       "\n",
       "    .dataframe thead th {\n",
       "        text-align: right;\n",
       "    }\n",
       "</style>\n",
       "<table border=\"1\" class=\"dataframe\">\n",
       "  <thead>\n",
       "    <tr style=\"text-align: right;\">\n",
       "      <th></th>\n",
       "      <th>company_id</th>\n",
       "      <th>product_id</th>\n",
       "      <th>customer_id</th>\n",
       "      <th>compras</th>\n",
       "      <th>visto</th>\n",
       "      <th>peso</th>\n",
       "      <th>ultimo</th>\n",
       "    </tr>\n",
       "  </thead>\n",
       "  <tbody>\n",
       "  </tbody>\n",
       "</table>\n",
       "</div>"
      ],
      "text/plain": [
       "Empty DataFrame\n",
       "Columns: [company_id, product_id, customer_id, compras, visto, peso, ultimo]\n",
       "Index: []"
      ]
     },
     "execution_count": 6,
     "metadata": {},
     "output_type": "execute_result"
    }
   ],
   "source": [
    "pairs[pairs.visto>0]"
   ]
  },
  {
   "cell_type": "markdown",
   "id": "7ead335f",
   "metadata": {},
   "source": [
    "# Definir peso usuario-producto"
   ]
  },
  {
   "cell_type": "code",
   "execution_count": 7,
   "id": "b716c258",
   "metadata": {},
   "outputs": [
    {
     "name": "stdout",
     "output_type": "stream",
     "text": [
      "Mean: 4.1120876545007095\n",
      "Median: 4.375\n",
      "Std: 0.7686478068419343\n"
     ]
    },
    {
     "data": {
      "text/plain": [
       "<AxesSubplot:ylabel='Frequency'>"
      ]
     },
     "execution_count": 7,
     "metadata": {},
     "output_type": "execute_result"
    },
    {
     "data": {
      "image/png": "[encoded data removed]",
      "text/plain": [
       "<Figure size 640x480 with 1 Axes>"
      ]
     },
     "metadata": {},
     "output_type": "display_data"
    }
   ],
   "source": [
    "def funcRacional_visitas(x):\n",
    "    return (1 * x) / (x + 5)\n",
    "\n",
    "def funcRacional_compras(x):\n",
    "    return (5 * x) / (x + 1)\n",
    "\n",
    "def getPeso(col_compras, col_visitias):\n",
    "    return funcRacional_compras(col_compras + funcRacional_visitas(col_visitias) ).copy()\n",
    "\n",
    "pairs[\"peso\"] = getPeso(pairs[\"compras\"], pairs[\"visto\"])\n",
    "\n",
    "print(\"Mean:\",   pairs[\"peso\"].mean())\n",
    "print(\"Median:\", pairs[\"peso\"].median())\n",
    "print(\"Std:\",    pairs[\"peso\"].std())\n",
    "\n",
    "pairs[\"peso\"].plot.hist(bins=30)"
   ]
  },
  {
   "cell_type": "markdown",
   "id": "d6c4b872",
   "metadata": {},
   "source": [
    "# Compañia 1"
   ]
  },
  {
   "cell_type": "code",
   "execution_count": 8,
   "id": "79565e45",
   "metadata": {},
   "outputs": [
    {
     "name": "stdout",
     "output_type": "stream",
     "text": [
      "Number of users: 316\n",
      "Number of items: 297\n",
      "Number of interactions: 15204\n"
     ]
    },
    {
     "data": {
      "image/png": "[encoded data removed]",
      "text/plain": [
       "<PIL.Image.Image image mode=L size=504x427>"
      ]
     },
     "metadata": {},
     "output_type": "display_data"
    },
    {
     "data": {
      "image/png": "[encoded data removed]",
      "text/plain": [
       "<Figure size 400x200 with 1 Axes>"
      ]
     },
     "metadata": {},
     "output_type": "display_data"
    }
   ],
   "source": [
    "rs = RecSys(pairs, users, items, userName=\"customer_id\", itemName=\"product_id\", scoreName=\"peso\")\n",
    "rs.draw_matrix()"
   ]
  },
  {
   "cell_type": "markdown",
   "id": "fd334ea4",
   "metadata": {},
   "source": [
    "## Train with fast.ai"
   ]
  },
  {
   "cell_type": "code",
   "execution_count": 9,
   "id": "cc54e818",
   "metadata": {},
   "outputs": [
    {
     "data": {
      "text/html": [
       "\n",
       "<style>\n",
       "    /* Turns off some styling */\n",
       "    progress {\n",
       "        /* gets rid of default border in Firefox and Opera. */\n",
       "        border: none;\n",
       "        /* Needs to be in here for Safari polyfill so background images work as expected. */\n",
       "        background-size: auto;\n",
       "    }\n",
       "    progress:not([value]), progress:not([value])::-webkit-progress-bar {\n",
       "        background: repeating-linear-gradient(45deg, #7e7e7e, #7e7e7e 10px, #5c5c5c 10px, #5c5c5c 20px);\n",
       "    }\n",
       "    .progress-bar-interrupted, .progress-bar-interrupted::-webkit-progress-bar {\n",
       "        background: #F44336;\n",
       "    }\n",
       "</style>\n"
      ],
      "text/plain": [
       "<IPython.core.display.HTML object>"
      ]
     },
     "metadata": {},
     "output_type": "display_data"
    },
    {
     "data": {
      "text/html": [
       "<table border=\"1\" class=\"dataframe\">\n",
       "  <thead>\n",
       "    <tr style=\"text-align: left;\">\n",
       "      <th>epoch</th>\n",
       "      <th>train_loss</th>\n",
       "      <th>valid_loss</th>\n",
       "      <th>mae</th>\n",
       "      <th>time</th>\n",
       "    </tr>\n",
       "  </thead>\n",
       "  <tbody>\n",
       "    <tr>\n",
       "      <td>0</td>\n",
       "      <td>0.939834</td>\n",
       "      <td>0.352609</td>\n",
       "      <td>0.428379</td>\n",
       "      <td>00:00</td>\n",
       "    </tr>\n",
       "    <tr>\n",
       "      <td>1</td>\n",
       "      <td>0.302630</td>\n",
       "      <td>0.294822</td>\n",
       "      <td>0.398631</td>\n",
       "      <td>00:00</td>\n",
       "    </tr>\n",
       "    <tr>\n",
       "      <td>2</td>\n",
       "      <td>0.248565</td>\n",
       "      <td>0.271550</td>\n",
       "      <td>0.381417</td>\n",
       "      <td>00:00</td>\n",
       "    </tr>\n",
       "    <tr>\n",
       "      <td>3</td>\n",
       "      <td>0.221968</td>\n",
       "      <td>0.258197</td>\n",
       "      <td>0.369266</td>\n",
       "      <td>00:00</td>\n",
       "    </tr>\n",
       "    <tr>\n",
       "      <td>4</td>\n",
       "      <td>0.193653</td>\n",
       "      <td>0.257533</td>\n",
       "      <td>0.369097</td>\n",
       "      <td>00:00</td>\n",
       "    </tr>\n",
       "  </tbody>\n",
       "</table>"
      ],
      "text/plain": [
       "<IPython.core.display.HTML object>"
      ]
     },
     "metadata": {},
     "output_type": "display_data"
    }
   ],
   "source": [
    "from fastai.tabular.all import *\n",
    "from fastai.collab import *\n",
    "\n",
    "dls = CollabDataLoaders.from_df(ratings=pairs,\n",
    "                                valid_pct=0.2,\n",
    "                                user_name=\"customer_id\",\n",
    "                                item_name=\"product_id\",\n",
    "                                rating_name=\"peso\",\n",
    "                                seed=None,\n",
    "                                bs=64)\n",
    "\n",
    "learn = collab_learner(dls, n_factors=50, y_range=(0, 5.5), metrics=[mae])\n",
    "learn.fit_one_cycle(5, 0.005, wd=0.1)"
   ]
  },
  {
   "cell_type": "code",
   "execution_count": 10,
   "id": "9a8eed29",
   "metadata": {},
   "outputs": [
    {
     "data": {
      "text/plain": [
       "Parameter containing:\n",
       "tensor([[ 0.0048, -0.0079, -0.0018,  ..., -0.0117, -0.0032,  0.0090],\n",
       "        [-0.0395,  0.0227, -0.0967,  ..., -0.0647, -0.0083, -0.0338],\n",
       "        [-0.0217, -0.0061,  0.0100,  ...,  0.0077, -0.0195, -0.0115],\n",
       "        ...,\n",
       "        [-0.0363,  0.0224, -0.0427,  ..., -0.0330,  0.0250, -0.0002],\n",
       "        [-0.1156,  0.0729, -0.0517,  ..., -0.0512,  0.0294, -0.0517],\n",
       "        [-0.0118, -0.0014,  0.0079,  ..., -0.0015,  0.0034, -0.0177]],\n",
       "       device='cuda:0', requires_grad=True)"
      ]
     },
     "execution_count": 10,
     "metadata": {},
     "output_type": "execute_result"
    }
   ],
   "source": [
    "u = learn.u_weight\n",
    "u.weight"
   ]
  },
  {
   "cell_type": "code",
   "execution_count": 11,
   "id": "c5122817",
   "metadata": {},
   "outputs": [
    {
     "data": {
      "text/plain": [
       "<bound method EmbeddingDotBias.bias of EmbeddingDotBias(\n",
       "  (u_weight): Embedding(314, 50)\n",
       "  (i_weight): Embedding(280, 50)\n",
       "  (u_bias): Embedding(314, 1)\n",
       "  (i_bias): Embedding(280, 1)\n",
       ")>"
      ]
     },
     "execution_count": 11,
     "metadata": {},
     "output_type": "execute_result"
    }
   ],
   "source": [
    "learn.bias"
   ]
  },
  {
   "cell_type": "code",
   "execution_count": 13,
   "id": "fd5ca5d3",
   "metadata": {},
   "outputs": [
    {
     "data": {
      "text/plain": [
       "Embedding(314, 1)"
      ]
     },
     "execution_count": 13,
     "metadata": {},
     "output_type": "execute_result"
    }
   ],
   "source": [
    "learn.u_bias"
   ]
  },
  {
   "cell_type": "markdown",
   "id": "2aa70154",
   "metadata": {},
   "source": [
    "## Train with my module"
   ]
  },
  {
   "cell_type": "code",
   "execution_count": 42,
   "id": "a2423d67",
   "metadata": {},
   "outputs": [
    {
     "name": "stdout",
     "output_type": "stream",
     "text": [
      "Epoch: 1 ; trMAE = 0.8466 trMSE = 0.9880 valMAE = 1.1761 valMSE = 1.7383\n",
      "Epoch: 2 ; trMAE = 0.7393 trMSE = 0.7954 valMAE = 1.1466 valMSE = 1.7230\n",
      "Epoch: 3 ; trMAE = 0.6867 trMSE = 0.7084 valMAE = 1.1290 valMSE = 1.7243\n",
      "Epoch: 4 ; trMAE = 0.6566 trMSE = 0.6602 valMAE = 1.1188 valMSE = 1.7287\n",
      "Epoch: 5 ; trMAE = 0.6360 trMSE = 0.6290 valMAE = 1.1138 valMSE = 1.7360\n",
      "Epoch: 6 ; trMAE = 0.6245 trMSE = 0.6082 valMAE = 1.1080 valMSE = 1.7350\n",
      "Epoch: 7 ; trMAE = 0.6147 trMSE = 0.5923 valMAE = 1.1040 valMSE = 1.7366\n",
      "Epoch: 8 ; trMAE = 0.6071 trMSE = 0.5799 valMAE = 1.1005 valMSE = 1.7348\n",
      "Epoch: 9 ; trMAE = 0.6019 trMSE = 0.5706 valMAE = 1.0969 valMSE = 1.7319\n",
      "Epoch: 10 ; trMAE = 0.5974 trMSE = 0.5623 valMAE = 1.0947 valMSE = 1.7302\n",
      "Epoch: 11 ; trMAE = 0.5937 trMSE = 0.5554 valMAE = 1.0920 valMSE = 1.7278\n",
      "Epoch: 12 ; trMAE = 0.5895 trMSE = 0.5489 valMAE = 1.0905 valMSE = 1.7270\n",
      "Epoch: 13 ; trMAE = 0.5861 trMSE = 0.5431 valMAE = 1.0883 valMSE = 1.7232\n",
      "Epoch: 14 ; trMAE = 0.5825 trMSE = 0.5370 valMAE = 1.0867 valMSE = 1.7225\n",
      "Epoch: 15 ; trMAE = 0.5788 trMSE = 0.5316 valMAE = 1.0840 valMSE = 1.7176\n",
      "Epoch: 16 ; trMAE = 0.5741 trMSE = 0.5253 valMAE = 1.0836 valMSE = 1.7181\n",
      "Epoch: 17 ; trMAE = 0.5718 trMSE = 0.5201 valMAE = 1.0811 valMSE = 1.7115\n",
      "Epoch: 18 ; trMAE = 0.5672 trMSE = 0.5135 valMAE = 1.0792 valMSE = 1.7089\n",
      "Epoch: 19 ; trMAE = 0.5622 trMSE = 0.5070 valMAE = 1.0782 valMSE = 1.7065\n",
      "Epoch: 20 ; trMAE = 0.5596 trMSE = 0.5007 valMAE = 1.0744 valMSE = 1.6963\n",
      "Epoch: 21 ; trMAE = 0.5552 trMSE = 0.4938 valMAE = 1.0725 valMSE = 1.6920\n",
      "Epoch: 22 ; trMAE = 0.5495 trMSE = 0.4867 valMAE = 1.0714 valMSE = 1.6895\n",
      "Epoch: 23 ; trMAE = 0.5464 trMSE = 0.4805 valMAE = 1.0690 valMSE = 1.6834\n",
      "Epoch: 24 ; trMAE = 0.5410 trMSE = 0.4732 valMAE = 1.0675 valMSE = 1.6793\n",
      "Epoch: 25 ; trMAE = 0.5372 trMSE = 0.4669 valMAE = 1.0652 valMSE = 1.6737\n",
      "Epoch: 26 ; trMAE = 0.5336 trMSE = 0.4608 valMAE = 1.0635 valMSE = 1.6690\n",
      "Epoch: 27 ; trMAE = 0.5286 trMSE = 0.4545 valMAE = 1.0628 valMSE = 1.6667\n",
      "Epoch: 28 ; trMAE = 0.5246 trMSE = 0.4485 valMAE = 1.0615 valMSE = 1.6630\n",
      "Epoch: 29 ; trMAE = 0.5220 trMSE = 0.4432 valMAE = 1.0593 valMSE = 1.6558\n",
      "Epoch: 30 ; trMAE = 0.5187 trMSE = 0.4380 valMAE = 1.0579 valMSE = 1.6515\n",
      "Epoch: 31 ; trMAE = 0.5146 trMSE = 0.4325 valMAE = 1.0567 valMSE = 1.6483\n",
      "Epoch: 32 ; trMAE = 0.5118 trMSE = 0.4278 valMAE = 1.0557 valMSE = 1.6451\n",
      "Epoch: 33 ; trMAE = 0.5087 trMSE = 0.4228 valMAE = 1.0541 valMSE = 1.6398\n",
      "Epoch: 34 ; trMAE = 0.5059 trMSE = 0.4182 valMAE = 1.0524 valMSE = 1.6357\n",
      "Epoch: 35 ; trMAE = 0.5027 trMSE = 0.4137 valMAE = 1.0523 valMSE = 1.6348\n",
      "Epoch: 36 ; trMAE = 0.5005 trMSE = 0.4098 valMAE = 1.0506 valMSE = 1.6290\n",
      "Epoch: 37 ; trMAE = 0.4968 trMSE = 0.4055 valMAE = 1.0508 valMSE = 1.6285\n",
      "Epoch: 38 ; trMAE = 0.4944 trMSE = 0.4017 valMAE = 1.0494 valMSE = 1.6248\n",
      "Epoch: 39 ; trMAE = 0.4936 trMSE = 0.3986 valMAE = 1.0477 valMSE = 1.6204\n",
      "Epoch: 40 ; trMAE = 0.4907 trMSE = 0.3949 valMAE = 1.0474 valMSE = 1.6191\n",
      "Epoch: 41 ; trMAE = 0.4884 trMSE = 0.3918 valMAE = 1.0465 valMSE = 1.6157\n",
      "Epoch: 42 ; trMAE = 0.4875 trMSE = 0.3889 valMAE = 1.0447 valMSE = 1.6107\n",
      "Epoch: 43 ; trMAE = 0.4855 trMSE = 0.3861 valMAE = 1.0448 valMSE = 1.6101\n",
      "Epoch: 44 ; trMAE = 0.4839 trMSE = 0.3831 valMAE = 1.0435 valMSE = 1.6063\n",
      "Epoch: 45 ; trMAE = 0.4812 trMSE = 0.3800 valMAE = 1.0434 valMSE = 1.6062\n",
      "Epoch: 46 ; trMAE = 0.4797 trMSE = 0.3779 valMAE = 1.0432 valMSE = 1.6052\n",
      "Epoch: 47 ; trMAE = 0.4779 trMSE = 0.3751 valMAE = 1.0426 valMSE = 1.6035\n",
      "Epoch: 48 ; trMAE = 0.4774 trMSE = 0.3733 valMAE = 1.0419 valMSE = 1.6010\n",
      "Epoch: 49 ; trMAE = 0.4750 trMSE = 0.3705 valMAE = 1.0411 valMSE = 1.5990\n",
      "Epoch: 50 ; trMAE = 0.4742 trMSE = 0.3686 valMAE = 1.0405 valMSE = 1.5973\n"
     ]
    }
   ],
   "source": [
    "split_idx = int(len(rs.samples) * 0.8)\n",
    "#np.random.shuffle(self.samples)\n",
    "train_samples = rs.samples[:split_idx]\n",
    "valid_samples = rs.samples[split_idx:]\n",
    "\n",
    "train_log = rs.entrenar_modelo_manualmente(\n",
    "    train_samples = train_samples,\n",
    "    valid_samples = valid_samples,\n",
    "    embSize = 50,\n",
    "    lr = 0.01,\n",
    "    wd = 0.1,\n",
    "    epochs=50)"
   ]
  },
  {
   "cell_type": "code",
   "execution_count": 43,
   "id": "32140eaa",
   "metadata": {},
   "outputs": [
    {
     "data": {
      "image/png": "[encoded data removed]",
      "text/plain": [
       "<Figure size 1600x400 with 1 Axes>"
      ]
     },
     "metadata": {},
     "output_type": "display_data"
    },
    {
     "data": {
      "image/png": "[encoded data removed]",
      "text/plain": [
       "<Figure size 1600x400 with 1 Axes>"
      ]
     },
     "metadata": {},
     "output_type": "display_data"
    }
   ],
   "source": [
    "rs.plot_training(train_log)"
   ]
  }
 ],
 "metadata": {
  "kernelspec": {
   "display_name": "Python 3 (ipykernel)",
   "language": "python",
   "name": "python3"
  },
  "language_info": {
   "codemirror_mode": {
    "name": "ipython",
    "version": 3
   },
   "file_extension": ".py",
   "mimetype": "text/x-python",
   "name": "python",
   "nbconvert_exporter": "python",
   "pygments_lexer": "ipython3",
   "version": "3.10.8"
  }
 },
 "nbformat": 4,
 "nbformat_minor": 5
}
